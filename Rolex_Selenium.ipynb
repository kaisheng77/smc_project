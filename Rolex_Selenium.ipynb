{
 "cells": [
  {
   "cell_type": "code",
   "execution_count": null,
   "id": "fba49c8e",
   "metadata": {
    "scrolled": false
   },
   "outputs": [],
   "source": [
    "pip install msedge-selenium-tools"
   ]
  },
  {
   "cell_type": "code",
   "execution_count": 71,
   "id": "a6a5815e",
   "metadata": {},
   "outputs": [],
   "source": [
    "import selenium\n",
    "from selenium import webdriver\n",
    "from selenium.webdriver.common.by import By\n",
    "from selenium.webdriver.common.keys import Keys\n",
    "import time\n",
    "from time import sleep\n",
    "from getpass import getpass\n",
    "import pandas as pd"
   ]
  },
  {
   "cell_type": "code",
   "execution_count": 72,
   "id": "48d357e9",
   "metadata": {},
   "outputs": [],
   "source": [
    "PATH = r\"C:\\Users\\user\\AppData\\Local\\Programs\\Common\\chromedriver.exe\""
   ]
  },
  {
   "cell_type": "code",
   "execution_count": 73,
   "id": "c0e145e5",
   "metadata": {},
   "outputs": [],
   "source": [
    "driver = webdriver.Chrome(PATH)\n",
    "driver.get(\"https://twitter.com/login\")"
   ]
  },
  {
   "cell_type": "code",
   "execution_count": 74,
   "id": "a3a65f7c",
   "metadata": {},
   "outputs": [],
   "source": [
    "subject = \"ROLEX\""
   ]
  },
  {
   "cell_type": "code",
   "execution_count": 75,
   "id": "5106b9ec",
   "metadata": {},
   "outputs": [],
   "source": [
    "username = driver.find_element(By.XPATH,\"//input[@name='text']\")\n",
    "username.send_keys(\"YuJade1133266\")"
   ]
  },
  {
   "cell_type": "code",
   "execution_count": 76,
   "id": "587ed71d",
   "metadata": {},
   "outputs": [],
   "source": [
    "next_button = driver.find_element(By.XPATH,\"//span[contains(text(), 'Next')]\")\n",
    "next_button.click()"
   ]
  },
  {
   "cell_type": "code",
   "execution_count": 77,
   "id": "04c66f12",
   "metadata": {
    "scrolled": true
   },
   "outputs": [
    {
     "name": "stdout",
     "output_type": "stream",
     "text": [
      "········\n"
     ]
    }
   ],
   "source": [
    "my_password = getpass() #type password"
   ]
  },
  {
   "cell_type": "code",
   "execution_count": 79,
   "id": "29c63e3b",
   "metadata": {},
   "outputs": [],
   "source": [
    "password = driver.find_element(By.XPATH,'//input[@name=\"password\"]')\n",
    "password.send_keys(my_password)"
   ]
  },
  {
   "cell_type": "code",
   "execution_count": 80,
   "id": "68483fbc",
   "metadata": {},
   "outputs": [],
   "source": [
    "log_in = driver.find_element(By.XPATH,\"//span[contains(text(), 'Log in')]\")\n",
    "log_in.click()"
   ]
  },
  {
   "cell_type": "code",
   "execution_count": 81,
   "id": "65077eb7",
   "metadata": {},
   "outputs": [],
   "source": [
    "#search item and fetch it\n",
    "search_box = driver.find_element(By.XPATH, \"//input[@data-testid='SearchBox_Search_Input']\")\n",
    "search_box.send_keys(subject)\n",
    "search_box.send_keys(Keys.ENTER)"
   ]
  },
  {
   "cell_type": "code",
   "execution_count": 82,
   "id": "678a36a7",
   "metadata": {},
   "outputs": [],
   "source": [
    "people = driver.find_element(By.XPATH,\"//span[contains(text(), 'People')]\")\n",
    "people.click()"
   ]
  },
  {
   "cell_type": "code",
   "execution_count": 83,
   "id": "6e5e567d",
   "metadata": {},
   "outputs": [],
   "source": [
    "profile = driver.find_element(By.XPATH,f\"//span[contains(text(), '{subject}')]\")\n",
    "profile.click()"
   ]
  },
  {
   "cell_type": "code",
   "execution_count": 84,
   "id": "05f9efd0",
   "metadata": {},
   "outputs": [],
   "source": [
    "#UserTags=[]\n",
    "TimeStamps=[]\n",
    "Tweets=[]\n",
    "Replies=[]\n",
    "reTweets=[]\n",
    "Likes=[]"
   ]
  },
  {
   "cell_type": "code",
   "execution_count": 85,
   "id": "6d468d45",
   "metadata": {},
   "outputs": [],
   "source": [
    "count = 0\n",
    "SCROLL_PAUSE_TIME = 0.5"
   ]
  },
  {
   "cell_type": "code",
   "execution_count": 86,
   "id": "5edbe9c5",
   "metadata": {
    "scrolled": true
   },
   "outputs": [
    {
     "name": "stdout",
     "output_type": "stream",
     "text": [
      "2023-06-27T14:00:22.000Z\n",
      "['A watch’s autonomy is not just a promise, it is a pact that works both ways. Whether yours or its own, movement will always beget movement. Discover more http://on.rolex.com/autonomy #Watchmaking #Perpetual']\n",
      "10\n",
      "58\n",
      "428\n",
      "2023-06-27T10:00:08.000Z\n",
      "['A watch’s autonomy is not just a promise, it is a pact that works both ways. Whether yours or its own, movement will always beget movement. Discover more http://on.rolex.com/autonomy #Watchmaking #Perpetual', 'This year marks the 10th anniversary of the #RolexGrandSlam of Show Jumping. And no better place to begin celebrations than at the #CHIOAachen, launchpad for the sport’s most coveted prize and a reference point for all equestrian events. More http://on.rolex.com/CHIOAachen #Perpetual']\n",
      "4\n",
      "58\n",
      "140\n",
      "2023-06-26T12:00:22.000Z\n",
      "['A watch’s autonomy is not just a promise, it is a pact that works both ways. Whether yours or its own, movement will always beget movement. Discover more http://on.rolex.com/autonomy #Watchmaking #Perpetual', 'This year marks the 10th anniversary of the #RolexGrandSlam of Show Jumping. And no better place to begin celebrations than at the #CHIOAachen, launchpad for the sport’s most coveted prize and a reference point for all equestrian events. More http://on.rolex.com/CHIOAachen #Perpetual', 'As a \\n@MissionBlue\\n Hope Spot Champion, Sandra Bessudo’s goal is to conserve the marine ecosystems around Malpelo Island. She currently works to create additional “swimways” to protect migrating species travelling through the oceans. More on http://bit.ly/malpelo_island_2… #PerpetualPlanet']\n",
      "12\n",
      "58\n",
      "275\n",
      "2023-06-27T14:00:22.000Z\n",
      "['A watch’s autonomy is not just a promise, it is a pact that works both ways. Whether yours or its own, movement will always beget movement. Discover more http://on.rolex.com/autonomy #Watchmaking #Perpetual', 'This year marks the 10th anniversary of the #RolexGrandSlam of Show Jumping. And no better place to begin celebrations than at the #CHIOAachen, launchpad for the sport’s most coveted prize and a reference point for all equestrian events. More http://on.rolex.com/CHIOAachen #Perpetual', 'As a \\n@MissionBlue\\n Hope Spot Champion, Sandra Bessudo’s goal is to conserve the marine ecosystems around Malpelo Island. She currently works to create additional “swimways” to protect migrating species travelling through the oceans. More on http://bit.ly/malpelo_island_2… #PerpetualPlanet', 'A watch’s autonomy is not just a promise, it is a pact that works both ways. Whether yours or its own, movement will always beget movement. Discover more http://on.rolex.com/autonomy #Watchmaking #Perpetual']\n",
      "10\n",
      "58\n",
      "428\n",
      "2023-06-27T10:00:08.000Z\n",
      "['A watch’s autonomy is not just a promise, it is a pact that works both ways. Whether yours or its own, movement will always beget movement. Discover more http://on.rolex.com/autonomy #Watchmaking #Perpetual', 'This year marks the 10th anniversary of the #RolexGrandSlam of Show Jumping. And no better place to begin celebrations than at the #CHIOAachen, launchpad for the sport’s most coveted prize and a reference point for all equestrian events. More http://on.rolex.com/CHIOAachen #Perpetual', 'As a \\n@MissionBlue\\n Hope Spot Champion, Sandra Bessudo’s goal is to conserve the marine ecosystems around Malpelo Island. She currently works to create additional “swimways” to protect migrating species travelling through the oceans. More on http://bit.ly/malpelo_island_2… #PerpetualPlanet', 'A watch’s autonomy is not just a promise, it is a pact that works both ways. Whether yours or its own, movement will always beget movement. Discover more http://on.rolex.com/autonomy #Watchmaking #Perpetual', 'This year marks the 10th anniversary of the #RolexGrandSlam of Show Jumping. And no better place to begin celebrations than at the #CHIOAachen, launchpad for the sport’s most coveted prize and a reference point for all equestrian events. More http://on.rolex.com/CHIOAachen #Perpetual']\n",
      "4\n",
      "58\n",
      "140\n",
      "2023-06-26T12:00:22.000Z\n",
      "['A watch’s autonomy is not just a promise, it is a pact that works both ways. Whether yours or its own, movement will always beget movement. Discover more http://on.rolex.com/autonomy #Watchmaking #Perpetual', 'This year marks the 10th anniversary of the #RolexGrandSlam of Show Jumping. And no better place to begin celebrations than at the #CHIOAachen, launchpad for the sport’s most coveted prize and a reference point for all equestrian events. More http://on.rolex.com/CHIOAachen #Perpetual', 'As a \\n@MissionBlue\\n Hope Spot Champion, Sandra Bessudo’s goal is to conserve the marine ecosystems around Malpelo Island. She currently works to create additional “swimways” to protect migrating species travelling through the oceans. More on http://bit.ly/malpelo_island_2… #PerpetualPlanet', 'A watch’s autonomy is not just a promise, it is a pact that works both ways. Whether yours or its own, movement will always beget movement. Discover more http://on.rolex.com/autonomy #Watchmaking #Perpetual', 'This year marks the 10th anniversary of the #RolexGrandSlam of Show Jumping. And no better place to begin celebrations than at the #CHIOAachen, launchpad for the sport’s most coveted prize and a reference point for all equestrian events. More http://on.rolex.com/CHIOAachen #Perpetual', 'As a \\n@MissionBlue\\n Hope Spot Champion, Sandra Bessudo’s goal is to conserve the marine ecosystems around Malpelo Island. She currently works to create additional “swimways” to protect migrating species travelling through the oceans. More on http://bit.ly/malpelo_island_2… #PerpetualPlanet']\n",
      "12\n",
      "58\n",
      "275\n",
      "2023-06-27T14:00:22.000Z\n",
      "['A watch’s autonomy is not just a promise, it is a pact that works both ways. Whether yours or its own, movement will always beget movement. Discover more http://on.rolex.com/autonomy #Watchmaking #Perpetual', 'This year marks the 10th anniversary of the #RolexGrandSlam of Show Jumping. And no better place to begin celebrations than at the #CHIOAachen, launchpad for the sport’s most coveted prize and a reference point for all equestrian events. More http://on.rolex.com/CHIOAachen #Perpetual', 'As a \\n@MissionBlue\\n Hope Spot Champion, Sandra Bessudo’s goal is to conserve the marine ecosystems around Malpelo Island. She currently works to create additional “swimways” to protect migrating species travelling through the oceans. More on http://bit.ly/malpelo_island_2… #PerpetualPlanet', 'A watch’s autonomy is not just a promise, it is a pact that works both ways. Whether yours or its own, movement will always beget movement. Discover more http://on.rolex.com/autonomy #Watchmaking #Perpetual', 'This year marks the 10th anniversary of the #RolexGrandSlam of Show Jumping. And no better place to begin celebrations than at the #CHIOAachen, launchpad for the sport’s most coveted prize and a reference point for all equestrian events. More http://on.rolex.com/CHIOAachen #Perpetual', 'As a \\n@MissionBlue\\n Hope Spot Champion, Sandra Bessudo’s goal is to conserve the marine ecosystems around Malpelo Island. She currently works to create additional “swimways” to protect migrating species travelling through the oceans. More on http://bit.ly/malpelo_island_2… #PerpetualPlanet', 'A watch’s autonomy is not just a promise, it is a pact that works both ways. Whether yours or its own, movement will always beget movement. Discover more http://on.rolex.com/autonomy #Watchmaking #Perpetual']\n",
      "10\n",
      "58\n",
      "428\n",
      "2023-06-27T10:00:08.000Z\n",
      "['A watch’s autonomy is not just a promise, it is a pact that works both ways. Whether yours or its own, movement will always beget movement. Discover more http://on.rolex.com/autonomy #Watchmaking #Perpetual', 'This year marks the 10th anniversary of the #RolexGrandSlam of Show Jumping. And no better place to begin celebrations than at the #CHIOAachen, launchpad for the sport’s most coveted prize and a reference point for all equestrian events. More http://on.rolex.com/CHIOAachen #Perpetual', 'As a \\n@MissionBlue\\n Hope Spot Champion, Sandra Bessudo’s goal is to conserve the marine ecosystems around Malpelo Island. She currently works to create additional “swimways” to protect migrating species travelling through the oceans. More on http://bit.ly/malpelo_island_2… #PerpetualPlanet', 'A watch’s autonomy is not just a promise, it is a pact that works both ways. Whether yours or its own, movement will always beget movement. Discover more http://on.rolex.com/autonomy #Watchmaking #Perpetual', 'This year marks the 10th anniversary of the #RolexGrandSlam of Show Jumping. And no better place to begin celebrations than at the #CHIOAachen, launchpad for the sport’s most coveted prize and a reference point for all equestrian events. More http://on.rolex.com/CHIOAachen #Perpetual', 'As a \\n@MissionBlue\\n Hope Spot Champion, Sandra Bessudo’s goal is to conserve the marine ecosystems around Malpelo Island. She currently works to create additional “swimways” to protect migrating species travelling through the oceans. More on http://bit.ly/malpelo_island_2… #PerpetualPlanet', 'A watch’s autonomy is not just a promise, it is a pact that works both ways. Whether yours or its own, movement will always beget movement. Discover more http://on.rolex.com/autonomy #Watchmaking #Perpetual', 'This year marks the 10th anniversary of the #RolexGrandSlam of Show Jumping. And no better place to begin celebrations than at the #CHIOAachen, launchpad for the sport’s most coveted prize and a reference point for all equestrian events. More http://on.rolex.com/CHIOAachen #Perpetual']\n"
     ]
    },
    {
     "name": "stdout",
     "output_type": "stream",
     "text": [
      "4\n",
      "58\n",
      "140\n",
      "2023-06-26T12:00:22.000Z\n",
      "['A watch’s autonomy is not just a promise, it is a pact that works both ways. Whether yours or its own, movement will always beget movement. Discover more http://on.rolex.com/autonomy #Watchmaking #Perpetual', 'This year marks the 10th anniversary of the #RolexGrandSlam of Show Jumping. And no better place to begin celebrations than at the #CHIOAachen, launchpad for the sport’s most coveted prize and a reference point for all equestrian events. More http://on.rolex.com/CHIOAachen #Perpetual', 'As a \\n@MissionBlue\\n Hope Spot Champion, Sandra Bessudo’s goal is to conserve the marine ecosystems around Malpelo Island. She currently works to create additional “swimways” to protect migrating species travelling through the oceans. More on http://bit.ly/malpelo_island_2… #PerpetualPlanet', 'A watch’s autonomy is not just a promise, it is a pact that works both ways. Whether yours or its own, movement will always beget movement. Discover more http://on.rolex.com/autonomy #Watchmaking #Perpetual', 'This year marks the 10th anniversary of the #RolexGrandSlam of Show Jumping. And no better place to begin celebrations than at the #CHIOAachen, launchpad for the sport’s most coveted prize and a reference point for all equestrian events. More http://on.rolex.com/CHIOAachen #Perpetual', 'As a \\n@MissionBlue\\n Hope Spot Champion, Sandra Bessudo’s goal is to conserve the marine ecosystems around Malpelo Island. She currently works to create additional “swimways” to protect migrating species travelling through the oceans. More on http://bit.ly/malpelo_island_2… #PerpetualPlanet', 'A watch’s autonomy is not just a promise, it is a pact that works both ways. Whether yours or its own, movement will always beget movement. Discover more http://on.rolex.com/autonomy #Watchmaking #Perpetual', 'This year marks the 10th anniversary of the #RolexGrandSlam of Show Jumping. And no better place to begin celebrations than at the #CHIOAachen, launchpad for the sport’s most coveted prize and a reference point for all equestrian events. More http://on.rolex.com/CHIOAachen #Perpetual', 'As a \\n@MissionBlue\\n Hope Spot Champion, Sandra Bessudo’s goal is to conserve the marine ecosystems around Malpelo Island. She currently works to create additional “swimways” to protect migrating species travelling through the oceans. More on http://bit.ly/malpelo_island_2… #PerpetualPlanet']\n",
      "12\n",
      "58\n",
      "275\n",
      "2023-06-25T08:00:03.000Z\n",
      "['A watch’s autonomy is not just a promise, it is a pact that works both ways. Whether yours or its own, movement will always beget movement. Discover more http://on.rolex.com/autonomy #Watchmaking #Perpetual', 'This year marks the 10th anniversary of the #RolexGrandSlam of Show Jumping. And no better place to begin celebrations than at the #CHIOAachen, launchpad for the sport’s most coveted prize and a reference point for all equestrian events. More http://on.rolex.com/CHIOAachen #Perpetual', 'As a \\n@MissionBlue\\n Hope Spot Champion, Sandra Bessudo’s goal is to conserve the marine ecosystems around Malpelo Island. She currently works to create additional “swimways” to protect migrating species travelling through the oceans. More on http://bit.ly/malpelo_island_2… #PerpetualPlanet', 'A watch’s autonomy is not just a promise, it is a pact that works both ways. Whether yours or its own, movement will always beget movement. Discover more http://on.rolex.com/autonomy #Watchmaking #Perpetual', 'This year marks the 10th anniversary of the #RolexGrandSlam of Show Jumping. And no better place to begin celebrations than at the #CHIOAachen, launchpad for the sport’s most coveted prize and a reference point for all equestrian events. More http://on.rolex.com/CHIOAachen #Perpetual', 'As a \\n@MissionBlue\\n Hope Spot Champion, Sandra Bessudo’s goal is to conserve the marine ecosystems around Malpelo Island. She currently works to create additional “swimways” to protect migrating species travelling through the oceans. More on http://bit.ly/malpelo_island_2… #PerpetualPlanet', 'A watch’s autonomy is not just a promise, it is a pact that works both ways. Whether yours or its own, movement will always beget movement. Discover more http://on.rolex.com/autonomy #Watchmaking #Perpetual', 'This year marks the 10th anniversary of the #RolexGrandSlam of Show Jumping. And no better place to begin celebrations than at the #CHIOAachen, launchpad for the sport’s most coveted prize and a reference point for all equestrian events. More http://on.rolex.com/CHIOAachen #Perpetual', 'As a \\n@MissionBlue\\n Hope Spot Champion, Sandra Bessudo’s goal is to conserve the marine ecosystems around Malpelo Island. She currently works to create additional “swimways” to protect migrating species travelling through the oceans. More on http://bit.ly/malpelo_island_2… #PerpetualPlanet', 'At this week’s Lindau Nobel Laureate Meeting, #RolexAwards for Enterprise winner Grégoire Courtine and Nobel Laureate Randy W. Schekman will discuss harnessing excellence in science for society. We support this event to foster generational exchange. #LIN023 #Perpetual']\n",
      "6\n",
      "58\n",
      "211\n",
      "2023-06-27T14:00:22.000Z\n",
      "['A watch’s autonomy is not just a promise, it is a pact that works both ways. Whether yours or its own, movement will always beget movement. Discover more http://on.rolex.com/autonomy #Watchmaking #Perpetual', 'This year marks the 10th anniversary of the #RolexGrandSlam of Show Jumping. And no better place to begin celebrations than at the #CHIOAachen, launchpad for the sport’s most coveted prize and a reference point for all equestrian events. More http://on.rolex.com/CHIOAachen #Perpetual', 'As a \\n@MissionBlue\\n Hope Spot Champion, Sandra Bessudo’s goal is to conserve the marine ecosystems around Malpelo Island. She currently works to create additional “swimways” to protect migrating species travelling through the oceans. More on http://bit.ly/malpelo_island_2… #PerpetualPlanet', 'A watch’s autonomy is not just a promise, it is a pact that works both ways. Whether yours or its own, movement will always beget movement. Discover more http://on.rolex.com/autonomy #Watchmaking #Perpetual', 'This year marks the 10th anniversary of the #RolexGrandSlam of Show Jumping. And no better place to begin celebrations than at the #CHIOAachen, launchpad for the sport’s most coveted prize and a reference point for all equestrian events. More http://on.rolex.com/CHIOAachen #Perpetual', 'As a \\n@MissionBlue\\n Hope Spot Champion, Sandra Bessudo’s goal is to conserve the marine ecosystems around Malpelo Island. She currently works to create additional “swimways” to protect migrating species travelling through the oceans. More on http://bit.ly/malpelo_island_2… #PerpetualPlanet', 'A watch’s autonomy is not just a promise, it is a pact that works both ways. Whether yours or its own, movement will always beget movement. Discover more http://on.rolex.com/autonomy #Watchmaking #Perpetual', 'This year marks the 10th anniversary of the #RolexGrandSlam of Show Jumping. And no better place to begin celebrations than at the #CHIOAachen, launchpad for the sport’s most coveted prize and a reference point for all equestrian events. More http://on.rolex.com/CHIOAachen #Perpetual', 'As a \\n@MissionBlue\\n Hope Spot Champion, Sandra Bessudo’s goal is to conserve the marine ecosystems around Malpelo Island. She currently works to create additional “swimways” to protect migrating species travelling through the oceans. More on http://bit.ly/malpelo_island_2… #PerpetualPlanet', 'At this week’s Lindau Nobel Laureate Meeting, #RolexAwards for Enterprise winner Grégoire Courtine and Nobel Laureate Randy W. Schekman will discuss harnessing excellence in science for society. We support this event to foster generational exchange. #LIN023 #Perpetual', 'A watch’s autonomy is not just a promise, it is a pact that works both ways. Whether yours or its own, movement will always beget movement. Discover more http://on.rolex.com/autonomy #Watchmaking #Perpetual']\n",
      "10\n",
      "58\n",
      "428\n",
      "2023-06-27T10:00:08.000Z\n",
      "['A watch’s autonomy is not just a promise, it is a pact that works both ways. Whether yours or its own, movement will always beget movement. Discover more http://on.rolex.com/autonomy #Watchmaking #Perpetual', 'This year marks the 10th anniversary of the #RolexGrandSlam of Show Jumping. And no better place to begin celebrations than at the #CHIOAachen, launchpad for the sport’s most coveted prize and a reference point for all equestrian events. More http://on.rolex.com/CHIOAachen #Perpetual', 'As a \\n@MissionBlue\\n Hope Spot Champion, Sandra Bessudo’s goal is to conserve the marine ecosystems around Malpelo Island. She currently works to create additional “swimways” to protect migrating species travelling through the oceans. More on http://bit.ly/malpelo_island_2… #PerpetualPlanet', 'A watch’s autonomy is not just a promise, it is a pact that works both ways. Whether yours or its own, movement will always beget movement. Discover more http://on.rolex.com/autonomy #Watchmaking #Perpetual', 'This year marks the 10th anniversary of the #RolexGrandSlam of Show Jumping. And no better place to begin celebrations than at the #CHIOAachen, launchpad for the sport’s most coveted prize and a reference point for all equestrian events. More http://on.rolex.com/CHIOAachen #Perpetual', 'As a \\n@MissionBlue\\n Hope Spot Champion, Sandra Bessudo’s goal is to conserve the marine ecosystems around Malpelo Island. She currently works to create additional “swimways” to protect migrating species travelling through the oceans. More on http://bit.ly/malpelo_island_2… #PerpetualPlanet', 'A watch’s autonomy is not just a promise, it is a pact that works both ways. Whether yours or its own, movement will always beget movement. Discover more http://on.rolex.com/autonomy #Watchmaking #Perpetual', 'This year marks the 10th anniversary of the #RolexGrandSlam of Show Jumping. And no better place to begin celebrations than at the #CHIOAachen, launchpad for the sport’s most coveted prize and a reference point for all equestrian events. More http://on.rolex.com/CHIOAachen #Perpetual', 'As a \\n@MissionBlue\\n Hope Spot Champion, Sandra Bessudo’s goal is to conserve the marine ecosystems around Malpelo Island. She currently works to create additional “swimways” to protect migrating species travelling through the oceans. More on http://bit.ly/malpelo_island_2… #PerpetualPlanet', 'At this week’s Lindau Nobel Laureate Meeting, #RolexAwards for Enterprise winner Grégoire Courtine and Nobel Laureate Randy W. Schekman will discuss harnessing excellence in science for society. We support this event to foster generational exchange. #LIN023 #Perpetual', 'A watch’s autonomy is not just a promise, it is a pact that works both ways. Whether yours or its own, movement will always beget movement. Discover more http://on.rolex.com/autonomy #Watchmaking #Perpetual', 'This year marks the 10th anniversary of the #RolexGrandSlam of Show Jumping. And no better place to begin celebrations than at the #CHIOAachen, launchpad for the sport’s most coveted prize and a reference point for all equestrian events. More http://on.rolex.com/CHIOAachen #Perpetual']\n",
      "4\n",
      "58\n",
      "140\n",
      "2023-06-26T12:00:22.000Z\n",
      "['A watch’s autonomy is not just a promise, it is a pact that works both ways. Whether yours or its own, movement will always beget movement. Discover more http://on.rolex.com/autonomy #Watchmaking #Perpetual', 'This year marks the 10th anniversary of the #RolexGrandSlam of Show Jumping. And no better place to begin celebrations than at the #CHIOAachen, launchpad for the sport’s most coveted prize and a reference point for all equestrian events. More http://on.rolex.com/CHIOAachen #Perpetual', 'As a \\n@MissionBlue\\n Hope Spot Champion, Sandra Bessudo’s goal is to conserve the marine ecosystems around Malpelo Island. She currently works to create additional “swimways” to protect migrating species travelling through the oceans. More on http://bit.ly/malpelo_island_2… #PerpetualPlanet', 'A watch’s autonomy is not just a promise, it is a pact that works both ways. Whether yours or its own, movement will always beget movement. Discover more http://on.rolex.com/autonomy #Watchmaking #Perpetual', 'This year marks the 10th anniversary of the #RolexGrandSlam of Show Jumping. And no better place to begin celebrations than at the #CHIOAachen, launchpad for the sport’s most coveted prize and a reference point for all equestrian events. More http://on.rolex.com/CHIOAachen #Perpetual', 'As a \\n@MissionBlue\\n Hope Spot Champion, Sandra Bessudo’s goal is to conserve the marine ecosystems around Malpelo Island. She currently works to create additional “swimways” to protect migrating species travelling through the oceans. More on http://bit.ly/malpelo_island_2… #PerpetualPlanet', 'A watch’s autonomy is not just a promise, it is a pact that works both ways. Whether yours or its own, movement will always beget movement. Discover more http://on.rolex.com/autonomy #Watchmaking #Perpetual', 'This year marks the 10th anniversary of the #RolexGrandSlam of Show Jumping. And no better place to begin celebrations than at the #CHIOAachen, launchpad for the sport’s most coveted prize and a reference point for all equestrian events. More http://on.rolex.com/CHIOAachen #Perpetual', 'As a \\n@MissionBlue\\n Hope Spot Champion, Sandra Bessudo’s goal is to conserve the marine ecosystems around Malpelo Island. She currently works to create additional “swimways” to protect migrating species travelling through the oceans. More on http://bit.ly/malpelo_island_2… #PerpetualPlanet', 'At this week’s Lindau Nobel Laureate Meeting, #RolexAwards for Enterprise winner Grégoire Courtine and Nobel Laureate Randy W. Schekman will discuss harnessing excellence in science for society. We support this event to foster generational exchange. #LIN023 #Perpetual', 'A watch’s autonomy is not just a promise, it is a pact that works both ways. Whether yours or its own, movement will always beget movement. Discover more http://on.rolex.com/autonomy #Watchmaking #Perpetual', 'This year marks the 10th anniversary of the #RolexGrandSlam of Show Jumping. And no better place to begin celebrations than at the #CHIOAachen, launchpad for the sport’s most coveted prize and a reference point for all equestrian events. More http://on.rolex.com/CHIOAachen #Perpetual', 'As a \\n@MissionBlue\\n Hope Spot Champion, Sandra Bessudo’s goal is to conserve the marine ecosystems around Malpelo Island. She currently works to create additional “swimways” to protect migrating species travelling through the oceans. More on http://bit.ly/malpelo_island_2… #PerpetualPlanet']\n"
     ]
    },
    {
     "name": "stdout",
     "output_type": "stream",
     "text": [
      "12\n",
      "58\n",
      "275\n",
      "2023-06-25T08:00:03.000Z\n",
      "['A watch’s autonomy is not just a promise, it is a pact that works both ways. Whether yours or its own, movement will always beget movement. Discover more http://on.rolex.com/autonomy #Watchmaking #Perpetual', 'This year marks the 10th anniversary of the #RolexGrandSlam of Show Jumping. And no better place to begin celebrations than at the #CHIOAachen, launchpad for the sport’s most coveted prize and a reference point for all equestrian events. More http://on.rolex.com/CHIOAachen #Perpetual', 'As a \\n@MissionBlue\\n Hope Spot Champion, Sandra Bessudo’s goal is to conserve the marine ecosystems around Malpelo Island. She currently works to create additional “swimways” to protect migrating species travelling through the oceans. More on http://bit.ly/malpelo_island_2… #PerpetualPlanet', 'A watch’s autonomy is not just a promise, it is a pact that works both ways. Whether yours or its own, movement will always beget movement. Discover more http://on.rolex.com/autonomy #Watchmaking #Perpetual', 'This year marks the 10th anniversary of the #RolexGrandSlam of Show Jumping. And no better place to begin celebrations than at the #CHIOAachen, launchpad for the sport’s most coveted prize and a reference point for all equestrian events. More http://on.rolex.com/CHIOAachen #Perpetual', 'As a \\n@MissionBlue\\n Hope Spot Champion, Sandra Bessudo’s goal is to conserve the marine ecosystems around Malpelo Island. She currently works to create additional “swimways” to protect migrating species travelling through the oceans. More on http://bit.ly/malpelo_island_2… #PerpetualPlanet', 'A watch’s autonomy is not just a promise, it is a pact that works both ways. Whether yours or its own, movement will always beget movement. Discover more http://on.rolex.com/autonomy #Watchmaking #Perpetual', 'This year marks the 10th anniversary of the #RolexGrandSlam of Show Jumping. And no better place to begin celebrations than at the #CHIOAachen, launchpad for the sport’s most coveted prize and a reference point for all equestrian events. More http://on.rolex.com/CHIOAachen #Perpetual', 'As a \\n@MissionBlue\\n Hope Spot Champion, Sandra Bessudo’s goal is to conserve the marine ecosystems around Malpelo Island. She currently works to create additional “swimways” to protect migrating species travelling through the oceans. More on http://bit.ly/malpelo_island_2… #PerpetualPlanet', 'At this week’s Lindau Nobel Laureate Meeting, #RolexAwards for Enterprise winner Grégoire Courtine and Nobel Laureate Randy W. Schekman will discuss harnessing excellence in science for society. We support this event to foster generational exchange. #LIN023 #Perpetual', 'A watch’s autonomy is not just a promise, it is a pact that works both ways. Whether yours or its own, movement will always beget movement. Discover more http://on.rolex.com/autonomy #Watchmaking #Perpetual', 'This year marks the 10th anniversary of the #RolexGrandSlam of Show Jumping. And no better place to begin celebrations than at the #CHIOAachen, launchpad for the sport’s most coveted prize and a reference point for all equestrian events. More http://on.rolex.com/CHIOAachen #Perpetual', 'As a \\n@MissionBlue\\n Hope Spot Champion, Sandra Bessudo’s goal is to conserve the marine ecosystems around Malpelo Island. She currently works to create additional “swimways” to protect migrating species travelling through the oceans. More on http://bit.ly/malpelo_island_2… #PerpetualPlanet', 'At this week’s Lindau Nobel Laureate Meeting, #RolexAwards for Enterprise winner Grégoire Courtine and Nobel Laureate Randy W. Schekman will discuss harnessing excellence in science for society. We support this event to foster generational exchange. #LIN023 #Perpetual']\n",
      "6\n",
      "58\n",
      "211\n",
      "2023-06-22T11:30:27.000Z\n",
      "['A watch’s autonomy is not just a promise, it is a pact that works both ways. Whether yours or its own, movement will always beget movement. Discover more http://on.rolex.com/autonomy #Watchmaking #Perpetual', 'This year marks the 10th anniversary of the #RolexGrandSlam of Show Jumping. And no better place to begin celebrations than at the #CHIOAachen, launchpad for the sport’s most coveted prize and a reference point for all equestrian events. More http://on.rolex.com/CHIOAachen #Perpetual', 'As a \\n@MissionBlue\\n Hope Spot Champion, Sandra Bessudo’s goal is to conserve the marine ecosystems around Malpelo Island. She currently works to create additional “swimways” to protect migrating species travelling through the oceans. More on http://bit.ly/malpelo_island_2… #PerpetualPlanet', 'A watch’s autonomy is not just a promise, it is a pact that works both ways. Whether yours or its own, movement will always beget movement. Discover more http://on.rolex.com/autonomy #Watchmaking #Perpetual', 'This year marks the 10th anniversary of the #RolexGrandSlam of Show Jumping. And no better place to begin celebrations than at the #CHIOAachen, launchpad for the sport’s most coveted prize and a reference point for all equestrian events. More http://on.rolex.com/CHIOAachen #Perpetual', 'As a \\n@MissionBlue\\n Hope Spot Champion, Sandra Bessudo’s goal is to conserve the marine ecosystems around Malpelo Island. She currently works to create additional “swimways” to protect migrating species travelling through the oceans. More on http://bit.ly/malpelo_island_2… #PerpetualPlanet', 'A watch’s autonomy is not just a promise, it is a pact that works both ways. Whether yours or its own, movement will always beget movement. Discover more http://on.rolex.com/autonomy #Watchmaking #Perpetual', 'This year marks the 10th anniversary of the #RolexGrandSlam of Show Jumping. And no better place to begin celebrations than at the #CHIOAachen, launchpad for the sport’s most coveted prize and a reference point for all equestrian events. More http://on.rolex.com/CHIOAachen #Perpetual', 'As a \\n@MissionBlue\\n Hope Spot Champion, Sandra Bessudo’s goal is to conserve the marine ecosystems around Malpelo Island. She currently works to create additional “swimways” to protect migrating species travelling through the oceans. More on http://bit.ly/malpelo_island_2… #PerpetualPlanet', 'At this week’s Lindau Nobel Laureate Meeting, #RolexAwards for Enterprise winner Grégoire Courtine and Nobel Laureate Randy W. Schekman will discuss harnessing excellence in science for society. We support this event to foster generational exchange. #LIN023 #Perpetual', 'A watch’s autonomy is not just a promise, it is a pact that works both ways. Whether yours or its own, movement will always beget movement. Discover more http://on.rolex.com/autonomy #Watchmaking #Perpetual', 'This year marks the 10th anniversary of the #RolexGrandSlam of Show Jumping. And no better place to begin celebrations than at the #CHIOAachen, launchpad for the sport’s most coveted prize and a reference point for all equestrian events. More http://on.rolex.com/CHIOAachen #Perpetual', 'As a \\n@MissionBlue\\n Hope Spot Champion, Sandra Bessudo’s goal is to conserve the marine ecosystems around Malpelo Island. She currently works to create additional “swimways” to protect migrating species travelling through the oceans. More on http://bit.ly/malpelo_island_2… #PerpetualPlanet', 'At this week’s Lindau Nobel Laureate Meeting, #RolexAwards for Enterprise winner Grégoire Courtine and Nobel Laureate Randy W. Schekman will discuss harnessing excellence in science for society. We support this event to foster generational exchange. #LIN023 #Perpetual', 'The waters around Malpelo Island in the Pacific Ocean are teeming with life. Sandra Bessudo, \\n@MissionBlue\\n Hope Spot Champion, runs expeditions to study the island’s marine species to help protect its incredible ecosystems. More on http://bit.ly/malpelo_island_1… #PerpetualPlanet']\n",
      "11\n",
      "58\n",
      "337\n",
      "2023-06-27T14:00:22.000Z\n",
      "['A watch’s autonomy is not just a promise, it is a pact that works both ways. Whether yours or its own, movement will always beget movement. Discover more http://on.rolex.com/autonomy #Watchmaking #Perpetual', 'This year marks the 10th anniversary of the #RolexGrandSlam of Show Jumping. And no better place to begin celebrations than at the #CHIOAachen, launchpad for the sport’s most coveted prize and a reference point for all equestrian events. More http://on.rolex.com/CHIOAachen #Perpetual', 'As a \\n@MissionBlue\\n Hope Spot Champion, Sandra Bessudo’s goal is to conserve the marine ecosystems around Malpelo Island. She currently works to create additional “swimways” to protect migrating species travelling through the oceans. More on http://bit.ly/malpelo_island_2… #PerpetualPlanet', 'A watch’s autonomy is not just a promise, it is a pact that works both ways. Whether yours or its own, movement will always beget movement. Discover more http://on.rolex.com/autonomy #Watchmaking #Perpetual', 'This year marks the 10th anniversary of the #RolexGrandSlam of Show Jumping. And no better place to begin celebrations than at the #CHIOAachen, launchpad for the sport’s most coveted prize and a reference point for all equestrian events. More http://on.rolex.com/CHIOAachen #Perpetual', 'As a \\n@MissionBlue\\n Hope Spot Champion, Sandra Bessudo’s goal is to conserve the marine ecosystems around Malpelo Island. She currently works to create additional “swimways” to protect migrating species travelling through the oceans. More on http://bit.ly/malpelo_island_2… #PerpetualPlanet', 'A watch’s autonomy is not just a promise, it is a pact that works both ways. Whether yours or its own, movement will always beget movement. Discover more http://on.rolex.com/autonomy #Watchmaking #Perpetual', 'This year marks the 10th anniversary of the #RolexGrandSlam of Show Jumping. And no better place to begin celebrations than at the #CHIOAachen, launchpad for the sport’s most coveted prize and a reference point for all equestrian events. More http://on.rolex.com/CHIOAachen #Perpetual', 'As a \\n@MissionBlue\\n Hope Spot Champion, Sandra Bessudo’s goal is to conserve the marine ecosystems around Malpelo Island. She currently works to create additional “swimways” to protect migrating species travelling through the oceans. More on http://bit.ly/malpelo_island_2… #PerpetualPlanet', 'At this week’s Lindau Nobel Laureate Meeting, #RolexAwards for Enterprise winner Grégoire Courtine and Nobel Laureate Randy W. Schekman will discuss harnessing excellence in science for society. We support this event to foster generational exchange. #LIN023 #Perpetual', 'A watch’s autonomy is not just a promise, it is a pact that works both ways. Whether yours or its own, movement will always beget movement. Discover more http://on.rolex.com/autonomy #Watchmaking #Perpetual', 'This year marks the 10th anniversary of the #RolexGrandSlam of Show Jumping. And no better place to begin celebrations than at the #CHIOAachen, launchpad for the sport’s most coveted prize and a reference point for all equestrian events. More http://on.rolex.com/CHIOAachen #Perpetual', 'As a \\n@MissionBlue\\n Hope Spot Champion, Sandra Bessudo’s goal is to conserve the marine ecosystems around Malpelo Island. She currently works to create additional “swimways” to protect migrating species travelling through the oceans. More on http://bit.ly/malpelo_island_2… #PerpetualPlanet', 'At this week’s Lindau Nobel Laureate Meeting, #RolexAwards for Enterprise winner Grégoire Courtine and Nobel Laureate Randy W. Schekman will discuss harnessing excellence in science for society. We support this event to foster generational exchange. #LIN023 #Perpetual', 'The waters around Malpelo Island in the Pacific Ocean are teeming with life. Sandra Bessudo, \\n@MissionBlue\\n Hope Spot Champion, runs expeditions to study the island’s marine species to help protect its incredible ecosystems. More on http://bit.ly/malpelo_island_1… #PerpetualPlanet', 'A watch’s autonomy is not just a promise, it is a pact that works both ways. Whether yours or its own, movement will always beget movement. Discover more http://on.rolex.com/autonomy #Watchmaking #Perpetual']\n",
      "10\n",
      "58\n",
      "428\n",
      "2023-06-27T10:00:08.000Z\n",
      "['A watch’s autonomy is not just a promise, it is a pact that works both ways. Whether yours or its own, movement will always beget movement. Discover more http://on.rolex.com/autonomy #Watchmaking #Perpetual', 'This year marks the 10th anniversary of the #RolexGrandSlam of Show Jumping. And no better place to begin celebrations than at the #CHIOAachen, launchpad for the sport’s most coveted prize and a reference point for all equestrian events. More http://on.rolex.com/CHIOAachen #Perpetual', 'As a \\n@MissionBlue\\n Hope Spot Champion, Sandra Bessudo’s goal is to conserve the marine ecosystems around Malpelo Island. She currently works to create additional “swimways” to protect migrating species travelling through the oceans. More on http://bit.ly/malpelo_island_2… #PerpetualPlanet', 'A watch’s autonomy is not just a promise, it is a pact that works both ways. Whether yours or its own, movement will always beget movement. Discover more http://on.rolex.com/autonomy #Watchmaking #Perpetual', 'This year marks the 10th anniversary of the #RolexGrandSlam of Show Jumping. And no better place to begin celebrations than at the #CHIOAachen, launchpad for the sport’s most coveted prize and a reference point for all equestrian events. More http://on.rolex.com/CHIOAachen #Perpetual', 'As a \\n@MissionBlue\\n Hope Spot Champion, Sandra Bessudo’s goal is to conserve the marine ecosystems around Malpelo Island. She currently works to create additional “swimways” to protect migrating species travelling through the oceans. More on http://bit.ly/malpelo_island_2… #PerpetualPlanet', 'A watch’s autonomy is not just a promise, it is a pact that works both ways. Whether yours or its own, movement will always beget movement. Discover more http://on.rolex.com/autonomy #Watchmaking #Perpetual', 'This year marks the 10th anniversary of the #RolexGrandSlam of Show Jumping. And no better place to begin celebrations than at the #CHIOAachen, launchpad for the sport’s most coveted prize and a reference point for all equestrian events. More http://on.rolex.com/CHIOAachen #Perpetual', 'As a \\n@MissionBlue\\n Hope Spot Champion, Sandra Bessudo’s goal is to conserve the marine ecosystems around Malpelo Island. She currently works to create additional “swimways” to protect migrating species travelling through the oceans. More on http://bit.ly/malpelo_island_2… #PerpetualPlanet', 'At this week’s Lindau Nobel Laureate Meeting, #RolexAwards for Enterprise winner Grégoire Courtine and Nobel Laureate Randy W. Schekman will discuss harnessing excellence in science for society. We support this event to foster generational exchange. #LIN023 #Perpetual', 'A watch’s autonomy is not just a promise, it is a pact that works both ways. Whether yours or its own, movement will always beget movement. Discover more http://on.rolex.com/autonomy #Watchmaking #Perpetual', 'This year marks the 10th anniversary of the #RolexGrandSlam of Show Jumping. And no better place to begin celebrations than at the #CHIOAachen, launchpad for the sport’s most coveted prize and a reference point for all equestrian events. More http://on.rolex.com/CHIOAachen #Perpetual', 'As a \\n@MissionBlue\\n Hope Spot Champion, Sandra Bessudo’s goal is to conserve the marine ecosystems around Malpelo Island. She currently works to create additional “swimways” to protect migrating species travelling through the oceans. More on http://bit.ly/malpelo_island_2… #PerpetualPlanet', 'At this week’s Lindau Nobel Laureate Meeting, #RolexAwards for Enterprise winner Grégoire Courtine and Nobel Laureate Randy W. Schekman will discuss harnessing excellence in science for society. We support this event to foster generational exchange. #LIN023 #Perpetual', 'The waters around Malpelo Island in the Pacific Ocean are teeming with life. Sandra Bessudo, \\n@MissionBlue\\n Hope Spot Champion, runs expeditions to study the island’s marine species to help protect its incredible ecosystems. More on http://bit.ly/malpelo_island_1… #PerpetualPlanet', 'A watch’s autonomy is not just a promise, it is a pact that works both ways. Whether yours or its own, movement will always beget movement. Discover more http://on.rolex.com/autonomy #Watchmaking #Perpetual', 'This year marks the 10th anniversary of the #RolexGrandSlam of Show Jumping. And no better place to begin celebrations than at the #CHIOAachen, launchpad for the sport’s most coveted prize and a reference point for all equestrian events. More http://on.rolex.com/CHIOAachen #Perpetual']\n"
     ]
    },
    {
     "name": "stdout",
     "output_type": "stream",
     "text": [
      "4\n",
      "58\n",
      "140\n",
      "2023-06-26T12:00:22.000Z\n",
      "['A watch’s autonomy is not just a promise, it is a pact that works both ways. Whether yours or its own, movement will always beget movement. Discover more http://on.rolex.com/autonomy #Watchmaking #Perpetual', 'This year marks the 10th anniversary of the #RolexGrandSlam of Show Jumping. And no better place to begin celebrations than at the #CHIOAachen, launchpad for the sport’s most coveted prize and a reference point for all equestrian events. More http://on.rolex.com/CHIOAachen #Perpetual', 'As a \\n@MissionBlue\\n Hope Spot Champion, Sandra Bessudo’s goal is to conserve the marine ecosystems around Malpelo Island. She currently works to create additional “swimways” to protect migrating species travelling through the oceans. More on http://bit.ly/malpelo_island_2… #PerpetualPlanet', 'A watch’s autonomy is not just a promise, it is a pact that works both ways. Whether yours or its own, movement will always beget movement. Discover more http://on.rolex.com/autonomy #Watchmaking #Perpetual', 'This year marks the 10th anniversary of the #RolexGrandSlam of Show Jumping. And no better place to begin celebrations than at the #CHIOAachen, launchpad for the sport’s most coveted prize and a reference point for all equestrian events. More http://on.rolex.com/CHIOAachen #Perpetual', 'As a \\n@MissionBlue\\n Hope Spot Champion, Sandra Bessudo’s goal is to conserve the marine ecosystems around Malpelo Island. She currently works to create additional “swimways” to protect migrating species travelling through the oceans. More on http://bit.ly/malpelo_island_2… #PerpetualPlanet', 'A watch’s autonomy is not just a promise, it is a pact that works both ways. Whether yours or its own, movement will always beget movement. Discover more http://on.rolex.com/autonomy #Watchmaking #Perpetual', 'This year marks the 10th anniversary of the #RolexGrandSlam of Show Jumping. And no better place to begin celebrations than at the #CHIOAachen, launchpad for the sport’s most coveted prize and a reference point for all equestrian events. More http://on.rolex.com/CHIOAachen #Perpetual', 'As a \\n@MissionBlue\\n Hope Spot Champion, Sandra Bessudo’s goal is to conserve the marine ecosystems around Malpelo Island. She currently works to create additional “swimways” to protect migrating species travelling through the oceans. More on http://bit.ly/malpelo_island_2… #PerpetualPlanet', 'At this week’s Lindau Nobel Laureate Meeting, #RolexAwards for Enterprise winner Grégoire Courtine and Nobel Laureate Randy W. Schekman will discuss harnessing excellence in science for society. We support this event to foster generational exchange. #LIN023 #Perpetual', 'A watch’s autonomy is not just a promise, it is a pact that works both ways. Whether yours or its own, movement will always beget movement. Discover more http://on.rolex.com/autonomy #Watchmaking #Perpetual', 'This year marks the 10th anniversary of the #RolexGrandSlam of Show Jumping. And no better place to begin celebrations than at the #CHIOAachen, launchpad for the sport’s most coveted prize and a reference point for all equestrian events. More http://on.rolex.com/CHIOAachen #Perpetual', 'As a \\n@MissionBlue\\n Hope Spot Champion, Sandra Bessudo’s goal is to conserve the marine ecosystems around Malpelo Island. She currently works to create additional “swimways” to protect migrating species travelling through the oceans. More on http://bit.ly/malpelo_island_2… #PerpetualPlanet', 'At this week’s Lindau Nobel Laureate Meeting, #RolexAwards for Enterprise winner Grégoire Courtine and Nobel Laureate Randy W. Schekman will discuss harnessing excellence in science for society. We support this event to foster generational exchange. #LIN023 #Perpetual', 'The waters around Malpelo Island in the Pacific Ocean are teeming with life. Sandra Bessudo, \\n@MissionBlue\\n Hope Spot Champion, runs expeditions to study the island’s marine species to help protect its incredible ecosystems. More on http://bit.ly/malpelo_island_1… #PerpetualPlanet', 'A watch’s autonomy is not just a promise, it is a pact that works both ways. Whether yours or its own, movement will always beget movement. Discover more http://on.rolex.com/autonomy #Watchmaking #Perpetual', 'This year marks the 10th anniversary of the #RolexGrandSlam of Show Jumping. And no better place to begin celebrations than at the #CHIOAachen, launchpad for the sport’s most coveted prize and a reference point for all equestrian events. More http://on.rolex.com/CHIOAachen #Perpetual', 'As a \\n@MissionBlue\\n Hope Spot Champion, Sandra Bessudo’s goal is to conserve the marine ecosystems around Malpelo Island. She currently works to create additional “swimways” to protect migrating species travelling through the oceans. More on http://bit.ly/malpelo_island_2… #PerpetualPlanet']\n",
      "12\n",
      "58\n",
      "275\n",
      "2023-06-25T08:00:03.000Z\n",
      "['A watch’s autonomy is not just a promise, it is a pact that works both ways. Whether yours or its own, movement will always beget movement. Discover more http://on.rolex.com/autonomy #Watchmaking #Perpetual', 'This year marks the 10th anniversary of the #RolexGrandSlam of Show Jumping. And no better place to begin celebrations than at the #CHIOAachen, launchpad for the sport’s most coveted prize and a reference point for all equestrian events. More http://on.rolex.com/CHIOAachen #Perpetual', 'As a \\n@MissionBlue\\n Hope Spot Champion, Sandra Bessudo’s goal is to conserve the marine ecosystems around Malpelo Island. She currently works to create additional “swimways” to protect migrating species travelling through the oceans. More on http://bit.ly/malpelo_island_2… #PerpetualPlanet', 'A watch’s autonomy is not just a promise, it is a pact that works both ways. Whether yours or its own, movement will always beget movement. Discover more http://on.rolex.com/autonomy #Watchmaking #Perpetual', 'This year marks the 10th anniversary of the #RolexGrandSlam of Show Jumping. And no better place to begin celebrations than at the #CHIOAachen, launchpad for the sport’s most coveted prize and a reference point for all equestrian events. More http://on.rolex.com/CHIOAachen #Perpetual', 'As a \\n@MissionBlue\\n Hope Spot Champion, Sandra Bessudo’s goal is to conserve the marine ecosystems around Malpelo Island. She currently works to create additional “swimways” to protect migrating species travelling through the oceans. More on http://bit.ly/malpelo_island_2… #PerpetualPlanet', 'A watch’s autonomy is not just a promise, it is a pact that works both ways. Whether yours or its own, movement will always beget movement. Discover more http://on.rolex.com/autonomy #Watchmaking #Perpetual', 'This year marks the 10th anniversary of the #RolexGrandSlam of Show Jumping. And no better place to begin celebrations than at the #CHIOAachen, launchpad for the sport’s most coveted prize and a reference point for all equestrian events. More http://on.rolex.com/CHIOAachen #Perpetual', 'As a \\n@MissionBlue\\n Hope Spot Champion, Sandra Bessudo’s goal is to conserve the marine ecosystems around Malpelo Island. She currently works to create additional “swimways” to protect migrating species travelling through the oceans. More on http://bit.ly/malpelo_island_2… #PerpetualPlanet', 'At this week’s Lindau Nobel Laureate Meeting, #RolexAwards for Enterprise winner Grégoire Courtine and Nobel Laureate Randy W. Schekman will discuss harnessing excellence in science for society. We support this event to foster generational exchange. #LIN023 #Perpetual', 'A watch’s autonomy is not just a promise, it is a pact that works both ways. Whether yours or its own, movement will always beget movement. Discover more http://on.rolex.com/autonomy #Watchmaking #Perpetual', 'This year marks the 10th anniversary of the #RolexGrandSlam of Show Jumping. And no better place to begin celebrations than at the #CHIOAachen, launchpad for the sport’s most coveted prize and a reference point for all equestrian events. More http://on.rolex.com/CHIOAachen #Perpetual', 'As a \\n@MissionBlue\\n Hope Spot Champion, Sandra Bessudo’s goal is to conserve the marine ecosystems around Malpelo Island. She currently works to create additional “swimways” to protect migrating species travelling through the oceans. More on http://bit.ly/malpelo_island_2… #PerpetualPlanet', 'At this week’s Lindau Nobel Laureate Meeting, #RolexAwards for Enterprise winner Grégoire Courtine and Nobel Laureate Randy W. Schekman will discuss harnessing excellence in science for society. We support this event to foster generational exchange. #LIN023 #Perpetual', 'The waters around Malpelo Island in the Pacific Ocean are teeming with life. Sandra Bessudo, \\n@MissionBlue\\n Hope Spot Champion, runs expeditions to study the island’s marine species to help protect its incredible ecosystems. More on http://bit.ly/malpelo_island_1… #PerpetualPlanet', 'A watch’s autonomy is not just a promise, it is a pact that works both ways. Whether yours or its own, movement will always beget movement. Discover more http://on.rolex.com/autonomy #Watchmaking #Perpetual', 'This year marks the 10th anniversary of the #RolexGrandSlam of Show Jumping. And no better place to begin celebrations than at the #CHIOAachen, launchpad for the sport’s most coveted prize and a reference point for all equestrian events. More http://on.rolex.com/CHIOAachen #Perpetual', 'As a \\n@MissionBlue\\n Hope Spot Champion, Sandra Bessudo’s goal is to conserve the marine ecosystems around Malpelo Island. She currently works to create additional “swimways” to protect migrating species travelling through the oceans. More on http://bit.ly/malpelo_island_2… #PerpetualPlanet', 'At this week’s Lindau Nobel Laureate Meeting, #RolexAwards for Enterprise winner Grégoire Courtine and Nobel Laureate Randy W. Schekman will discuss harnessing excellence in science for society. We support this event to foster generational exchange. #LIN023 #Perpetual']\n",
      "6\n",
      "58\n",
      "211\n"
     ]
    },
    {
     "name": "stdout",
     "output_type": "stream",
     "text": [
      "2023-06-22T11:30:27.000Z\n",
      "['A watch’s autonomy is not just a promise, it is a pact that works both ways. Whether yours or its own, movement will always beget movement. Discover more http://on.rolex.com/autonomy #Watchmaking #Perpetual', 'This year marks the 10th anniversary of the #RolexGrandSlam of Show Jumping. And no better place to begin celebrations than at the #CHIOAachen, launchpad for the sport’s most coveted prize and a reference point for all equestrian events. More http://on.rolex.com/CHIOAachen #Perpetual', 'As a \\n@MissionBlue\\n Hope Spot Champion, Sandra Bessudo’s goal is to conserve the marine ecosystems around Malpelo Island. She currently works to create additional “swimways” to protect migrating species travelling through the oceans. More on http://bit.ly/malpelo_island_2… #PerpetualPlanet', 'A watch’s autonomy is not just a promise, it is a pact that works both ways. Whether yours or its own, movement will always beget movement. Discover more http://on.rolex.com/autonomy #Watchmaking #Perpetual', 'This year marks the 10th anniversary of the #RolexGrandSlam of Show Jumping. And no better place to begin celebrations than at the #CHIOAachen, launchpad for the sport’s most coveted prize and a reference point for all equestrian events. More http://on.rolex.com/CHIOAachen #Perpetual', 'As a \\n@MissionBlue\\n Hope Spot Champion, Sandra Bessudo’s goal is to conserve the marine ecosystems around Malpelo Island. She currently works to create additional “swimways” to protect migrating species travelling through the oceans. More on http://bit.ly/malpelo_island_2… #PerpetualPlanet', 'A watch’s autonomy is not just a promise, it is a pact that works both ways. Whether yours or its own, movement will always beget movement. Discover more http://on.rolex.com/autonomy #Watchmaking #Perpetual', 'This year marks the 10th anniversary of the #RolexGrandSlam of Show Jumping. And no better place to begin celebrations than at the #CHIOAachen, launchpad for the sport’s most coveted prize and a reference point for all equestrian events. More http://on.rolex.com/CHIOAachen #Perpetual', 'As a \\n@MissionBlue\\n Hope Spot Champion, Sandra Bessudo’s goal is to conserve the marine ecosystems around Malpelo Island. She currently works to create additional “swimways” to protect migrating species travelling through the oceans. More on http://bit.ly/malpelo_island_2… #PerpetualPlanet', 'At this week’s Lindau Nobel Laureate Meeting, #RolexAwards for Enterprise winner Grégoire Courtine and Nobel Laureate Randy W. Schekman will discuss harnessing excellence in science for society. We support this event to foster generational exchange. #LIN023 #Perpetual', 'A watch’s autonomy is not just a promise, it is a pact that works both ways. Whether yours or its own, movement will always beget movement. Discover more http://on.rolex.com/autonomy #Watchmaking #Perpetual', 'This year marks the 10th anniversary of the #RolexGrandSlam of Show Jumping. And no better place to begin celebrations than at the #CHIOAachen, launchpad for the sport’s most coveted prize and a reference point for all equestrian events. More http://on.rolex.com/CHIOAachen #Perpetual', 'As a \\n@MissionBlue\\n Hope Spot Champion, Sandra Bessudo’s goal is to conserve the marine ecosystems around Malpelo Island. She currently works to create additional “swimways” to protect migrating species travelling through the oceans. More on http://bit.ly/malpelo_island_2… #PerpetualPlanet', 'At this week’s Lindau Nobel Laureate Meeting, #RolexAwards for Enterprise winner Grégoire Courtine and Nobel Laureate Randy W. Schekman will discuss harnessing excellence in science for society. We support this event to foster generational exchange. #LIN023 #Perpetual', 'The waters around Malpelo Island in the Pacific Ocean are teeming with life. Sandra Bessudo, \\n@MissionBlue\\n Hope Spot Champion, runs expeditions to study the island’s marine species to help protect its incredible ecosystems. More on http://bit.ly/malpelo_island_1… #PerpetualPlanet', 'A watch’s autonomy is not just a promise, it is a pact that works both ways. Whether yours or its own, movement will always beget movement. Discover more http://on.rolex.com/autonomy #Watchmaking #Perpetual', 'This year marks the 10th anniversary of the #RolexGrandSlam of Show Jumping. And no better place to begin celebrations than at the #CHIOAachen, launchpad for the sport’s most coveted prize and a reference point for all equestrian events. More http://on.rolex.com/CHIOAachen #Perpetual', 'As a \\n@MissionBlue\\n Hope Spot Champion, Sandra Bessudo’s goal is to conserve the marine ecosystems around Malpelo Island. She currently works to create additional “swimways” to protect migrating species travelling through the oceans. More on http://bit.ly/malpelo_island_2… #PerpetualPlanet', 'At this week’s Lindau Nobel Laureate Meeting, #RolexAwards for Enterprise winner Grégoire Courtine and Nobel Laureate Randy W. Schekman will discuss harnessing excellence in science for society. We support this event to foster generational exchange. #LIN023 #Perpetual', 'The waters around Malpelo Island in the Pacific Ocean are teeming with life. Sandra Bessudo, \\n@MissionBlue\\n Hope Spot Champion, runs expeditions to study the island’s marine species to help protect its incredible ecosystems. More on http://bit.ly/malpelo_island_1… #PerpetualPlanet']\n",
      "11\n",
      "58\n",
      "337\n",
      "2023-06-20T14:00:06.000Z\n"
     ]
    },
    {
     "name": "stdout",
     "output_type": "stream",
     "text": [
      "['A watch’s autonomy is not just a promise, it is a pact that works both ways. Whether yours or its own, movement will always beget movement. Discover more http://on.rolex.com/autonomy #Watchmaking #Perpetual', 'This year marks the 10th anniversary of the #RolexGrandSlam of Show Jumping. And no better place to begin celebrations than at the #CHIOAachen, launchpad for the sport’s most coveted prize and a reference point for all equestrian events. More http://on.rolex.com/CHIOAachen #Perpetual', 'As a \\n@MissionBlue\\n Hope Spot Champion, Sandra Bessudo’s goal is to conserve the marine ecosystems around Malpelo Island. She currently works to create additional “swimways” to protect migrating species travelling through the oceans. More on http://bit.ly/malpelo_island_2… #PerpetualPlanet', 'A watch’s autonomy is not just a promise, it is a pact that works both ways. Whether yours or its own, movement will always beget movement. Discover more http://on.rolex.com/autonomy #Watchmaking #Perpetual', 'This year marks the 10th anniversary of the #RolexGrandSlam of Show Jumping. And no better place to begin celebrations than at the #CHIOAachen, launchpad for the sport’s most coveted prize and a reference point for all equestrian events. More http://on.rolex.com/CHIOAachen #Perpetual', 'As a \\n@MissionBlue\\n Hope Spot Champion, Sandra Bessudo’s goal is to conserve the marine ecosystems around Malpelo Island. She currently works to create additional “swimways” to protect migrating species travelling through the oceans. More on http://bit.ly/malpelo_island_2… #PerpetualPlanet', 'A watch’s autonomy is not just a promise, it is a pact that works both ways. Whether yours or its own, movement will always beget movement. Discover more http://on.rolex.com/autonomy #Watchmaking #Perpetual', 'This year marks the 10th anniversary of the #RolexGrandSlam of Show Jumping. And no better place to begin celebrations than at the #CHIOAachen, launchpad for the sport’s most coveted prize and a reference point for all equestrian events. More http://on.rolex.com/CHIOAachen #Perpetual', 'As a \\n@MissionBlue\\n Hope Spot Champion, Sandra Bessudo’s goal is to conserve the marine ecosystems around Malpelo Island. She currently works to create additional “swimways” to protect migrating species travelling through the oceans. More on http://bit.ly/malpelo_island_2… #PerpetualPlanet', 'At this week’s Lindau Nobel Laureate Meeting, #RolexAwards for Enterprise winner Grégoire Courtine and Nobel Laureate Randy W. Schekman will discuss harnessing excellence in science for society. We support this event to foster generational exchange. #LIN023 #Perpetual', 'A watch’s autonomy is not just a promise, it is a pact that works both ways. Whether yours or its own, movement will always beget movement. Discover more http://on.rolex.com/autonomy #Watchmaking #Perpetual', 'This year marks the 10th anniversary of the #RolexGrandSlam of Show Jumping. And no better place to begin celebrations than at the #CHIOAachen, launchpad for the sport’s most coveted prize and a reference point for all equestrian events. More http://on.rolex.com/CHIOAachen #Perpetual', 'As a \\n@MissionBlue\\n Hope Spot Champion, Sandra Bessudo’s goal is to conserve the marine ecosystems around Malpelo Island. She currently works to create additional “swimways” to protect migrating species travelling through the oceans. More on http://bit.ly/malpelo_island_2… #PerpetualPlanet', 'At this week’s Lindau Nobel Laureate Meeting, #RolexAwards for Enterprise winner Grégoire Courtine and Nobel Laureate Randy W. Schekman will discuss harnessing excellence in science for society. We support this event to foster generational exchange. #LIN023 #Perpetual', 'The waters around Malpelo Island in the Pacific Ocean are teeming with life. Sandra Bessudo, \\n@MissionBlue\\n Hope Spot Champion, runs expeditions to study the island’s marine species to help protect its incredible ecosystems. More on http://bit.ly/malpelo_island_1… #PerpetualPlanet', 'A watch’s autonomy is not just a promise, it is a pact that works both ways. Whether yours or its own, movement will always beget movement. Discover more http://on.rolex.com/autonomy #Watchmaking #Perpetual', 'This year marks the 10th anniversary of the #RolexGrandSlam of Show Jumping. And no better place to begin celebrations than at the #CHIOAachen, launchpad for the sport’s most coveted prize and a reference point for all equestrian events. More http://on.rolex.com/CHIOAachen #Perpetual', 'As a \\n@MissionBlue\\n Hope Spot Champion, Sandra Bessudo’s goal is to conserve the marine ecosystems around Malpelo Island. She currently works to create additional “swimways” to protect migrating species travelling through the oceans. More on http://bit.ly/malpelo_island_2… #PerpetualPlanet', 'At this week’s Lindau Nobel Laureate Meeting, #RolexAwards for Enterprise winner Grégoire Courtine and Nobel Laureate Randy W. Schekman will discuss harnessing excellence in science for society. We support this event to foster generational exchange. #LIN023 #Perpetual', 'The waters around Malpelo Island in the Pacific Ocean are teeming with life. Sandra Bessudo, \\n@MissionBlue\\n Hope Spot Champion, runs expeditions to study the island’s marine species to help protect its incredible ecosystems. More on http://bit.ly/malpelo_island_1… #PerpetualPlanet', \"'Werther', Massenet's great opera of passion, premiers today at the \\n@RoyalOperaHouse\\n with \\n@tenorkaufmann\\n in the title role, conducted by Sir Antonio Pappano. All are partners in our #PerpetualArts Initiative that supports excellence and contributes to global culture. #RolexFamily\"]\n",
      "5\n",
      "58\n",
      "140\n",
      "2023-06-27T10:00:08.000Z\n",
      "['A watch’s autonomy is not just a promise, it is a pact that works both ways. Whether yours or its own, movement will always beget movement. Discover more http://on.rolex.com/autonomy #Watchmaking #Perpetual', 'This year marks the 10th anniversary of the #RolexGrandSlam of Show Jumping. And no better place to begin celebrations than at the #CHIOAachen, launchpad for the sport’s most coveted prize and a reference point for all equestrian events. More http://on.rolex.com/CHIOAachen #Perpetual', 'As a \\n@MissionBlue\\n Hope Spot Champion, Sandra Bessudo’s goal is to conserve the marine ecosystems around Malpelo Island. She currently works to create additional “swimways” to protect migrating species travelling through the oceans. More on http://bit.ly/malpelo_island_2… #PerpetualPlanet', 'A watch’s autonomy is not just a promise, it is a pact that works both ways. Whether yours or its own, movement will always beget movement. Discover more http://on.rolex.com/autonomy #Watchmaking #Perpetual', 'This year marks the 10th anniversary of the #RolexGrandSlam of Show Jumping. And no better place to begin celebrations than at the #CHIOAachen, launchpad for the sport’s most coveted prize and a reference point for all equestrian events. More http://on.rolex.com/CHIOAachen #Perpetual', 'As a \\n@MissionBlue\\n Hope Spot Champion, Sandra Bessudo’s goal is to conserve the marine ecosystems around Malpelo Island. She currently works to create additional “swimways” to protect migrating species travelling through the oceans. More on http://bit.ly/malpelo_island_2… #PerpetualPlanet', 'A watch’s autonomy is not just a promise, it is a pact that works both ways. Whether yours or its own, movement will always beget movement. Discover more http://on.rolex.com/autonomy #Watchmaking #Perpetual', 'This year marks the 10th anniversary of the #RolexGrandSlam of Show Jumping. And no better place to begin celebrations than at the #CHIOAachen, launchpad for the sport’s most coveted prize and a reference point for all equestrian events. More http://on.rolex.com/CHIOAachen #Perpetual', 'As a \\n@MissionBlue\\n Hope Spot Champion, Sandra Bessudo’s goal is to conserve the marine ecosystems around Malpelo Island. She currently works to create additional “swimways” to protect migrating species travelling through the oceans. More on http://bit.ly/malpelo_island_2… #PerpetualPlanet', 'At this week’s Lindau Nobel Laureate Meeting, #RolexAwards for Enterprise winner Grégoire Courtine and Nobel Laureate Randy W. Schekman will discuss harnessing excellence in science for society. We support this event to foster generational exchange. #LIN023 #Perpetual', 'A watch’s autonomy is not just a promise, it is a pact that works both ways. Whether yours or its own, movement will always beget movement. Discover more http://on.rolex.com/autonomy #Watchmaking #Perpetual', 'This year marks the 10th anniversary of the #RolexGrandSlam of Show Jumping. And no better place to begin celebrations than at the #CHIOAachen, launchpad for the sport’s most coveted prize and a reference point for all equestrian events. More http://on.rolex.com/CHIOAachen #Perpetual', 'As a \\n@MissionBlue\\n Hope Spot Champion, Sandra Bessudo’s goal is to conserve the marine ecosystems around Malpelo Island. She currently works to create additional “swimways” to protect migrating species travelling through the oceans. More on http://bit.ly/malpelo_island_2… #PerpetualPlanet', 'At this week’s Lindau Nobel Laureate Meeting, #RolexAwards for Enterprise winner Grégoire Courtine and Nobel Laureate Randy W. Schekman will discuss harnessing excellence in science for society. We support this event to foster generational exchange. #LIN023 #Perpetual', 'The waters around Malpelo Island in the Pacific Ocean are teeming with life. Sandra Bessudo, \\n@MissionBlue\\n Hope Spot Champion, runs expeditions to study the island’s marine species to help protect its incredible ecosystems. More on http://bit.ly/malpelo_island_1… #PerpetualPlanet', 'A watch’s autonomy is not just a promise, it is a pact that works both ways. Whether yours or its own, movement will always beget movement. Discover more http://on.rolex.com/autonomy #Watchmaking #Perpetual', 'This year marks the 10th anniversary of the #RolexGrandSlam of Show Jumping. And no better place to begin celebrations than at the #CHIOAachen, launchpad for the sport’s most coveted prize and a reference point for all equestrian events. More http://on.rolex.com/CHIOAachen #Perpetual', 'As a \\n@MissionBlue\\n Hope Spot Champion, Sandra Bessudo’s goal is to conserve the marine ecosystems around Malpelo Island. She currently works to create additional “swimways” to protect migrating species travelling through the oceans. More on http://bit.ly/malpelo_island_2… #PerpetualPlanet', 'At this week’s Lindau Nobel Laureate Meeting, #RolexAwards for Enterprise winner Grégoire Courtine and Nobel Laureate Randy W. Schekman will discuss harnessing excellence in science for society. We support this event to foster generational exchange. #LIN023 #Perpetual', 'The waters around Malpelo Island in the Pacific Ocean are teeming with life. Sandra Bessudo, \\n@MissionBlue\\n Hope Spot Champion, runs expeditions to study the island’s marine species to help protect its incredible ecosystems. More on http://bit.ly/malpelo_island_1… #PerpetualPlanet', \"'Werther', Massenet's great opera of passion, premiers today at the \\n@RoyalOperaHouse\\n with \\n@tenorkaufmann\\n in the title role, conducted by Sir Antonio Pappano. All are partners in our #PerpetualArts Initiative that supports excellence and contributes to global culture. #RolexFamily\", 'This year marks the 10th anniversary of the #RolexGrandSlam of Show Jumping. And no better place to begin celebrations than at the #CHIOAachen, launchpad for the sport’s most coveted prize and a reference point for all equestrian events. More http://on.rolex.com/CHIOAachen #Perpetual']\n",
      "4\n",
      "20\n",
      "140\n"
     ]
    },
    {
     "name": "stdout",
     "output_type": "stream",
     "text": [
      "2023-06-26T12:00:22.000Z\n",
      "['A watch’s autonomy is not just a promise, it is a pact that works both ways. Whether yours or its own, movement will always beget movement. Discover more http://on.rolex.com/autonomy #Watchmaking #Perpetual', 'This year marks the 10th anniversary of the #RolexGrandSlam of Show Jumping. And no better place to begin celebrations than at the #CHIOAachen, launchpad for the sport’s most coveted prize and a reference point for all equestrian events. More http://on.rolex.com/CHIOAachen #Perpetual', 'As a \\n@MissionBlue\\n Hope Spot Champion, Sandra Bessudo’s goal is to conserve the marine ecosystems around Malpelo Island. She currently works to create additional “swimways” to protect migrating species travelling through the oceans. More on http://bit.ly/malpelo_island_2… #PerpetualPlanet', 'A watch’s autonomy is not just a promise, it is a pact that works both ways. Whether yours or its own, movement will always beget movement. Discover more http://on.rolex.com/autonomy #Watchmaking #Perpetual', 'This year marks the 10th anniversary of the #RolexGrandSlam of Show Jumping. And no better place to begin celebrations than at the #CHIOAachen, launchpad for the sport’s most coveted prize and a reference point for all equestrian events. More http://on.rolex.com/CHIOAachen #Perpetual', 'As a \\n@MissionBlue\\n Hope Spot Champion, Sandra Bessudo’s goal is to conserve the marine ecosystems around Malpelo Island. She currently works to create additional “swimways” to protect migrating species travelling through the oceans. More on http://bit.ly/malpelo_island_2… #PerpetualPlanet', 'A watch’s autonomy is not just a promise, it is a pact that works both ways. Whether yours or its own, movement will always beget movement. Discover more http://on.rolex.com/autonomy #Watchmaking #Perpetual', 'This year marks the 10th anniversary of the #RolexGrandSlam of Show Jumping. And no better place to begin celebrations than at the #CHIOAachen, launchpad for the sport’s most coveted prize and a reference point for all equestrian events. More http://on.rolex.com/CHIOAachen #Perpetual', 'As a \\n@MissionBlue\\n Hope Spot Champion, Sandra Bessudo’s goal is to conserve the marine ecosystems around Malpelo Island. She currently works to create additional “swimways” to protect migrating species travelling through the oceans. More on http://bit.ly/malpelo_island_2… #PerpetualPlanet', 'At this week’s Lindau Nobel Laureate Meeting, #RolexAwards for Enterprise winner Grégoire Courtine and Nobel Laureate Randy W. Schekman will discuss harnessing excellence in science for society. We support this event to foster generational exchange. #LIN023 #Perpetual', 'A watch’s autonomy is not just a promise, it is a pact that works both ways. Whether yours or its own, movement will always beget movement. Discover more http://on.rolex.com/autonomy #Watchmaking #Perpetual', 'This year marks the 10th anniversary of the #RolexGrandSlam of Show Jumping. And no better place to begin celebrations than at the #CHIOAachen, launchpad for the sport’s most coveted prize and a reference point for all equestrian events. More http://on.rolex.com/CHIOAachen #Perpetual', 'As a \\n@MissionBlue\\n Hope Spot Champion, Sandra Bessudo’s goal is to conserve the marine ecosystems around Malpelo Island. She currently works to create additional “swimways” to protect migrating species travelling through the oceans. More on http://bit.ly/malpelo_island_2… #PerpetualPlanet', 'At this week’s Lindau Nobel Laureate Meeting, #RolexAwards for Enterprise winner Grégoire Courtine and Nobel Laureate Randy W. Schekman will discuss harnessing excellence in science for society. We support this event to foster generational exchange. #LIN023 #Perpetual', 'The waters around Malpelo Island in the Pacific Ocean are teeming with life. Sandra Bessudo, \\n@MissionBlue\\n Hope Spot Champion, runs expeditions to study the island’s marine species to help protect its incredible ecosystems. More on http://bit.ly/malpelo_island_1… #PerpetualPlanet', 'A watch’s autonomy is not just a promise, it is a pact that works both ways. Whether yours or its own, movement will always beget movement. Discover more http://on.rolex.com/autonomy #Watchmaking #Perpetual', 'This year marks the 10th anniversary of the #RolexGrandSlam of Show Jumping. And no better place to begin celebrations than at the #CHIOAachen, launchpad for the sport’s most coveted prize and a reference point for all equestrian events. More http://on.rolex.com/CHIOAachen #Perpetual', 'As a \\n@MissionBlue\\n Hope Spot Champion, Sandra Bessudo’s goal is to conserve the marine ecosystems around Malpelo Island. She currently works to create additional “swimways” to protect migrating species travelling through the oceans. More on http://bit.ly/malpelo_island_2… #PerpetualPlanet', 'At this week’s Lindau Nobel Laureate Meeting, #RolexAwards for Enterprise winner Grégoire Courtine and Nobel Laureate Randy W. Schekman will discuss harnessing excellence in science for society. We support this event to foster generational exchange. #LIN023 #Perpetual', 'The waters around Malpelo Island in the Pacific Ocean are teeming with life. Sandra Bessudo, \\n@MissionBlue\\n Hope Spot Champion, runs expeditions to study the island’s marine species to help protect its incredible ecosystems. More on http://bit.ly/malpelo_island_1… #PerpetualPlanet', \"'Werther', Massenet's great opera of passion, premiers today at the \\n@RoyalOperaHouse\\n with \\n@tenorkaufmann\\n in the title role, conducted by Sir Antonio Pappano. All are partners in our #PerpetualArts Initiative that supports excellence and contributes to global culture. #RolexFamily\", 'This year marks the 10th anniversary of the #RolexGrandSlam of Show Jumping. And no better place to begin celebrations than at the #CHIOAachen, launchpad for the sport’s most coveted prize and a reference point for all equestrian events. More http://on.rolex.com/CHIOAachen #Perpetual', 'As a \\n@MissionBlue\\n Hope Spot Champion, Sandra Bessudo’s goal is to conserve the marine ecosystems around Malpelo Island. She currently works to create additional “swimways” to protect migrating species travelling through the oceans. More on http://bit.ly/malpelo_island_2… #PerpetualPlanet']\n",
      "12\n",
      "20\n",
      "275\n",
      "2023-06-25T08:00:03.000Z\n",
      "['A watch’s autonomy is not just a promise, it is a pact that works both ways. Whether yours or its own, movement will always beget movement. Discover more http://on.rolex.com/autonomy #Watchmaking #Perpetual', 'This year marks the 10th anniversary of the #RolexGrandSlam of Show Jumping. And no better place to begin celebrations than at the #CHIOAachen, launchpad for the sport’s most coveted prize and a reference point for all equestrian events. More http://on.rolex.com/CHIOAachen #Perpetual', 'As a \\n@MissionBlue\\n Hope Spot Champion, Sandra Bessudo’s goal is to conserve the marine ecosystems around Malpelo Island. She currently works to create additional “swimways” to protect migrating species travelling through the oceans. More on http://bit.ly/malpelo_island_2… #PerpetualPlanet', 'A watch’s autonomy is not just a promise, it is a pact that works both ways. Whether yours or its own, movement will always beget movement. Discover more http://on.rolex.com/autonomy #Watchmaking #Perpetual', 'This year marks the 10th anniversary of the #RolexGrandSlam of Show Jumping. And no better place to begin celebrations than at the #CHIOAachen, launchpad for the sport’s most coveted prize and a reference point for all equestrian events. More http://on.rolex.com/CHIOAachen #Perpetual', 'As a \\n@MissionBlue\\n Hope Spot Champion, Sandra Bessudo’s goal is to conserve the marine ecosystems around Malpelo Island. She currently works to create additional “swimways” to protect migrating species travelling through the oceans. More on http://bit.ly/malpelo_island_2… #PerpetualPlanet', 'A watch’s autonomy is not just a promise, it is a pact that works both ways. Whether yours or its own, movement will always beget movement. Discover more http://on.rolex.com/autonomy #Watchmaking #Perpetual', 'This year marks the 10th anniversary of the #RolexGrandSlam of Show Jumping. And no better place to begin celebrations than at the #CHIOAachen, launchpad for the sport’s most coveted prize and a reference point for all equestrian events. More http://on.rolex.com/CHIOAachen #Perpetual', 'As a \\n@MissionBlue\\n Hope Spot Champion, Sandra Bessudo’s goal is to conserve the marine ecosystems around Malpelo Island. She currently works to create additional “swimways” to protect migrating species travelling through the oceans. More on http://bit.ly/malpelo_island_2… #PerpetualPlanet', 'At this week’s Lindau Nobel Laureate Meeting, #RolexAwards for Enterprise winner Grégoire Courtine and Nobel Laureate Randy W. Schekman will discuss harnessing excellence in science for society. We support this event to foster generational exchange. #LIN023 #Perpetual', 'A watch’s autonomy is not just a promise, it is a pact that works both ways. Whether yours or its own, movement will always beget movement. Discover more http://on.rolex.com/autonomy #Watchmaking #Perpetual', 'This year marks the 10th anniversary of the #RolexGrandSlam of Show Jumping. And no better place to begin celebrations than at the #CHIOAachen, launchpad for the sport’s most coveted prize and a reference point for all equestrian events. More http://on.rolex.com/CHIOAachen #Perpetual', 'As a \\n@MissionBlue\\n Hope Spot Champion, Sandra Bessudo’s goal is to conserve the marine ecosystems around Malpelo Island. She currently works to create additional “swimways” to protect migrating species travelling through the oceans. More on http://bit.ly/malpelo_island_2… #PerpetualPlanet', 'At this week’s Lindau Nobel Laureate Meeting, #RolexAwards for Enterprise winner Grégoire Courtine and Nobel Laureate Randy W. Schekman will discuss harnessing excellence in science for society. We support this event to foster generational exchange. #LIN023 #Perpetual', 'The waters around Malpelo Island in the Pacific Ocean are teeming with life. Sandra Bessudo, \\n@MissionBlue\\n Hope Spot Champion, runs expeditions to study the island’s marine species to help protect its incredible ecosystems. More on http://bit.ly/malpelo_island_1… #PerpetualPlanet', 'A watch’s autonomy is not just a promise, it is a pact that works both ways. Whether yours or its own, movement will always beget movement. Discover more http://on.rolex.com/autonomy #Watchmaking #Perpetual', 'This year marks the 10th anniversary of the #RolexGrandSlam of Show Jumping. And no better place to begin celebrations than at the #CHIOAachen, launchpad for the sport’s most coveted prize and a reference point for all equestrian events. More http://on.rolex.com/CHIOAachen #Perpetual', 'As a \\n@MissionBlue\\n Hope Spot Champion, Sandra Bessudo’s goal is to conserve the marine ecosystems around Malpelo Island. She currently works to create additional “swimways” to protect migrating species travelling through the oceans. More on http://bit.ly/malpelo_island_2… #PerpetualPlanet', 'At this week’s Lindau Nobel Laureate Meeting, #RolexAwards for Enterprise winner Grégoire Courtine and Nobel Laureate Randy W. Schekman will discuss harnessing excellence in science for society. We support this event to foster generational exchange. #LIN023 #Perpetual', 'The waters around Malpelo Island in the Pacific Ocean are teeming with life. Sandra Bessudo, \\n@MissionBlue\\n Hope Spot Champion, runs expeditions to study the island’s marine species to help protect its incredible ecosystems. More on http://bit.ly/malpelo_island_1… #PerpetualPlanet', \"'Werther', Massenet's great opera of passion, premiers today at the \\n@RoyalOperaHouse\\n with \\n@tenorkaufmann\\n in the title role, conducted by Sir Antonio Pappano. All are partners in our #PerpetualArts Initiative that supports excellence and contributes to global culture. #RolexFamily\", 'This year marks the 10th anniversary of the #RolexGrandSlam of Show Jumping. And no better place to begin celebrations than at the #CHIOAachen, launchpad for the sport’s most coveted prize and a reference point for all equestrian events. More http://on.rolex.com/CHIOAachen #Perpetual', 'As a \\n@MissionBlue\\n Hope Spot Champion, Sandra Bessudo’s goal is to conserve the marine ecosystems around Malpelo Island. She currently works to create additional “swimways” to protect migrating species travelling through the oceans. More on http://bit.ly/malpelo_island_2… #PerpetualPlanet', 'At this week’s Lindau Nobel Laureate Meeting, #RolexAwards for Enterprise winner Grégoire Courtine and Nobel Laureate Randy W. Schekman will discuss harnessing excellence in science for society. We support this event to foster generational exchange. #LIN023 #Perpetual']\n",
      "6\n",
      "20\n",
      "211\n",
      "2023-06-22T11:30:27.000Z\n",
      "['A watch’s autonomy is not just a promise, it is a pact that works both ways. Whether yours or its own, movement will always beget movement. Discover more http://on.rolex.com/autonomy #Watchmaking #Perpetual', 'This year marks the 10th anniversary of the #RolexGrandSlam of Show Jumping. And no better place to begin celebrations than at the #CHIOAachen, launchpad for the sport’s most coveted prize and a reference point for all equestrian events. More http://on.rolex.com/CHIOAachen #Perpetual', 'As a \\n@MissionBlue\\n Hope Spot Champion, Sandra Bessudo’s goal is to conserve the marine ecosystems around Malpelo Island. She currently works to create additional “swimways” to protect migrating species travelling through the oceans. More on http://bit.ly/malpelo_island_2… #PerpetualPlanet', 'A watch’s autonomy is not just a promise, it is a pact that works both ways. Whether yours or its own, movement will always beget movement. Discover more http://on.rolex.com/autonomy #Watchmaking #Perpetual', 'This year marks the 10th anniversary of the #RolexGrandSlam of Show Jumping. And no better place to begin celebrations than at the #CHIOAachen, launchpad for the sport’s most coveted prize and a reference point for all equestrian events. More http://on.rolex.com/CHIOAachen #Perpetual', 'As a \\n@MissionBlue\\n Hope Spot Champion, Sandra Bessudo’s goal is to conserve the marine ecosystems around Malpelo Island. She currently works to create additional “swimways” to protect migrating species travelling through the oceans. More on http://bit.ly/malpelo_island_2… #PerpetualPlanet', 'A watch’s autonomy is not just a promise, it is a pact that works both ways. Whether yours or its own, movement will always beget movement. Discover more http://on.rolex.com/autonomy #Watchmaking #Perpetual', 'This year marks the 10th anniversary of the #RolexGrandSlam of Show Jumping. And no better place to begin celebrations than at the #CHIOAachen, launchpad for the sport’s most coveted prize and a reference point for all equestrian events. More http://on.rolex.com/CHIOAachen #Perpetual', 'As a \\n@MissionBlue\\n Hope Spot Champion, Sandra Bessudo’s goal is to conserve the marine ecosystems around Malpelo Island. She currently works to create additional “swimways” to protect migrating species travelling through the oceans. More on http://bit.ly/malpelo_island_2… #PerpetualPlanet', 'At this week’s Lindau Nobel Laureate Meeting, #RolexAwards for Enterprise winner Grégoire Courtine and Nobel Laureate Randy W. Schekman will discuss harnessing excellence in science for society. We support this event to foster generational exchange. #LIN023 #Perpetual', 'A watch’s autonomy is not just a promise, it is a pact that works both ways. Whether yours or its own, movement will always beget movement. Discover more http://on.rolex.com/autonomy #Watchmaking #Perpetual', 'This year marks the 10th anniversary of the #RolexGrandSlam of Show Jumping. And no better place to begin celebrations than at the #CHIOAachen, launchpad for the sport’s most coveted prize and a reference point for all equestrian events. More http://on.rolex.com/CHIOAachen #Perpetual', 'As a \\n@MissionBlue\\n Hope Spot Champion, Sandra Bessudo’s goal is to conserve the marine ecosystems around Malpelo Island. She currently works to create additional “swimways” to protect migrating species travelling through the oceans. More on http://bit.ly/malpelo_island_2… #PerpetualPlanet', 'At this week’s Lindau Nobel Laureate Meeting, #RolexAwards for Enterprise winner Grégoire Courtine and Nobel Laureate Randy W. Schekman will discuss harnessing excellence in science for society. We support this event to foster generational exchange. #LIN023 #Perpetual', 'The waters around Malpelo Island in the Pacific Ocean are teeming with life. Sandra Bessudo, \\n@MissionBlue\\n Hope Spot Champion, runs expeditions to study the island’s marine species to help protect its incredible ecosystems. More on http://bit.ly/malpelo_island_1… #PerpetualPlanet', 'A watch’s autonomy is not just a promise, it is a pact that works both ways. Whether yours or its own, movement will always beget movement. Discover more http://on.rolex.com/autonomy #Watchmaking #Perpetual', 'This year marks the 10th anniversary of the #RolexGrandSlam of Show Jumping. And no better place to begin celebrations than at the #CHIOAachen, launchpad for the sport’s most coveted prize and a reference point for all equestrian events. More http://on.rolex.com/CHIOAachen #Perpetual', 'As a \\n@MissionBlue\\n Hope Spot Champion, Sandra Bessudo’s goal is to conserve the marine ecosystems around Malpelo Island. She currently works to create additional “swimways” to protect migrating species travelling through the oceans. More on http://bit.ly/malpelo_island_2… #PerpetualPlanet', 'At this week’s Lindau Nobel Laureate Meeting, #RolexAwards for Enterprise winner Grégoire Courtine and Nobel Laureate Randy W. Schekman will discuss harnessing excellence in science for society. We support this event to foster generational exchange. #LIN023 #Perpetual', 'The waters around Malpelo Island in the Pacific Ocean are teeming with life. Sandra Bessudo, \\n@MissionBlue\\n Hope Spot Champion, runs expeditions to study the island’s marine species to help protect its incredible ecosystems. More on http://bit.ly/malpelo_island_1… #PerpetualPlanet', \"'Werther', Massenet's great opera of passion, premiers today at the \\n@RoyalOperaHouse\\n with \\n@tenorkaufmann\\n in the title role, conducted by Sir Antonio Pappano. All are partners in our #PerpetualArts Initiative that supports excellence and contributes to global culture. #RolexFamily\", 'This year marks the 10th anniversary of the #RolexGrandSlam of Show Jumping. And no better place to begin celebrations than at the #CHIOAachen, launchpad for the sport’s most coveted prize and a reference point for all equestrian events. More http://on.rolex.com/CHIOAachen #Perpetual', 'As a \\n@MissionBlue\\n Hope Spot Champion, Sandra Bessudo’s goal is to conserve the marine ecosystems around Malpelo Island. She currently works to create additional “swimways” to protect migrating species travelling through the oceans. More on http://bit.ly/malpelo_island_2… #PerpetualPlanet', 'At this week’s Lindau Nobel Laureate Meeting, #RolexAwards for Enterprise winner Grégoire Courtine and Nobel Laureate Randy W. Schekman will discuss harnessing excellence in science for society. We support this event to foster generational exchange. #LIN023 #Perpetual', 'The waters around Malpelo Island in the Pacific Ocean are teeming with life. Sandra Bessudo, \\n@MissionBlue\\n Hope Spot Champion, runs expeditions to study the island’s marine species to help protect its incredible ecosystems. More on http://bit.ly/malpelo_island_1… #PerpetualPlanet']\n",
      "11\n"
     ]
    },
    {
     "name": "stdout",
     "output_type": "stream",
     "text": [
      "20\n",
      "337\n",
      "2023-06-20T14:00:06.000Z\n",
      "['A watch’s autonomy is not just a promise, it is a pact that works both ways. Whether yours or its own, movement will always beget movement. Discover more http://on.rolex.com/autonomy #Watchmaking #Perpetual', 'This year marks the 10th anniversary of the #RolexGrandSlam of Show Jumping. And no better place to begin celebrations than at the #CHIOAachen, launchpad for the sport’s most coveted prize and a reference point for all equestrian events. More http://on.rolex.com/CHIOAachen #Perpetual', 'As a \\n@MissionBlue\\n Hope Spot Champion, Sandra Bessudo’s goal is to conserve the marine ecosystems around Malpelo Island. She currently works to create additional “swimways” to protect migrating species travelling through the oceans. More on http://bit.ly/malpelo_island_2… #PerpetualPlanet', 'A watch’s autonomy is not just a promise, it is a pact that works both ways. Whether yours or its own, movement will always beget movement. Discover more http://on.rolex.com/autonomy #Watchmaking #Perpetual', 'This year marks the 10th anniversary of the #RolexGrandSlam of Show Jumping. And no better place to begin celebrations than at the #CHIOAachen, launchpad for the sport’s most coveted prize and a reference point for all equestrian events. More http://on.rolex.com/CHIOAachen #Perpetual', 'As a \\n@MissionBlue\\n Hope Spot Champion, Sandra Bessudo’s goal is to conserve the marine ecosystems around Malpelo Island. She currently works to create additional “swimways” to protect migrating species travelling through the oceans. More on http://bit.ly/malpelo_island_2… #PerpetualPlanet', 'A watch’s autonomy is not just a promise, it is a pact that works both ways. Whether yours or its own, movement will always beget movement. Discover more http://on.rolex.com/autonomy #Watchmaking #Perpetual', 'This year marks the 10th anniversary of the #RolexGrandSlam of Show Jumping. And no better place to begin celebrations than at the #CHIOAachen, launchpad for the sport’s most coveted prize and a reference point for all equestrian events. More http://on.rolex.com/CHIOAachen #Perpetual', 'As a \\n@MissionBlue\\n Hope Spot Champion, Sandra Bessudo’s goal is to conserve the marine ecosystems around Malpelo Island. She currently works to create additional “swimways” to protect migrating species travelling through the oceans. More on http://bit.ly/malpelo_island_2… #PerpetualPlanet', 'At this week’s Lindau Nobel Laureate Meeting, #RolexAwards for Enterprise winner Grégoire Courtine and Nobel Laureate Randy W. Schekman will discuss harnessing excellence in science for society. We support this event to foster generational exchange. #LIN023 #Perpetual', 'A watch’s autonomy is not just a promise, it is a pact that works both ways. Whether yours or its own, movement will always beget movement. Discover more http://on.rolex.com/autonomy #Watchmaking #Perpetual', 'This year marks the 10th anniversary of the #RolexGrandSlam of Show Jumping. And no better place to begin celebrations than at the #CHIOAachen, launchpad for the sport’s most coveted prize and a reference point for all equestrian events. More http://on.rolex.com/CHIOAachen #Perpetual', 'As a \\n@MissionBlue\\n Hope Spot Champion, Sandra Bessudo’s goal is to conserve the marine ecosystems around Malpelo Island. She currently works to create additional “swimways” to protect migrating species travelling through the oceans. More on http://bit.ly/malpelo_island_2… #PerpetualPlanet', 'At this week’s Lindau Nobel Laureate Meeting, #RolexAwards for Enterprise winner Grégoire Courtine and Nobel Laureate Randy W. Schekman will discuss harnessing excellence in science for society. We support this event to foster generational exchange. #LIN023 #Perpetual', 'The waters around Malpelo Island in the Pacific Ocean are teeming with life. Sandra Bessudo, \\n@MissionBlue\\n Hope Spot Champion, runs expeditions to study the island’s marine species to help protect its incredible ecosystems. More on http://bit.ly/malpelo_island_1… #PerpetualPlanet', 'A watch’s autonomy is not just a promise, it is a pact that works both ways. Whether yours or its own, movement will always beget movement. Discover more http://on.rolex.com/autonomy #Watchmaking #Perpetual', 'This year marks the 10th anniversary of the #RolexGrandSlam of Show Jumping. And no better place to begin celebrations than at the #CHIOAachen, launchpad for the sport’s most coveted prize and a reference point for all equestrian events. More http://on.rolex.com/CHIOAachen #Perpetual', 'As a \\n@MissionBlue\\n Hope Spot Champion, Sandra Bessudo’s goal is to conserve the marine ecosystems around Malpelo Island. She currently works to create additional “swimways” to protect migrating species travelling through the oceans. More on http://bit.ly/malpelo_island_2… #PerpetualPlanet', 'At this week’s Lindau Nobel Laureate Meeting, #RolexAwards for Enterprise winner Grégoire Courtine and Nobel Laureate Randy W. Schekman will discuss harnessing excellence in science for society. We support this event to foster generational exchange. #LIN023 #Perpetual', 'The waters around Malpelo Island in the Pacific Ocean are teeming with life. Sandra Bessudo, \\n@MissionBlue\\n Hope Spot Champion, runs expeditions to study the island’s marine species to help protect its incredible ecosystems. More on http://bit.ly/malpelo_island_1… #PerpetualPlanet', \"'Werther', Massenet's great opera of passion, premiers today at the \\n@RoyalOperaHouse\\n with \\n@tenorkaufmann\\n in the title role, conducted by Sir Antonio Pappano. All are partners in our #PerpetualArts Initiative that supports excellence and contributes to global culture. #RolexFamily\", 'This year marks the 10th anniversary of the #RolexGrandSlam of Show Jumping. And no better place to begin celebrations than at the #CHIOAachen, launchpad for the sport’s most coveted prize and a reference point for all equestrian events. More http://on.rolex.com/CHIOAachen #Perpetual', 'As a \\n@MissionBlue\\n Hope Spot Champion, Sandra Bessudo’s goal is to conserve the marine ecosystems around Malpelo Island. She currently works to create additional “swimways” to protect migrating species travelling through the oceans. More on http://bit.ly/malpelo_island_2… #PerpetualPlanet', 'At this week’s Lindau Nobel Laureate Meeting, #RolexAwards for Enterprise winner Grégoire Courtine and Nobel Laureate Randy W. Schekman will discuss harnessing excellence in science for society. We support this event to foster generational exchange. #LIN023 #Perpetual', 'The waters around Malpelo Island in the Pacific Ocean are teeming with life. Sandra Bessudo, \\n@MissionBlue\\n Hope Spot Champion, runs expeditions to study the island’s marine species to help protect its incredible ecosystems. More on http://bit.ly/malpelo_island_1… #PerpetualPlanet', \"'Werther', Massenet's great opera of passion, premiers today at the \\n@RoyalOperaHouse\\n with \\n@tenorkaufmann\\n in the title role, conducted by Sir Antonio Pappano. All are partners in our #PerpetualArts Initiative that supports excellence and contributes to global culture. #RolexFamily\"]\n",
      "5\n",
      "20\n",
      "140\n",
      "2023-06-19T15:00:20.000Z\n",
      "['A watch’s autonomy is not just a promise, it is a pact that works both ways. Whether yours or its own, movement will always beget movement. Discover more http://on.rolex.com/autonomy #Watchmaking #Perpetual', 'This year marks the 10th anniversary of the #RolexGrandSlam of Show Jumping. And no better place to begin celebrations than at the #CHIOAachen, launchpad for the sport’s most coveted prize and a reference point for all equestrian events. More http://on.rolex.com/CHIOAachen #Perpetual', 'As a \\n@MissionBlue\\n Hope Spot Champion, Sandra Bessudo’s goal is to conserve the marine ecosystems around Malpelo Island. She currently works to create additional “swimways” to protect migrating species travelling through the oceans. More on http://bit.ly/malpelo_island_2… #PerpetualPlanet', 'A watch’s autonomy is not just a promise, it is a pact that works both ways. Whether yours or its own, movement will always beget movement. Discover more http://on.rolex.com/autonomy #Watchmaking #Perpetual', 'This year marks the 10th anniversary of the #RolexGrandSlam of Show Jumping. And no better place to begin celebrations than at the #CHIOAachen, launchpad for the sport’s most coveted prize and a reference point for all equestrian events. More http://on.rolex.com/CHIOAachen #Perpetual', 'As a \\n@MissionBlue\\n Hope Spot Champion, Sandra Bessudo’s goal is to conserve the marine ecosystems around Malpelo Island. She currently works to create additional “swimways” to protect migrating species travelling through the oceans. More on http://bit.ly/malpelo_island_2… #PerpetualPlanet', 'A watch’s autonomy is not just a promise, it is a pact that works both ways. Whether yours or its own, movement will always beget movement. Discover more http://on.rolex.com/autonomy #Watchmaking #Perpetual', 'This year marks the 10th anniversary of the #RolexGrandSlam of Show Jumping. And no better place to begin celebrations than at the #CHIOAachen, launchpad for the sport’s most coveted prize and a reference point for all equestrian events. More http://on.rolex.com/CHIOAachen #Perpetual', 'As a \\n@MissionBlue\\n Hope Spot Champion, Sandra Bessudo’s goal is to conserve the marine ecosystems around Malpelo Island. She currently works to create additional “swimways” to protect migrating species travelling through the oceans. More on http://bit.ly/malpelo_island_2… #PerpetualPlanet', 'At this week’s Lindau Nobel Laureate Meeting, #RolexAwards for Enterprise winner Grégoire Courtine and Nobel Laureate Randy W. Schekman will discuss harnessing excellence in science for society. We support this event to foster generational exchange. #LIN023 #Perpetual', 'A watch’s autonomy is not just a promise, it is a pact that works both ways. Whether yours or its own, movement will always beget movement. Discover more http://on.rolex.com/autonomy #Watchmaking #Perpetual', 'This year marks the 10th anniversary of the #RolexGrandSlam of Show Jumping. And no better place to begin celebrations than at the #CHIOAachen, launchpad for the sport’s most coveted prize and a reference point for all equestrian events. More http://on.rolex.com/CHIOAachen #Perpetual', 'As a \\n@MissionBlue\\n Hope Spot Champion, Sandra Bessudo’s goal is to conserve the marine ecosystems around Malpelo Island. She currently works to create additional “swimways” to protect migrating species travelling through the oceans. More on http://bit.ly/malpelo_island_2… #PerpetualPlanet', 'At this week’s Lindau Nobel Laureate Meeting, #RolexAwards for Enterprise winner Grégoire Courtine and Nobel Laureate Randy W. Schekman will discuss harnessing excellence in science for society. We support this event to foster generational exchange. #LIN023 #Perpetual', 'The waters around Malpelo Island in the Pacific Ocean are teeming with life. Sandra Bessudo, \\n@MissionBlue\\n Hope Spot Champion, runs expeditions to study the island’s marine species to help protect its incredible ecosystems. More on http://bit.ly/malpelo_island_1… #PerpetualPlanet', 'A watch’s autonomy is not just a promise, it is a pact that works both ways. Whether yours or its own, movement will always beget movement. Discover more http://on.rolex.com/autonomy #Watchmaking #Perpetual', 'This year marks the 10th anniversary of the #RolexGrandSlam of Show Jumping. And no better place to begin celebrations than at the #CHIOAachen, launchpad for the sport’s most coveted prize and a reference point for all equestrian events. More http://on.rolex.com/CHIOAachen #Perpetual', 'As a \\n@MissionBlue\\n Hope Spot Champion, Sandra Bessudo’s goal is to conserve the marine ecosystems around Malpelo Island. She currently works to create additional “swimways” to protect migrating species travelling through the oceans. More on http://bit.ly/malpelo_island_2… #PerpetualPlanet', 'At this week’s Lindau Nobel Laureate Meeting, #RolexAwards for Enterprise winner Grégoire Courtine and Nobel Laureate Randy W. Schekman will discuss harnessing excellence in science for society. We support this event to foster generational exchange. #LIN023 #Perpetual', 'The waters around Malpelo Island in the Pacific Ocean are teeming with life. Sandra Bessudo, \\n@MissionBlue\\n Hope Spot Champion, runs expeditions to study the island’s marine species to help protect its incredible ecosystems. More on http://bit.ly/malpelo_island_1… #PerpetualPlanet', \"'Werther', Massenet's great opera of passion, premiers today at the \\n@RoyalOperaHouse\\n with \\n@tenorkaufmann\\n in the title role, conducted by Sir Antonio Pappano. All are partners in our #PerpetualArts Initiative that supports excellence and contributes to global culture. #RolexFamily\", 'This year marks the 10th anniversary of the #RolexGrandSlam of Show Jumping. And no better place to begin celebrations than at the #CHIOAachen, launchpad for the sport’s most coveted prize and a reference point for all equestrian events. More http://on.rolex.com/CHIOAachen #Perpetual', 'As a \\n@MissionBlue\\n Hope Spot Champion, Sandra Bessudo’s goal is to conserve the marine ecosystems around Malpelo Island. She currently works to create additional “swimways” to protect migrating species travelling through the oceans. More on http://bit.ly/malpelo_island_2… #PerpetualPlanet', 'At this week’s Lindau Nobel Laureate Meeting, #RolexAwards for Enterprise winner Grégoire Courtine and Nobel Laureate Randy W. Schekman will discuss harnessing excellence in science for society. We support this event to foster generational exchange. #LIN023 #Perpetual', 'The waters around Malpelo Island in the Pacific Ocean are teeming with life. Sandra Bessudo, \\n@MissionBlue\\n Hope Spot Champion, runs expeditions to study the island’s marine species to help protect its incredible ecosystems. More on http://bit.ly/malpelo_island_1… #PerpetualPlanet', \"'Werther', Massenet's great opera of passion, premiers today at the \\n@RoyalOperaHouse\\n with \\n@tenorkaufmann\\n in the title role, conducted by Sir Antonio Pappano. All are partners in our #PerpetualArts Initiative that supports excellence and contributes to global culture. #RolexFamily\", 'Whatever the conditions, the #Submariner’s Cerachrom bezel insert remains functional and reliable. Made from a hard, corrosion-resistant ceramic, it is virtually scratchproof and its colour unaffected by ultraviolet rays or seawater. More http://on.rolex.com/Robustness #Perpetual']\n",
      "19\n",
      "20\n"
     ]
    },
    {
     "name": "stdout",
     "output_type": "stream",
     "text": [
      "952\n",
      "2023-06-26T12:00:22.000Z\n",
      "['A watch’s autonomy is not just a promise, it is a pact that works both ways. Whether yours or its own, movement will always beget movement. Discover more http://on.rolex.com/autonomy #Watchmaking #Perpetual', 'This year marks the 10th anniversary of the #RolexGrandSlam of Show Jumping. And no better place to begin celebrations than at the #CHIOAachen, launchpad for the sport’s most coveted prize and a reference point for all equestrian events. More http://on.rolex.com/CHIOAachen #Perpetual', 'As a \\n@MissionBlue\\n Hope Spot Champion, Sandra Bessudo’s goal is to conserve the marine ecosystems around Malpelo Island. She currently works to create additional “swimways” to protect migrating species travelling through the oceans. More on http://bit.ly/malpelo_island_2… #PerpetualPlanet', 'A watch’s autonomy is not just a promise, it is a pact that works both ways. Whether yours or its own, movement will always beget movement. Discover more http://on.rolex.com/autonomy #Watchmaking #Perpetual', 'This year marks the 10th anniversary of the #RolexGrandSlam of Show Jumping. And no better place to begin celebrations than at the #CHIOAachen, launchpad for the sport’s most coveted prize and a reference point for all equestrian events. More http://on.rolex.com/CHIOAachen #Perpetual', 'As a \\n@MissionBlue\\n Hope Spot Champion, Sandra Bessudo’s goal is to conserve the marine ecosystems around Malpelo Island. She currently works to create additional “swimways” to protect migrating species travelling through the oceans. More on http://bit.ly/malpelo_island_2… #PerpetualPlanet', 'A watch’s autonomy is not just a promise, it is a pact that works both ways. Whether yours or its own, movement will always beget movement. Discover more http://on.rolex.com/autonomy #Watchmaking #Perpetual', 'This year marks the 10th anniversary of the #RolexGrandSlam of Show Jumping. And no better place to begin celebrations than at the #CHIOAachen, launchpad for the sport’s most coveted prize and a reference point for all equestrian events. More http://on.rolex.com/CHIOAachen #Perpetual', 'As a \\n@MissionBlue\\n Hope Spot Champion, Sandra Bessudo’s goal is to conserve the marine ecosystems around Malpelo Island. She currently works to create additional “swimways” to protect migrating species travelling through the oceans. More on http://bit.ly/malpelo_island_2… #PerpetualPlanet', 'At this week’s Lindau Nobel Laureate Meeting, #RolexAwards for Enterprise winner Grégoire Courtine and Nobel Laureate Randy W. Schekman will discuss harnessing excellence in science for society. We support this event to foster generational exchange. #LIN023 #Perpetual', 'A watch’s autonomy is not just a promise, it is a pact that works both ways. Whether yours or its own, movement will always beget movement. Discover more http://on.rolex.com/autonomy #Watchmaking #Perpetual', 'This year marks the 10th anniversary of the #RolexGrandSlam of Show Jumping. And no better place to begin celebrations than at the #CHIOAachen, launchpad for the sport’s most coveted prize and a reference point for all equestrian events. More http://on.rolex.com/CHIOAachen #Perpetual', 'As a \\n@MissionBlue\\n Hope Spot Champion, Sandra Bessudo’s goal is to conserve the marine ecosystems around Malpelo Island. She currently works to create additional “swimways” to protect migrating species travelling through the oceans. More on http://bit.ly/malpelo_island_2… #PerpetualPlanet', 'At this week’s Lindau Nobel Laureate Meeting, #RolexAwards for Enterprise winner Grégoire Courtine and Nobel Laureate Randy W. Schekman will discuss harnessing excellence in science for society. We support this event to foster generational exchange. #LIN023 #Perpetual', 'The waters around Malpelo Island in the Pacific Ocean are teeming with life. Sandra Bessudo, \\n@MissionBlue\\n Hope Spot Champion, runs expeditions to study the island’s marine species to help protect its incredible ecosystems. More on http://bit.ly/malpelo_island_1… #PerpetualPlanet', 'A watch’s autonomy is not just a promise, it is a pact that works both ways. Whether yours or its own, movement will always beget movement. Discover more http://on.rolex.com/autonomy #Watchmaking #Perpetual', 'This year marks the 10th anniversary of the #RolexGrandSlam of Show Jumping. And no better place to begin celebrations than at the #CHIOAachen, launchpad for the sport’s most coveted prize and a reference point for all equestrian events. More http://on.rolex.com/CHIOAachen #Perpetual', 'As a \\n@MissionBlue\\n Hope Spot Champion, Sandra Bessudo’s goal is to conserve the marine ecosystems around Malpelo Island. She currently works to create additional “swimways” to protect migrating species travelling through the oceans. More on http://bit.ly/malpelo_island_2… #PerpetualPlanet', 'At this week’s Lindau Nobel Laureate Meeting, #RolexAwards for Enterprise winner Grégoire Courtine and Nobel Laureate Randy W. Schekman will discuss harnessing excellence in science for society. We support this event to foster generational exchange. #LIN023 #Perpetual', 'The waters around Malpelo Island in the Pacific Ocean are teeming with life. Sandra Bessudo, \\n@MissionBlue\\n Hope Spot Champion, runs expeditions to study the island’s marine species to help protect its incredible ecosystems. More on http://bit.ly/malpelo_island_1… #PerpetualPlanet', \"'Werther', Massenet's great opera of passion, premiers today at the \\n@RoyalOperaHouse\\n with \\n@tenorkaufmann\\n in the title role, conducted by Sir Antonio Pappano. All are partners in our #PerpetualArts Initiative that supports excellence and contributes to global culture. #RolexFamily\", 'This year marks the 10th anniversary of the #RolexGrandSlam of Show Jumping. And no better place to begin celebrations than at the #CHIOAachen, launchpad for the sport’s most coveted prize and a reference point for all equestrian events. More http://on.rolex.com/CHIOAachen #Perpetual', 'As a \\n@MissionBlue\\n Hope Spot Champion, Sandra Bessudo’s goal is to conserve the marine ecosystems around Malpelo Island. She currently works to create additional “swimways” to protect migrating species travelling through the oceans. More on http://bit.ly/malpelo_island_2… #PerpetualPlanet', 'At this week’s Lindau Nobel Laureate Meeting, #RolexAwards for Enterprise winner Grégoire Courtine and Nobel Laureate Randy W. Schekman will discuss harnessing excellence in science for society. We support this event to foster generational exchange. #LIN023 #Perpetual', 'The waters around Malpelo Island in the Pacific Ocean are teeming with life. Sandra Bessudo, \\n@MissionBlue\\n Hope Spot Champion, runs expeditions to study the island’s marine species to help protect its incredible ecosystems. More on http://bit.ly/malpelo_island_1… #PerpetualPlanet', \"'Werther', Massenet's great opera of passion, premiers today at the \\n@RoyalOperaHouse\\n with \\n@tenorkaufmann\\n in the title role, conducted by Sir Antonio Pappano. All are partners in our #PerpetualArts Initiative that supports excellence and contributes to global culture. #RolexFamily\", 'Whatever the conditions, the #Submariner’s Cerachrom bezel insert remains functional and reliable. Made from a hard, corrosion-resistant ceramic, it is virtually scratchproof and its colour unaffected by ultraviolet rays or seawater. More http://on.rolex.com/Robustness #Perpetual', 'As a \\n@MissionBlue\\n Hope Spot Champion, Sandra Bessudo’s goal is to conserve the marine ecosystems around Malpelo Island. She currently works to create additional “swimways” to protect migrating species travelling through the oceans. More on http://bit.ly/malpelo_island_2… #PerpetualPlanet']\n",
      "12\n",
      "37\n",
      "275\n",
      "2023-06-25T08:00:03.000Z\n",
      "['A watch’s autonomy is not just a promise, it is a pact that works both ways. Whether yours or its own, movement will always beget movement. Discover more http://on.rolex.com/autonomy #Watchmaking #Perpetual', 'This year marks the 10th anniversary of the #RolexGrandSlam of Show Jumping. And no better place to begin celebrations than at the #CHIOAachen, launchpad for the sport’s most coveted prize and a reference point for all equestrian events. More http://on.rolex.com/CHIOAachen #Perpetual', 'As a \\n@MissionBlue\\n Hope Spot Champion, Sandra Bessudo’s goal is to conserve the marine ecosystems around Malpelo Island. She currently works to create additional “swimways” to protect migrating species travelling through the oceans. More on http://bit.ly/malpelo_island_2… #PerpetualPlanet', 'A watch’s autonomy is not just a promise, it is a pact that works both ways. Whether yours or its own, movement will always beget movement. Discover more http://on.rolex.com/autonomy #Watchmaking #Perpetual', 'This year marks the 10th anniversary of the #RolexGrandSlam of Show Jumping. And no better place to begin celebrations than at the #CHIOAachen, launchpad for the sport’s most coveted prize and a reference point for all equestrian events. More http://on.rolex.com/CHIOAachen #Perpetual', 'As a \\n@MissionBlue\\n Hope Spot Champion, Sandra Bessudo’s goal is to conserve the marine ecosystems around Malpelo Island. She currently works to create additional “swimways” to protect migrating species travelling through the oceans. More on http://bit.ly/malpelo_island_2… #PerpetualPlanet', 'A watch’s autonomy is not just a promise, it is a pact that works both ways. Whether yours or its own, movement will always beget movement. Discover more http://on.rolex.com/autonomy #Watchmaking #Perpetual', 'This year marks the 10th anniversary of the #RolexGrandSlam of Show Jumping. And no better place to begin celebrations than at the #CHIOAachen, launchpad for the sport’s most coveted prize and a reference point for all equestrian events. More http://on.rolex.com/CHIOAachen #Perpetual', 'As a \\n@MissionBlue\\n Hope Spot Champion, Sandra Bessudo’s goal is to conserve the marine ecosystems around Malpelo Island. She currently works to create additional “swimways” to protect migrating species travelling through the oceans. More on http://bit.ly/malpelo_island_2… #PerpetualPlanet', 'At this week’s Lindau Nobel Laureate Meeting, #RolexAwards for Enterprise winner Grégoire Courtine and Nobel Laureate Randy W. Schekman will discuss harnessing excellence in science for society. We support this event to foster generational exchange. #LIN023 #Perpetual', 'A watch’s autonomy is not just a promise, it is a pact that works both ways. Whether yours or its own, movement will always beget movement. Discover more http://on.rolex.com/autonomy #Watchmaking #Perpetual', 'This year marks the 10th anniversary of the #RolexGrandSlam of Show Jumping. And no better place to begin celebrations than at the #CHIOAachen, launchpad for the sport’s most coveted prize and a reference point for all equestrian events. More http://on.rolex.com/CHIOAachen #Perpetual', 'As a \\n@MissionBlue\\n Hope Spot Champion, Sandra Bessudo’s goal is to conserve the marine ecosystems around Malpelo Island. She currently works to create additional “swimways” to protect migrating species travelling through the oceans. More on http://bit.ly/malpelo_island_2… #PerpetualPlanet', 'At this week’s Lindau Nobel Laureate Meeting, #RolexAwards for Enterprise winner Grégoire Courtine and Nobel Laureate Randy W. Schekman will discuss harnessing excellence in science for society. We support this event to foster generational exchange. #LIN023 #Perpetual', 'The waters around Malpelo Island in the Pacific Ocean are teeming with life. Sandra Bessudo, \\n@MissionBlue\\n Hope Spot Champion, runs expeditions to study the island’s marine species to help protect its incredible ecosystems. More on http://bit.ly/malpelo_island_1… #PerpetualPlanet', 'A watch’s autonomy is not just a promise, it is a pact that works both ways. Whether yours or its own, movement will always beget movement. Discover more http://on.rolex.com/autonomy #Watchmaking #Perpetual', 'This year marks the 10th anniversary of the #RolexGrandSlam of Show Jumping. And no better place to begin celebrations than at the #CHIOAachen, launchpad for the sport’s most coveted prize and a reference point for all equestrian events. More http://on.rolex.com/CHIOAachen #Perpetual', 'As a \\n@MissionBlue\\n Hope Spot Champion, Sandra Bessudo’s goal is to conserve the marine ecosystems around Malpelo Island. She currently works to create additional “swimways” to protect migrating species travelling through the oceans. More on http://bit.ly/malpelo_island_2… #PerpetualPlanet', 'At this week’s Lindau Nobel Laureate Meeting, #RolexAwards for Enterprise winner Grégoire Courtine and Nobel Laureate Randy W. Schekman will discuss harnessing excellence in science for society. We support this event to foster generational exchange. #LIN023 #Perpetual', 'The waters around Malpelo Island in the Pacific Ocean are teeming with life. Sandra Bessudo, \\n@MissionBlue\\n Hope Spot Champion, runs expeditions to study the island’s marine species to help protect its incredible ecosystems. More on http://bit.ly/malpelo_island_1… #PerpetualPlanet', \"'Werther', Massenet's great opera of passion, premiers today at the \\n@RoyalOperaHouse\\n with \\n@tenorkaufmann\\n in the title role, conducted by Sir Antonio Pappano. All are partners in our #PerpetualArts Initiative that supports excellence and contributes to global culture. #RolexFamily\", 'This year marks the 10th anniversary of the #RolexGrandSlam of Show Jumping. And no better place to begin celebrations than at the #CHIOAachen, launchpad for the sport’s most coveted prize and a reference point for all equestrian events. More http://on.rolex.com/CHIOAachen #Perpetual', 'As a \\n@MissionBlue\\n Hope Spot Champion, Sandra Bessudo’s goal is to conserve the marine ecosystems around Malpelo Island. She currently works to create additional “swimways” to protect migrating species travelling through the oceans. More on http://bit.ly/malpelo_island_2… #PerpetualPlanet', 'At this week’s Lindau Nobel Laureate Meeting, #RolexAwards for Enterprise winner Grégoire Courtine and Nobel Laureate Randy W. Schekman will discuss harnessing excellence in science for society. We support this event to foster generational exchange. #LIN023 #Perpetual', 'The waters around Malpelo Island in the Pacific Ocean are teeming with life. Sandra Bessudo, \\n@MissionBlue\\n Hope Spot Champion, runs expeditions to study the island’s marine species to help protect its incredible ecosystems. More on http://bit.ly/malpelo_island_1… #PerpetualPlanet', \"'Werther', Massenet's great opera of passion, premiers today at the \\n@RoyalOperaHouse\\n with \\n@tenorkaufmann\\n in the title role, conducted by Sir Antonio Pappano. All are partners in our #PerpetualArts Initiative that supports excellence and contributes to global culture. #RolexFamily\", 'Whatever the conditions, the #Submariner’s Cerachrom bezel insert remains functional and reliable. Made from a hard, corrosion-resistant ceramic, it is virtually scratchproof and its colour unaffected by ultraviolet rays or seawater. More http://on.rolex.com/Robustness #Perpetual', 'As a \\n@MissionBlue\\n Hope Spot Champion, Sandra Bessudo’s goal is to conserve the marine ecosystems around Malpelo Island. She currently works to create additional “swimways” to protect migrating species travelling through the oceans. More on http://bit.ly/malpelo_island_2… #PerpetualPlanet', 'At this week’s Lindau Nobel Laureate Meeting, #RolexAwards for Enterprise winner Grégoire Courtine and Nobel Laureate Randy W. Schekman will discuss harnessing excellence in science for society. We support this event to foster generational exchange. #LIN023 #Perpetual']\n"
     ]
    },
    {
     "name": "stdout",
     "output_type": "stream",
     "text": [
      "6\n",
      "37\n",
      "211\n",
      "2023-06-22T11:30:27.000Z\n",
      "['A watch’s autonomy is not just a promise, it is a pact that works both ways. Whether yours or its own, movement will always beget movement. Discover more http://on.rolex.com/autonomy #Watchmaking #Perpetual', 'This year marks the 10th anniversary of the #RolexGrandSlam of Show Jumping. And no better place to begin celebrations than at the #CHIOAachen, launchpad for the sport’s most coveted prize and a reference point for all equestrian events. More http://on.rolex.com/CHIOAachen #Perpetual', 'As a \\n@MissionBlue\\n Hope Spot Champion, Sandra Bessudo’s goal is to conserve the marine ecosystems around Malpelo Island. She currently works to create additional “swimways” to protect migrating species travelling through the oceans. More on http://bit.ly/malpelo_island_2… #PerpetualPlanet', 'A watch’s autonomy is not just a promise, it is a pact that works both ways. Whether yours or its own, movement will always beget movement. Discover more http://on.rolex.com/autonomy #Watchmaking #Perpetual', 'This year marks the 10th anniversary of the #RolexGrandSlam of Show Jumping. And no better place to begin celebrations than at the #CHIOAachen, launchpad for the sport’s most coveted prize and a reference point for all equestrian events. More http://on.rolex.com/CHIOAachen #Perpetual', 'As a \\n@MissionBlue\\n Hope Spot Champion, Sandra Bessudo’s goal is to conserve the marine ecosystems around Malpelo Island. She currently works to create additional “swimways” to protect migrating species travelling through the oceans. More on http://bit.ly/malpelo_island_2… #PerpetualPlanet', 'A watch’s autonomy is not just a promise, it is a pact that works both ways. Whether yours or its own, movement will always beget movement. Discover more http://on.rolex.com/autonomy #Watchmaking #Perpetual', 'This year marks the 10th anniversary of the #RolexGrandSlam of Show Jumping. And no better place to begin celebrations than at the #CHIOAachen, launchpad for the sport’s most coveted prize and a reference point for all equestrian events. More http://on.rolex.com/CHIOAachen #Perpetual', 'As a \\n@MissionBlue\\n Hope Spot Champion, Sandra Bessudo’s goal is to conserve the marine ecosystems around Malpelo Island. She currently works to create additional “swimways” to protect migrating species travelling through the oceans. More on http://bit.ly/malpelo_island_2… #PerpetualPlanet', 'At this week’s Lindau Nobel Laureate Meeting, #RolexAwards for Enterprise winner Grégoire Courtine and Nobel Laureate Randy W. Schekman will discuss harnessing excellence in science for society. We support this event to foster generational exchange. #LIN023 #Perpetual', 'A watch’s autonomy is not just a promise, it is a pact that works both ways. Whether yours or its own, movement will always beget movement. Discover more http://on.rolex.com/autonomy #Watchmaking #Perpetual', 'This year marks the 10th anniversary of the #RolexGrandSlam of Show Jumping. And no better place to begin celebrations than at the #CHIOAachen, launchpad for the sport’s most coveted prize and a reference point for all equestrian events. More http://on.rolex.com/CHIOAachen #Perpetual', 'As a \\n@MissionBlue\\n Hope Spot Champion, Sandra Bessudo’s goal is to conserve the marine ecosystems around Malpelo Island. She currently works to create additional “swimways” to protect migrating species travelling through the oceans. More on http://bit.ly/malpelo_island_2… #PerpetualPlanet', 'At this week’s Lindau Nobel Laureate Meeting, #RolexAwards for Enterprise winner Grégoire Courtine and Nobel Laureate Randy W. Schekman will discuss harnessing excellence in science for society. We support this event to foster generational exchange. #LIN023 #Perpetual', 'The waters around Malpelo Island in the Pacific Ocean are teeming with life. Sandra Bessudo, \\n@MissionBlue\\n Hope Spot Champion, runs expeditions to study the island’s marine species to help protect its incredible ecosystems. More on http://bit.ly/malpelo_island_1… #PerpetualPlanet', 'A watch’s autonomy is not just a promise, it is a pact that works both ways. Whether yours or its own, movement will always beget movement. Discover more http://on.rolex.com/autonomy #Watchmaking #Perpetual', 'This year marks the 10th anniversary of the #RolexGrandSlam of Show Jumping. And no better place to begin celebrations than at the #CHIOAachen, launchpad for the sport’s most coveted prize and a reference point for all equestrian events. More http://on.rolex.com/CHIOAachen #Perpetual', 'As a \\n@MissionBlue\\n Hope Spot Champion, Sandra Bessudo’s goal is to conserve the marine ecosystems around Malpelo Island. She currently works to create additional “swimways” to protect migrating species travelling through the oceans. More on http://bit.ly/malpelo_island_2… #PerpetualPlanet', 'At this week’s Lindau Nobel Laureate Meeting, #RolexAwards for Enterprise winner Grégoire Courtine and Nobel Laureate Randy W. Schekman will discuss harnessing excellence in science for society. We support this event to foster generational exchange. #LIN023 #Perpetual', 'The waters around Malpelo Island in the Pacific Ocean are teeming with life. Sandra Bessudo, \\n@MissionBlue\\n Hope Spot Champion, runs expeditions to study the island’s marine species to help protect its incredible ecosystems. More on http://bit.ly/malpelo_island_1… #PerpetualPlanet', \"'Werther', Massenet's great opera of passion, premiers today at the \\n@RoyalOperaHouse\\n with \\n@tenorkaufmann\\n in the title role, conducted by Sir Antonio Pappano. All are partners in our #PerpetualArts Initiative that supports excellence and contributes to global culture. #RolexFamily\", 'This year marks the 10th anniversary of the #RolexGrandSlam of Show Jumping. And no better place to begin celebrations than at the #CHIOAachen, launchpad for the sport’s most coveted prize and a reference point for all equestrian events. More http://on.rolex.com/CHIOAachen #Perpetual', 'As a \\n@MissionBlue\\n Hope Spot Champion, Sandra Bessudo’s goal is to conserve the marine ecosystems around Malpelo Island. She currently works to create additional “swimways” to protect migrating species travelling through the oceans. More on http://bit.ly/malpelo_island_2… #PerpetualPlanet', 'At this week’s Lindau Nobel Laureate Meeting, #RolexAwards for Enterprise winner Grégoire Courtine and Nobel Laureate Randy W. Schekman will discuss harnessing excellence in science for society. We support this event to foster generational exchange. #LIN023 #Perpetual', 'The waters around Malpelo Island in the Pacific Ocean are teeming with life. Sandra Bessudo, \\n@MissionBlue\\n Hope Spot Champion, runs expeditions to study the island’s marine species to help protect its incredible ecosystems. More on http://bit.ly/malpelo_island_1… #PerpetualPlanet', \"'Werther', Massenet's great opera of passion, premiers today at the \\n@RoyalOperaHouse\\n with \\n@tenorkaufmann\\n in the title role, conducted by Sir Antonio Pappano. All are partners in our #PerpetualArts Initiative that supports excellence and contributes to global culture. #RolexFamily\", 'Whatever the conditions, the #Submariner’s Cerachrom bezel insert remains functional and reliable. Made from a hard, corrosion-resistant ceramic, it is virtually scratchproof and its colour unaffected by ultraviolet rays or seawater. More http://on.rolex.com/Robustness #Perpetual', 'As a \\n@MissionBlue\\n Hope Spot Champion, Sandra Bessudo’s goal is to conserve the marine ecosystems around Malpelo Island. She currently works to create additional “swimways” to protect migrating species travelling through the oceans. More on http://bit.ly/malpelo_island_2… #PerpetualPlanet', 'At this week’s Lindau Nobel Laureate Meeting, #RolexAwards for Enterprise winner Grégoire Courtine and Nobel Laureate Randy W. Schekman will discuss harnessing excellence in science for society. We support this event to foster generational exchange. #LIN023 #Perpetual', 'The waters around Malpelo Island in the Pacific Ocean are teeming with life. Sandra Bessudo, \\n@MissionBlue\\n Hope Spot Champion, runs expeditions to study the island’s marine species to help protect its incredible ecosystems. More on http://bit.ly/malpelo_island_1… #PerpetualPlanet']\n",
      "11\n",
      "37\n"
     ]
    },
    {
     "name": "stdout",
     "output_type": "stream",
     "text": [
      "337\n",
      "2023-06-20T14:00:06.000Z\n",
      "['A watch’s autonomy is not just a promise, it is a pact that works both ways. Whether yours or its own, movement will always beget movement. Discover more http://on.rolex.com/autonomy #Watchmaking #Perpetual', 'This year marks the 10th anniversary of the #RolexGrandSlam of Show Jumping. And no better place to begin celebrations than at the #CHIOAachen, launchpad for the sport’s most coveted prize and a reference point for all equestrian events. More http://on.rolex.com/CHIOAachen #Perpetual', 'As a \\n@MissionBlue\\n Hope Spot Champion, Sandra Bessudo’s goal is to conserve the marine ecosystems around Malpelo Island. She currently works to create additional “swimways” to protect migrating species travelling through the oceans. More on http://bit.ly/malpelo_island_2… #PerpetualPlanet', 'A watch’s autonomy is not just a promise, it is a pact that works both ways. Whether yours or its own, movement will always beget movement. Discover more http://on.rolex.com/autonomy #Watchmaking #Perpetual', 'This year marks the 10th anniversary of the #RolexGrandSlam of Show Jumping. And no better place to begin celebrations than at the #CHIOAachen, launchpad for the sport’s most coveted prize and a reference point for all equestrian events. More http://on.rolex.com/CHIOAachen #Perpetual', 'As a \\n@MissionBlue\\n Hope Spot Champion, Sandra Bessudo’s goal is to conserve the marine ecosystems around Malpelo Island. She currently works to create additional “swimways” to protect migrating species travelling through the oceans. More on http://bit.ly/malpelo_island_2… #PerpetualPlanet', 'A watch’s autonomy is not just a promise, it is a pact that works both ways. Whether yours or its own, movement will always beget movement. Discover more http://on.rolex.com/autonomy #Watchmaking #Perpetual', 'This year marks the 10th anniversary of the #RolexGrandSlam of Show Jumping. And no better place to begin celebrations than at the #CHIOAachen, launchpad for the sport’s most coveted prize and a reference point for all equestrian events. More http://on.rolex.com/CHIOAachen #Perpetual', 'As a \\n@MissionBlue\\n Hope Spot Champion, Sandra Bessudo’s goal is to conserve the marine ecosystems around Malpelo Island. She currently works to create additional “swimways” to protect migrating species travelling through the oceans. More on http://bit.ly/malpelo_island_2… #PerpetualPlanet', 'At this week’s Lindau Nobel Laureate Meeting, #RolexAwards for Enterprise winner Grégoire Courtine and Nobel Laureate Randy W. Schekman will discuss harnessing excellence in science for society. We support this event to foster generational exchange. #LIN023 #Perpetual', 'A watch’s autonomy is not just a promise, it is a pact that works both ways. Whether yours or its own, movement will always beget movement. Discover more http://on.rolex.com/autonomy #Watchmaking #Perpetual', 'This year marks the 10th anniversary of the #RolexGrandSlam of Show Jumping. And no better place to begin celebrations than at the #CHIOAachen, launchpad for the sport’s most coveted prize and a reference point for all equestrian events. More http://on.rolex.com/CHIOAachen #Perpetual', 'As a \\n@MissionBlue\\n Hope Spot Champion, Sandra Bessudo’s goal is to conserve the marine ecosystems around Malpelo Island. She currently works to create additional “swimways” to protect migrating species travelling through the oceans. More on http://bit.ly/malpelo_island_2… #PerpetualPlanet', 'At this week’s Lindau Nobel Laureate Meeting, #RolexAwards for Enterprise winner Grégoire Courtine and Nobel Laureate Randy W. Schekman will discuss harnessing excellence in science for society. We support this event to foster generational exchange. #LIN023 #Perpetual', 'The waters around Malpelo Island in the Pacific Ocean are teeming with life. Sandra Bessudo, \\n@MissionBlue\\n Hope Spot Champion, runs expeditions to study the island’s marine species to help protect its incredible ecosystems. More on http://bit.ly/malpelo_island_1… #PerpetualPlanet', 'A watch’s autonomy is not just a promise, it is a pact that works both ways. Whether yours or its own, movement will always beget movement. Discover more http://on.rolex.com/autonomy #Watchmaking #Perpetual', 'This year marks the 10th anniversary of the #RolexGrandSlam of Show Jumping. And no better place to begin celebrations than at the #CHIOAachen, launchpad for the sport’s most coveted prize and a reference point for all equestrian events. More http://on.rolex.com/CHIOAachen #Perpetual', 'As a \\n@MissionBlue\\n Hope Spot Champion, Sandra Bessudo’s goal is to conserve the marine ecosystems around Malpelo Island. She currently works to create additional “swimways” to protect migrating species travelling through the oceans. More on http://bit.ly/malpelo_island_2… #PerpetualPlanet', 'At this week’s Lindau Nobel Laureate Meeting, #RolexAwards for Enterprise winner Grégoire Courtine and Nobel Laureate Randy W. Schekman will discuss harnessing excellence in science for society. We support this event to foster generational exchange. #LIN023 #Perpetual', 'The waters around Malpelo Island in the Pacific Ocean are teeming with life. Sandra Bessudo, \\n@MissionBlue\\n Hope Spot Champion, runs expeditions to study the island’s marine species to help protect its incredible ecosystems. More on http://bit.ly/malpelo_island_1… #PerpetualPlanet', \"'Werther', Massenet's great opera of passion, premiers today at the \\n@RoyalOperaHouse\\n with \\n@tenorkaufmann\\n in the title role, conducted by Sir Antonio Pappano. All are partners in our #PerpetualArts Initiative that supports excellence and contributes to global culture. #RolexFamily\", 'This year marks the 10th anniversary of the #RolexGrandSlam of Show Jumping. And no better place to begin celebrations than at the #CHIOAachen, launchpad for the sport’s most coveted prize and a reference point for all equestrian events. More http://on.rolex.com/CHIOAachen #Perpetual', 'As a \\n@MissionBlue\\n Hope Spot Champion, Sandra Bessudo’s goal is to conserve the marine ecosystems around Malpelo Island. She currently works to create additional “swimways” to protect migrating species travelling through the oceans. More on http://bit.ly/malpelo_island_2… #PerpetualPlanet', 'At this week’s Lindau Nobel Laureate Meeting, #RolexAwards for Enterprise winner Grégoire Courtine and Nobel Laureate Randy W. Schekman will discuss harnessing excellence in science for society. We support this event to foster generational exchange. #LIN023 #Perpetual', 'The waters around Malpelo Island in the Pacific Ocean are teeming with life. Sandra Bessudo, \\n@MissionBlue\\n Hope Spot Champion, runs expeditions to study the island’s marine species to help protect its incredible ecosystems. More on http://bit.ly/malpelo_island_1… #PerpetualPlanet', \"'Werther', Massenet's great opera of passion, premiers today at the \\n@RoyalOperaHouse\\n with \\n@tenorkaufmann\\n in the title role, conducted by Sir Antonio Pappano. All are partners in our #PerpetualArts Initiative that supports excellence and contributes to global culture. #RolexFamily\", 'Whatever the conditions, the #Submariner’s Cerachrom bezel insert remains functional and reliable. Made from a hard, corrosion-resistant ceramic, it is virtually scratchproof and its colour unaffected by ultraviolet rays or seawater. More http://on.rolex.com/Robustness #Perpetual', 'As a \\n@MissionBlue\\n Hope Spot Champion, Sandra Bessudo’s goal is to conserve the marine ecosystems around Malpelo Island. She currently works to create additional “swimways” to protect migrating species travelling through the oceans. More on http://bit.ly/malpelo_island_2… #PerpetualPlanet', 'At this week’s Lindau Nobel Laureate Meeting, #RolexAwards for Enterprise winner Grégoire Courtine and Nobel Laureate Randy W. Schekman will discuss harnessing excellence in science for society. We support this event to foster generational exchange. #LIN023 #Perpetual', 'The waters around Malpelo Island in the Pacific Ocean are teeming with life. Sandra Bessudo, \\n@MissionBlue\\n Hope Spot Champion, runs expeditions to study the island’s marine species to help protect its incredible ecosystems. More on http://bit.ly/malpelo_island_1… #PerpetualPlanet', \"'Werther', Massenet's great opera of passion, premiers today at the \\n@RoyalOperaHouse\\n with \\n@tenorkaufmann\\n in the title role, conducted by Sir Antonio Pappano. All are partners in our #PerpetualArts Initiative that supports excellence and contributes to global culture. #RolexFamily\"]\n",
      "5\n",
      "37\n",
      "140\n",
      "2023-06-19T15:00:20.000Z\n"
     ]
    },
    {
     "name": "stdout",
     "output_type": "stream",
     "text": [
      "['A watch’s autonomy is not just a promise, it is a pact that works both ways. Whether yours or its own, movement will always beget movement. Discover more http://on.rolex.com/autonomy #Watchmaking #Perpetual', 'This year marks the 10th anniversary of the #RolexGrandSlam of Show Jumping. And no better place to begin celebrations than at the #CHIOAachen, launchpad for the sport’s most coveted prize and a reference point for all equestrian events. More http://on.rolex.com/CHIOAachen #Perpetual', 'As a \\n@MissionBlue\\n Hope Spot Champion, Sandra Bessudo’s goal is to conserve the marine ecosystems around Malpelo Island. She currently works to create additional “swimways” to protect migrating species travelling through the oceans. More on http://bit.ly/malpelo_island_2… #PerpetualPlanet', 'A watch’s autonomy is not just a promise, it is a pact that works both ways. Whether yours or its own, movement will always beget movement. Discover more http://on.rolex.com/autonomy #Watchmaking #Perpetual', 'This year marks the 10th anniversary of the #RolexGrandSlam of Show Jumping. And no better place to begin celebrations than at the #CHIOAachen, launchpad for the sport’s most coveted prize and a reference point for all equestrian events. More http://on.rolex.com/CHIOAachen #Perpetual', 'As a \\n@MissionBlue\\n Hope Spot Champion, Sandra Bessudo’s goal is to conserve the marine ecosystems around Malpelo Island. She currently works to create additional “swimways” to protect migrating species travelling through the oceans. More on http://bit.ly/malpelo_island_2… #PerpetualPlanet', 'A watch’s autonomy is not just a promise, it is a pact that works both ways. Whether yours or its own, movement will always beget movement. Discover more http://on.rolex.com/autonomy #Watchmaking #Perpetual', 'This year marks the 10th anniversary of the #RolexGrandSlam of Show Jumping. And no better place to begin celebrations than at the #CHIOAachen, launchpad for the sport’s most coveted prize and a reference point for all equestrian events. More http://on.rolex.com/CHIOAachen #Perpetual', 'As a \\n@MissionBlue\\n Hope Spot Champion, Sandra Bessudo’s goal is to conserve the marine ecosystems around Malpelo Island. She currently works to create additional “swimways” to protect migrating species travelling through the oceans. More on http://bit.ly/malpelo_island_2… #PerpetualPlanet', 'At this week’s Lindau Nobel Laureate Meeting, #RolexAwards for Enterprise winner Grégoire Courtine and Nobel Laureate Randy W. Schekman will discuss harnessing excellence in science for society. We support this event to foster generational exchange. #LIN023 #Perpetual', 'A watch’s autonomy is not just a promise, it is a pact that works both ways. Whether yours or its own, movement will always beget movement. Discover more http://on.rolex.com/autonomy #Watchmaking #Perpetual', 'This year marks the 10th anniversary of the #RolexGrandSlam of Show Jumping. And no better place to begin celebrations than at the #CHIOAachen, launchpad for the sport’s most coveted prize and a reference point for all equestrian events. More http://on.rolex.com/CHIOAachen #Perpetual', 'As a \\n@MissionBlue\\n Hope Spot Champion, Sandra Bessudo’s goal is to conserve the marine ecosystems around Malpelo Island. She currently works to create additional “swimways” to protect migrating species travelling through the oceans. More on http://bit.ly/malpelo_island_2… #PerpetualPlanet', 'At this week’s Lindau Nobel Laureate Meeting, #RolexAwards for Enterprise winner Grégoire Courtine and Nobel Laureate Randy W. Schekman will discuss harnessing excellence in science for society. We support this event to foster generational exchange. #LIN023 #Perpetual', 'The waters around Malpelo Island in the Pacific Ocean are teeming with life. Sandra Bessudo, \\n@MissionBlue\\n Hope Spot Champion, runs expeditions to study the island’s marine species to help protect its incredible ecosystems. More on http://bit.ly/malpelo_island_1… #PerpetualPlanet', 'A watch’s autonomy is not just a promise, it is a pact that works both ways. Whether yours or its own, movement will always beget movement. Discover more http://on.rolex.com/autonomy #Watchmaking #Perpetual', 'This year marks the 10th anniversary of the #RolexGrandSlam of Show Jumping. And no better place to begin celebrations than at the #CHIOAachen, launchpad for the sport’s most coveted prize and a reference point for all equestrian events. More http://on.rolex.com/CHIOAachen #Perpetual', 'As a \\n@MissionBlue\\n Hope Spot Champion, Sandra Bessudo’s goal is to conserve the marine ecosystems around Malpelo Island. She currently works to create additional “swimways” to protect migrating species travelling through the oceans. More on http://bit.ly/malpelo_island_2… #PerpetualPlanet', 'At this week’s Lindau Nobel Laureate Meeting, #RolexAwards for Enterprise winner Grégoire Courtine and Nobel Laureate Randy W. Schekman will discuss harnessing excellence in science for society. We support this event to foster generational exchange. #LIN023 #Perpetual', 'The waters around Malpelo Island in the Pacific Ocean are teeming with life. Sandra Bessudo, \\n@MissionBlue\\n Hope Spot Champion, runs expeditions to study the island’s marine species to help protect its incredible ecosystems. More on http://bit.ly/malpelo_island_1… #PerpetualPlanet', \"'Werther', Massenet's great opera of passion, premiers today at the \\n@RoyalOperaHouse\\n with \\n@tenorkaufmann\\n in the title role, conducted by Sir Antonio Pappano. All are partners in our #PerpetualArts Initiative that supports excellence and contributes to global culture. #RolexFamily\", 'This year marks the 10th anniversary of the #RolexGrandSlam of Show Jumping. And no better place to begin celebrations than at the #CHIOAachen, launchpad for the sport’s most coveted prize and a reference point for all equestrian events. More http://on.rolex.com/CHIOAachen #Perpetual', 'As a \\n@MissionBlue\\n Hope Spot Champion, Sandra Bessudo’s goal is to conserve the marine ecosystems around Malpelo Island. She currently works to create additional “swimways” to protect migrating species travelling through the oceans. More on http://bit.ly/malpelo_island_2… #PerpetualPlanet', 'At this week’s Lindau Nobel Laureate Meeting, #RolexAwards for Enterprise winner Grégoire Courtine and Nobel Laureate Randy W. Schekman will discuss harnessing excellence in science for society. We support this event to foster generational exchange. #LIN023 #Perpetual', 'The waters around Malpelo Island in the Pacific Ocean are teeming with life. Sandra Bessudo, \\n@MissionBlue\\n Hope Spot Champion, runs expeditions to study the island’s marine species to help protect its incredible ecosystems. More on http://bit.ly/malpelo_island_1… #PerpetualPlanet', \"'Werther', Massenet's great opera of passion, premiers today at the \\n@RoyalOperaHouse\\n with \\n@tenorkaufmann\\n in the title role, conducted by Sir Antonio Pappano. All are partners in our #PerpetualArts Initiative that supports excellence and contributes to global culture. #RolexFamily\", 'Whatever the conditions, the #Submariner’s Cerachrom bezel insert remains functional and reliable. Made from a hard, corrosion-resistant ceramic, it is virtually scratchproof and its colour unaffected by ultraviolet rays or seawater. More http://on.rolex.com/Robustness #Perpetual', 'As a \\n@MissionBlue\\n Hope Spot Champion, Sandra Bessudo’s goal is to conserve the marine ecosystems around Malpelo Island. She currently works to create additional “swimways” to protect migrating species travelling through the oceans. More on http://bit.ly/malpelo_island_2… #PerpetualPlanet', 'At this week’s Lindau Nobel Laureate Meeting, #RolexAwards for Enterprise winner Grégoire Courtine and Nobel Laureate Randy W. Schekman will discuss harnessing excellence in science for society. We support this event to foster generational exchange. #LIN023 #Perpetual', 'The waters around Malpelo Island in the Pacific Ocean are teeming with life. Sandra Bessudo, \\n@MissionBlue\\n Hope Spot Champion, runs expeditions to study the island’s marine species to help protect its incredible ecosystems. More on http://bit.ly/malpelo_island_1… #PerpetualPlanet', \"'Werther', Massenet's great opera of passion, premiers today at the \\n@RoyalOperaHouse\\n with \\n@tenorkaufmann\\n in the title role, conducted by Sir Antonio Pappano. All are partners in our #PerpetualArts Initiative that supports excellence and contributes to global culture. #RolexFamily\", 'Whatever the conditions, the #Submariner’s Cerachrom bezel insert remains functional and reliable. Made from a hard, corrosion-resistant ceramic, it is virtually scratchproof and its colour unaffected by ultraviolet rays or seawater. More http://on.rolex.com/Robustness #Perpetual']\n",
      "19\n",
      "37\n",
      "952\n",
      "2023-06-19T02:01:11.000Z\n",
      "['A watch’s autonomy is not just a promise, it is a pact that works both ways. Whether yours or its own, movement will always beget movement. Discover more http://on.rolex.com/autonomy #Watchmaking #Perpetual', 'This year marks the 10th anniversary of the #RolexGrandSlam of Show Jumping. And no better place to begin celebrations than at the #CHIOAachen, launchpad for the sport’s most coveted prize and a reference point for all equestrian events. More http://on.rolex.com/CHIOAachen #Perpetual', 'As a \\n@MissionBlue\\n Hope Spot Champion, Sandra Bessudo’s goal is to conserve the marine ecosystems around Malpelo Island. She currently works to create additional “swimways” to protect migrating species travelling through the oceans. More on http://bit.ly/malpelo_island_2… #PerpetualPlanet', 'A watch’s autonomy is not just a promise, it is a pact that works both ways. Whether yours or its own, movement will always beget movement. Discover more http://on.rolex.com/autonomy #Watchmaking #Perpetual', 'This year marks the 10th anniversary of the #RolexGrandSlam of Show Jumping. And no better place to begin celebrations than at the #CHIOAachen, launchpad for the sport’s most coveted prize and a reference point for all equestrian events. More http://on.rolex.com/CHIOAachen #Perpetual', 'As a \\n@MissionBlue\\n Hope Spot Champion, Sandra Bessudo’s goal is to conserve the marine ecosystems around Malpelo Island. She currently works to create additional “swimways” to protect migrating species travelling through the oceans. More on http://bit.ly/malpelo_island_2… #PerpetualPlanet', 'A watch’s autonomy is not just a promise, it is a pact that works both ways. Whether yours or its own, movement will always beget movement. Discover more http://on.rolex.com/autonomy #Watchmaking #Perpetual', 'This year marks the 10th anniversary of the #RolexGrandSlam of Show Jumping. And no better place to begin celebrations than at the #CHIOAachen, launchpad for the sport’s most coveted prize and a reference point for all equestrian events. More http://on.rolex.com/CHIOAachen #Perpetual', 'As a \\n@MissionBlue\\n Hope Spot Champion, Sandra Bessudo’s goal is to conserve the marine ecosystems around Malpelo Island. She currently works to create additional “swimways” to protect migrating species travelling through the oceans. More on http://bit.ly/malpelo_island_2… #PerpetualPlanet', 'At this week’s Lindau Nobel Laureate Meeting, #RolexAwards for Enterprise winner Grégoire Courtine and Nobel Laureate Randy W. Schekman will discuss harnessing excellence in science for society. We support this event to foster generational exchange. #LIN023 #Perpetual', 'A watch’s autonomy is not just a promise, it is a pact that works both ways. Whether yours or its own, movement will always beget movement. Discover more http://on.rolex.com/autonomy #Watchmaking #Perpetual', 'This year marks the 10th anniversary of the #RolexGrandSlam of Show Jumping. And no better place to begin celebrations than at the #CHIOAachen, launchpad for the sport’s most coveted prize and a reference point for all equestrian events. More http://on.rolex.com/CHIOAachen #Perpetual', 'As a \\n@MissionBlue\\n Hope Spot Champion, Sandra Bessudo’s goal is to conserve the marine ecosystems around Malpelo Island. She currently works to create additional “swimways” to protect migrating species travelling through the oceans. More on http://bit.ly/malpelo_island_2… #PerpetualPlanet', 'At this week’s Lindau Nobel Laureate Meeting, #RolexAwards for Enterprise winner Grégoire Courtine and Nobel Laureate Randy W. Schekman will discuss harnessing excellence in science for society. We support this event to foster generational exchange. #LIN023 #Perpetual', 'The waters around Malpelo Island in the Pacific Ocean are teeming with life. Sandra Bessudo, \\n@MissionBlue\\n Hope Spot Champion, runs expeditions to study the island’s marine species to help protect its incredible ecosystems. More on http://bit.ly/malpelo_island_1… #PerpetualPlanet', 'A watch’s autonomy is not just a promise, it is a pact that works both ways. Whether yours or its own, movement will always beget movement. Discover more http://on.rolex.com/autonomy #Watchmaking #Perpetual', 'This year marks the 10th anniversary of the #RolexGrandSlam of Show Jumping. And no better place to begin celebrations than at the #CHIOAachen, launchpad for the sport’s most coveted prize and a reference point for all equestrian events. More http://on.rolex.com/CHIOAachen #Perpetual', 'As a \\n@MissionBlue\\n Hope Spot Champion, Sandra Bessudo’s goal is to conserve the marine ecosystems around Malpelo Island. She currently works to create additional “swimways” to protect migrating species travelling through the oceans. More on http://bit.ly/malpelo_island_2… #PerpetualPlanet', 'At this week’s Lindau Nobel Laureate Meeting, #RolexAwards for Enterprise winner Grégoire Courtine and Nobel Laureate Randy W. Schekman will discuss harnessing excellence in science for society. We support this event to foster generational exchange. #LIN023 #Perpetual', 'The waters around Malpelo Island in the Pacific Ocean are teeming with life. Sandra Bessudo, \\n@MissionBlue\\n Hope Spot Champion, runs expeditions to study the island’s marine species to help protect its incredible ecosystems. More on http://bit.ly/malpelo_island_1… #PerpetualPlanet', \"'Werther', Massenet's great opera of passion, premiers today at the \\n@RoyalOperaHouse\\n with \\n@tenorkaufmann\\n in the title role, conducted by Sir Antonio Pappano. All are partners in our #PerpetualArts Initiative that supports excellence and contributes to global culture. #RolexFamily\", 'This year marks the 10th anniversary of the #RolexGrandSlam of Show Jumping. And no better place to begin celebrations than at the #CHIOAachen, launchpad for the sport’s most coveted prize and a reference point for all equestrian events. More http://on.rolex.com/CHIOAachen #Perpetual', 'As a \\n@MissionBlue\\n Hope Spot Champion, Sandra Bessudo’s goal is to conserve the marine ecosystems around Malpelo Island. She currently works to create additional “swimways” to protect migrating species travelling through the oceans. More on http://bit.ly/malpelo_island_2… #PerpetualPlanet', 'At this week’s Lindau Nobel Laureate Meeting, #RolexAwards for Enterprise winner Grégoire Courtine and Nobel Laureate Randy W. Schekman will discuss harnessing excellence in science for society. We support this event to foster generational exchange. #LIN023 #Perpetual', 'The waters around Malpelo Island in the Pacific Ocean are teeming with life. Sandra Bessudo, \\n@MissionBlue\\n Hope Spot Champion, runs expeditions to study the island’s marine species to help protect its incredible ecosystems. More on http://bit.ly/malpelo_island_1… #PerpetualPlanet', \"'Werther', Massenet's great opera of passion, premiers today at the \\n@RoyalOperaHouse\\n with \\n@tenorkaufmann\\n in the title role, conducted by Sir Antonio Pappano. All are partners in our #PerpetualArts Initiative that supports excellence and contributes to global culture. #RolexFamily\", 'Whatever the conditions, the #Submariner’s Cerachrom bezel insert remains functional and reliable. Made from a hard, corrosion-resistant ceramic, it is virtually scratchproof and its colour unaffected by ultraviolet rays or seawater. More http://on.rolex.com/Robustness #Perpetual', 'As a \\n@MissionBlue\\n Hope Spot Champion, Sandra Bessudo’s goal is to conserve the marine ecosystems around Malpelo Island. She currently works to create additional “swimways” to protect migrating species travelling through the oceans. More on http://bit.ly/malpelo_island_2… #PerpetualPlanet', 'At this week’s Lindau Nobel Laureate Meeting, #RolexAwards for Enterprise winner Grégoire Courtine and Nobel Laureate Randy W. Schekman will discuss harnessing excellence in science for society. We support this event to foster generational exchange. #LIN023 #Perpetual', 'The waters around Malpelo Island in the Pacific Ocean are teeming with life. Sandra Bessudo, \\n@MissionBlue\\n Hope Spot Champion, runs expeditions to study the island’s marine species to help protect its incredible ecosystems. More on http://bit.ly/malpelo_island_1… #PerpetualPlanet', \"'Werther', Massenet's great opera of passion, premiers today at the \\n@RoyalOperaHouse\\n with \\n@tenorkaufmann\\n in the title role, conducted by Sir Antonio Pappano. All are partners in our #PerpetualArts Initiative that supports excellence and contributes to global culture. #RolexFamily\", 'Whatever the conditions, the #Submariner’s Cerachrom bezel insert remains functional and reliable. Made from a hard, corrosion-resistant ceramic, it is virtually scratchproof and its colour unaffected by ultraviolet rays or seawater. More http://on.rolex.com/Robustness #Perpetual', 'We thank the \\n@usopengolf\\n for bringing us another remarkable championship. The iconic surroundings of The Los Angeles Country Club bore witness to an incredible weekend of golf. #USOpen #Perpetual']\n",
      "7\n",
      "37\n"
     ]
    },
    {
     "name": "stdout",
     "output_type": "stream",
     "text": [
      "264\n"
     ]
    }
   ],
   "source": [
    "while count < 30:\n",
    "    articles = driver.find_elements(By.XPATH,\"//article[@data-testid='tweet']\")\n",
    "    for article in articles:\n",
    "#         UserTag = article.find_element(By.XPATH,\".//div[@data-testid='User-Name']\").text\n",
    "#         UserTags.append(UserTag)\n",
    "#         print(UserTag)\n",
    "        \n",
    "        TimeStamp = article.find_element(By.XPATH,\".//time\").get_attribute('datetime')\n",
    "        TimeStamps.append(TimeStamp)\n",
    "        print(TimeStamp)\n",
    "        \n",
    "        Tweet = article.find_element(By.XPATH,\".//div[@data-testid='tweetText']\").text\n",
    "        Tweets.append(Tweet)\n",
    "        print(Tweets)\n",
    "        \n",
    "        Reply = article.find_element(By.XPATH,\".//div[@data-testid='reply']\").text\n",
    "        Replies.append(Reply)\n",
    "        print(Reply)\n",
    "        \n",
    "        Retweet = article.find_element(By.XPATH,\"//div[@data-testid='retweet']\").text\n",
    "        reTweets.append(Retweet)\n",
    "        print(Retweet)\n",
    "        \n",
    "        Like = article.find_element(By.XPATH,\".//div[@data-testid='like']\").text\n",
    "        Likes.append(Like)\n",
    "        print(Like)\n",
    "        count+=1\n",
    "    #Scroll down to bottom\n",
    "    #driver.execute_script(\"window.scrollTo(0, document.body.scrollHeight);\")\n",
    "    driver.find_element_by_css_selector(\"body\").send_keys(Keys.PAGE_DOWN)\n",
    "    # Wait to load page\n",
    "    time.sleep(SCROLL_PAUSE_TIME)"
   ]
  },
  {
   "cell_type": "code",
   "execution_count": 87,
   "id": "5dd77c5b",
   "metadata": {},
   "outputs": [
    {
     "name": "stdout",
     "output_type": "stream",
     "text": [
      "33 33 33 33 33\n"
     ]
    }
   ],
   "source": [
    "print(len(TimeStamps), \n",
    "len(Tweets), \n",
    "len(Replies), \n",
    "len(reTweets), \n",
    "len(Likes))"
   ]
  },
  {
   "cell_type": "code",
   "execution_count": 88,
   "id": "06287b22",
   "metadata": {},
   "outputs": [
    {
     "name": "stdout",
     "output_type": "stream",
     "text": [
      "['2023-06-27T14:00:22.000Z', '2023-06-27T10:00:08.000Z', '2023-06-26T12:00:22.000Z', '2023-06-27T14:00:22.000Z', '2023-06-27T10:00:08.000Z', '2023-06-26T12:00:22.000Z', '2023-06-27T14:00:22.000Z', '2023-06-27T10:00:08.000Z', '2023-06-26T12:00:22.000Z', '2023-06-25T08:00:03.000Z', '2023-06-27T14:00:22.000Z', '2023-06-27T10:00:08.000Z', '2023-06-26T12:00:22.000Z', '2023-06-25T08:00:03.000Z', '2023-06-22T11:30:27.000Z', '2023-06-27T14:00:22.000Z', '2023-06-27T10:00:08.000Z', '2023-06-26T12:00:22.000Z', '2023-06-25T08:00:03.000Z', '2023-06-22T11:30:27.000Z', '2023-06-20T14:00:06.000Z', '2023-06-27T10:00:08.000Z', '2023-06-26T12:00:22.000Z', '2023-06-25T08:00:03.000Z', '2023-06-22T11:30:27.000Z', '2023-06-20T14:00:06.000Z', '2023-06-19T15:00:20.000Z', '2023-06-26T12:00:22.000Z', '2023-06-25T08:00:03.000Z', '2023-06-22T11:30:27.000Z', '2023-06-20T14:00:06.000Z', '2023-06-19T15:00:20.000Z', '2023-06-19T02:01:11.000Z']\n"
     ]
    }
   ],
   "source": [
    "print(TimeStamps)"
   ]
  },
  {
   "cell_type": "code",
   "execution_count": 89,
   "id": "5926c3c6",
   "metadata": {
    "scrolled": false
   },
   "outputs": [
    {
     "name": "stdout",
     "output_type": "stream",
     "text": [
      "['A watch’s autonomy is not just a promise, it is a pact that works both ways. Whether yours or its own, movement will always beget movement. Discover more http://on.rolex.com/autonomy #Watchmaking #Perpetual', 'This year marks the 10th anniversary of the #RolexGrandSlam of Show Jumping. And no better place to begin celebrations than at the #CHIOAachen, launchpad for the sport’s most coveted prize and a reference point for all equestrian events. More http://on.rolex.com/CHIOAachen #Perpetual', 'As a \\n@MissionBlue\\n Hope Spot Champion, Sandra Bessudo’s goal is to conserve the marine ecosystems around Malpelo Island. She currently works to create additional “swimways” to protect migrating species travelling through the oceans. More on http://bit.ly/malpelo_island_2… #PerpetualPlanet', 'A watch’s autonomy is not just a promise, it is a pact that works both ways. Whether yours or its own, movement will always beget movement. Discover more http://on.rolex.com/autonomy #Watchmaking #Perpetual', 'This year marks the 10th anniversary of the #RolexGrandSlam of Show Jumping. And no better place to begin celebrations than at the #CHIOAachen, launchpad for the sport’s most coveted prize and a reference point for all equestrian events. More http://on.rolex.com/CHIOAachen #Perpetual', 'As a \\n@MissionBlue\\n Hope Spot Champion, Sandra Bessudo’s goal is to conserve the marine ecosystems around Malpelo Island. She currently works to create additional “swimways” to protect migrating species travelling through the oceans. More on http://bit.ly/malpelo_island_2… #PerpetualPlanet', 'A watch’s autonomy is not just a promise, it is a pact that works both ways. Whether yours or its own, movement will always beget movement. Discover more http://on.rolex.com/autonomy #Watchmaking #Perpetual', 'This year marks the 10th anniversary of the #RolexGrandSlam of Show Jumping. And no better place to begin celebrations than at the #CHIOAachen, launchpad for the sport’s most coveted prize and a reference point for all equestrian events. More http://on.rolex.com/CHIOAachen #Perpetual', 'As a \\n@MissionBlue\\n Hope Spot Champion, Sandra Bessudo’s goal is to conserve the marine ecosystems around Malpelo Island. She currently works to create additional “swimways” to protect migrating species travelling through the oceans. More on http://bit.ly/malpelo_island_2… #PerpetualPlanet', 'At this week’s Lindau Nobel Laureate Meeting, #RolexAwards for Enterprise winner Grégoire Courtine and Nobel Laureate Randy W. Schekman will discuss harnessing excellence in science for society. We support this event to foster generational exchange. #LIN023 #Perpetual', 'A watch’s autonomy is not just a promise, it is a pact that works both ways. Whether yours or its own, movement will always beget movement. Discover more http://on.rolex.com/autonomy #Watchmaking #Perpetual', 'This year marks the 10th anniversary of the #RolexGrandSlam of Show Jumping. And no better place to begin celebrations than at the #CHIOAachen, launchpad for the sport’s most coveted prize and a reference point for all equestrian events. More http://on.rolex.com/CHIOAachen #Perpetual', 'As a \\n@MissionBlue\\n Hope Spot Champion, Sandra Bessudo’s goal is to conserve the marine ecosystems around Malpelo Island. She currently works to create additional “swimways” to protect migrating species travelling through the oceans. More on http://bit.ly/malpelo_island_2… #PerpetualPlanet', 'At this week’s Lindau Nobel Laureate Meeting, #RolexAwards for Enterprise winner Grégoire Courtine and Nobel Laureate Randy W. Schekman will discuss harnessing excellence in science for society. We support this event to foster generational exchange. #LIN023 #Perpetual', 'The waters around Malpelo Island in the Pacific Ocean are teeming with life. Sandra Bessudo, \\n@MissionBlue\\n Hope Spot Champion, runs expeditions to study the island’s marine species to help protect its incredible ecosystems. More on http://bit.ly/malpelo_island_1… #PerpetualPlanet', 'A watch’s autonomy is not just a promise, it is a pact that works both ways. Whether yours or its own, movement will always beget movement. Discover more http://on.rolex.com/autonomy #Watchmaking #Perpetual', 'This year marks the 10th anniversary of the #RolexGrandSlam of Show Jumping. And no better place to begin celebrations than at the #CHIOAachen, launchpad for the sport’s most coveted prize and a reference point for all equestrian events. More http://on.rolex.com/CHIOAachen #Perpetual', 'As a \\n@MissionBlue\\n Hope Spot Champion, Sandra Bessudo’s goal is to conserve the marine ecosystems around Malpelo Island. She currently works to create additional “swimways” to protect migrating species travelling through the oceans. More on http://bit.ly/malpelo_island_2… #PerpetualPlanet', 'At this week’s Lindau Nobel Laureate Meeting, #RolexAwards for Enterprise winner Grégoire Courtine and Nobel Laureate Randy W. Schekman will discuss harnessing excellence in science for society. We support this event to foster generational exchange. #LIN023 #Perpetual', 'The waters around Malpelo Island in the Pacific Ocean are teeming with life. Sandra Bessudo, \\n@MissionBlue\\n Hope Spot Champion, runs expeditions to study the island’s marine species to help protect its incredible ecosystems. More on http://bit.ly/malpelo_island_1… #PerpetualPlanet', \"'Werther', Massenet's great opera of passion, premiers today at the \\n@RoyalOperaHouse\\n with \\n@tenorkaufmann\\n in the title role, conducted by Sir Antonio Pappano. All are partners in our #PerpetualArts Initiative that supports excellence and contributes to global culture. #RolexFamily\", 'This year marks the 10th anniversary of the #RolexGrandSlam of Show Jumping. And no better place to begin celebrations than at the #CHIOAachen, launchpad for the sport’s most coveted prize and a reference point for all equestrian events. More http://on.rolex.com/CHIOAachen #Perpetual', 'As a \\n@MissionBlue\\n Hope Spot Champion, Sandra Bessudo’s goal is to conserve the marine ecosystems around Malpelo Island. She currently works to create additional “swimways” to protect migrating species travelling through the oceans. More on http://bit.ly/malpelo_island_2… #PerpetualPlanet', 'At this week’s Lindau Nobel Laureate Meeting, #RolexAwards for Enterprise winner Grégoire Courtine and Nobel Laureate Randy W. Schekman will discuss harnessing excellence in science for society. We support this event to foster generational exchange. #LIN023 #Perpetual', 'The waters around Malpelo Island in the Pacific Ocean are teeming with life. Sandra Bessudo, \\n@MissionBlue\\n Hope Spot Champion, runs expeditions to study the island’s marine species to help protect its incredible ecosystems. More on http://bit.ly/malpelo_island_1… #PerpetualPlanet', \"'Werther', Massenet's great opera of passion, premiers today at the \\n@RoyalOperaHouse\\n with \\n@tenorkaufmann\\n in the title role, conducted by Sir Antonio Pappano. All are partners in our #PerpetualArts Initiative that supports excellence and contributes to global culture. #RolexFamily\", 'Whatever the conditions, the #Submariner’s Cerachrom bezel insert remains functional and reliable. Made from a hard, corrosion-resistant ceramic, it is virtually scratchproof and its colour unaffected by ultraviolet rays or seawater. More http://on.rolex.com/Robustness #Perpetual', 'As a \\n@MissionBlue\\n Hope Spot Champion, Sandra Bessudo’s goal is to conserve the marine ecosystems around Malpelo Island. She currently works to create additional “swimways” to protect migrating species travelling through the oceans. More on http://bit.ly/malpelo_island_2… #PerpetualPlanet', 'At this week’s Lindau Nobel Laureate Meeting, #RolexAwards for Enterprise winner Grégoire Courtine and Nobel Laureate Randy W. Schekman will discuss harnessing excellence in science for society. We support this event to foster generational exchange. #LIN023 #Perpetual', 'The waters around Malpelo Island in the Pacific Ocean are teeming with life. Sandra Bessudo, \\n@MissionBlue\\n Hope Spot Champion, runs expeditions to study the island’s marine species to help protect its incredible ecosystems. More on http://bit.ly/malpelo_island_1… #PerpetualPlanet', \"'Werther', Massenet's great opera of passion, premiers today at the \\n@RoyalOperaHouse\\n with \\n@tenorkaufmann\\n in the title role, conducted by Sir Antonio Pappano. All are partners in our #PerpetualArts Initiative that supports excellence and contributes to global culture. #RolexFamily\", 'Whatever the conditions, the #Submariner’s Cerachrom bezel insert remains functional and reliable. Made from a hard, corrosion-resistant ceramic, it is virtually scratchproof and its colour unaffected by ultraviolet rays or seawater. More http://on.rolex.com/Robustness #Perpetual', 'We thank the \\n@usopengolf\\n for bringing us another remarkable championship. The iconic surroundings of The Los Angeles Country Club bore witness to an incredible weekend of golf. #USOpen #Perpetual']\n"
     ]
    }
   ],
   "source": [
    "print(Tweets)"
   ]
  },
  {
   "cell_type": "code",
   "execution_count": 90,
   "id": "a2157010",
   "metadata": {},
   "outputs": [],
   "source": [
    "df = pd.DataFrame(list(zip(TimeStamps,Tweets,Replies,reTweets,Likes)),\n",
    "                 columns=['TimeStamps','Tweets','Replies','reTweets','Likes'])"
   ]
  },
  {
   "cell_type": "code",
   "execution_count": 91,
   "id": "a253089b",
   "metadata": {},
   "outputs": [
    {
     "data": {
      "text/html": [
       "<div>\n",
       "<style scoped>\n",
       "    .dataframe tbody tr th:only-of-type {\n",
       "        vertical-align: middle;\n",
       "    }\n",
       "\n",
       "    .dataframe tbody tr th {\n",
       "        vertical-align: top;\n",
       "    }\n",
       "\n",
       "    .dataframe thead th {\n",
       "        text-align: right;\n",
       "    }\n",
       "</style>\n",
       "<table border=\"1\" class=\"dataframe\">\n",
       "  <thead>\n",
       "    <tr style=\"text-align: right;\">\n",
       "      <th></th>\n",
       "      <th>TimeStamps</th>\n",
       "      <th>Tweets</th>\n",
       "      <th>Replies</th>\n",
       "      <th>reTweets</th>\n",
       "      <th>Likes</th>\n",
       "    </tr>\n",
       "  </thead>\n",
       "  <tbody>\n",
       "    <tr>\n",
       "      <th>0</th>\n",
       "      <td>2023-06-27T14:00:22.000Z</td>\n",
       "      <td>A watch’s autonomy is not just a promise, it i...</td>\n",
       "      <td>10</td>\n",
       "      <td>58</td>\n",
       "      <td>428</td>\n",
       "    </tr>\n",
       "    <tr>\n",
       "      <th>1</th>\n",
       "      <td>2023-06-27T10:00:08.000Z</td>\n",
       "      <td>This year marks the 10th anniversary of the #R...</td>\n",
       "      <td>4</td>\n",
       "      <td>58</td>\n",
       "      <td>140</td>\n",
       "    </tr>\n",
       "    <tr>\n",
       "      <th>2</th>\n",
       "      <td>2023-06-26T12:00:22.000Z</td>\n",
       "      <td>As a \\n@MissionBlue\\n Hope Spot Champion, Sand...</td>\n",
       "      <td>12</td>\n",
       "      <td>58</td>\n",
       "      <td>275</td>\n",
       "    </tr>\n",
       "    <tr>\n",
       "      <th>3</th>\n",
       "      <td>2023-06-27T14:00:22.000Z</td>\n",
       "      <td>A watch’s autonomy is not just a promise, it i...</td>\n",
       "      <td>10</td>\n",
       "      <td>58</td>\n",
       "      <td>428</td>\n",
       "    </tr>\n",
       "    <tr>\n",
       "      <th>4</th>\n",
       "      <td>2023-06-27T10:00:08.000Z</td>\n",
       "      <td>This year marks the 10th anniversary of the #R...</td>\n",
       "      <td>4</td>\n",
       "      <td>58</td>\n",
       "      <td>140</td>\n",
       "    </tr>\n",
       "    <tr>\n",
       "      <th>5</th>\n",
       "      <td>2023-06-26T12:00:22.000Z</td>\n",
       "      <td>As a \\n@MissionBlue\\n Hope Spot Champion, Sand...</td>\n",
       "      <td>12</td>\n",
       "      <td>58</td>\n",
       "      <td>275</td>\n",
       "    </tr>\n",
       "    <tr>\n",
       "      <th>6</th>\n",
       "      <td>2023-06-27T14:00:22.000Z</td>\n",
       "      <td>A watch’s autonomy is not just a promise, it i...</td>\n",
       "      <td>10</td>\n",
       "      <td>58</td>\n",
       "      <td>428</td>\n",
       "    </tr>\n",
       "    <tr>\n",
       "      <th>7</th>\n",
       "      <td>2023-06-27T10:00:08.000Z</td>\n",
       "      <td>This year marks the 10th anniversary of the #R...</td>\n",
       "      <td>4</td>\n",
       "      <td>58</td>\n",
       "      <td>140</td>\n",
       "    </tr>\n",
       "    <tr>\n",
       "      <th>8</th>\n",
       "      <td>2023-06-26T12:00:22.000Z</td>\n",
       "      <td>As a \\n@MissionBlue\\n Hope Spot Champion, Sand...</td>\n",
       "      <td>12</td>\n",
       "      <td>58</td>\n",
       "      <td>275</td>\n",
       "    </tr>\n",
       "    <tr>\n",
       "      <th>9</th>\n",
       "      <td>2023-06-25T08:00:03.000Z</td>\n",
       "      <td>At this week’s Lindau Nobel Laureate Meeting, ...</td>\n",
       "      <td>6</td>\n",
       "      <td>58</td>\n",
       "      <td>211</td>\n",
       "    </tr>\n",
       "    <tr>\n",
       "      <th>10</th>\n",
       "      <td>2023-06-27T14:00:22.000Z</td>\n",
       "      <td>A watch’s autonomy is not just a promise, it i...</td>\n",
       "      <td>10</td>\n",
       "      <td>58</td>\n",
       "      <td>428</td>\n",
       "    </tr>\n",
       "    <tr>\n",
       "      <th>11</th>\n",
       "      <td>2023-06-27T10:00:08.000Z</td>\n",
       "      <td>This year marks the 10th anniversary of the #R...</td>\n",
       "      <td>4</td>\n",
       "      <td>58</td>\n",
       "      <td>140</td>\n",
       "    </tr>\n",
       "    <tr>\n",
       "      <th>12</th>\n",
       "      <td>2023-06-26T12:00:22.000Z</td>\n",
       "      <td>As a \\n@MissionBlue\\n Hope Spot Champion, Sand...</td>\n",
       "      <td>12</td>\n",
       "      <td>58</td>\n",
       "      <td>275</td>\n",
       "    </tr>\n",
       "    <tr>\n",
       "      <th>13</th>\n",
       "      <td>2023-06-25T08:00:03.000Z</td>\n",
       "      <td>At this week’s Lindau Nobel Laureate Meeting, ...</td>\n",
       "      <td>6</td>\n",
       "      <td>58</td>\n",
       "      <td>211</td>\n",
       "    </tr>\n",
       "    <tr>\n",
       "      <th>14</th>\n",
       "      <td>2023-06-22T11:30:27.000Z</td>\n",
       "      <td>The waters around Malpelo Island in the Pacifi...</td>\n",
       "      <td>11</td>\n",
       "      <td>58</td>\n",
       "      <td>337</td>\n",
       "    </tr>\n",
       "    <tr>\n",
       "      <th>15</th>\n",
       "      <td>2023-06-27T14:00:22.000Z</td>\n",
       "      <td>A watch’s autonomy is not just a promise, it i...</td>\n",
       "      <td>10</td>\n",
       "      <td>58</td>\n",
       "      <td>428</td>\n",
       "    </tr>\n",
       "    <tr>\n",
       "      <th>16</th>\n",
       "      <td>2023-06-27T10:00:08.000Z</td>\n",
       "      <td>This year marks the 10th anniversary of the #R...</td>\n",
       "      <td>4</td>\n",
       "      <td>58</td>\n",
       "      <td>140</td>\n",
       "    </tr>\n",
       "    <tr>\n",
       "      <th>17</th>\n",
       "      <td>2023-06-26T12:00:22.000Z</td>\n",
       "      <td>As a \\n@MissionBlue\\n Hope Spot Champion, Sand...</td>\n",
       "      <td>12</td>\n",
       "      <td>58</td>\n",
       "      <td>275</td>\n",
       "    </tr>\n",
       "    <tr>\n",
       "      <th>18</th>\n",
       "      <td>2023-06-25T08:00:03.000Z</td>\n",
       "      <td>At this week’s Lindau Nobel Laureate Meeting, ...</td>\n",
       "      <td>6</td>\n",
       "      <td>58</td>\n",
       "      <td>211</td>\n",
       "    </tr>\n",
       "    <tr>\n",
       "      <th>19</th>\n",
       "      <td>2023-06-22T11:30:27.000Z</td>\n",
       "      <td>The waters around Malpelo Island in the Pacifi...</td>\n",
       "      <td>11</td>\n",
       "      <td>58</td>\n",
       "      <td>337</td>\n",
       "    </tr>\n",
       "    <tr>\n",
       "      <th>20</th>\n",
       "      <td>2023-06-20T14:00:06.000Z</td>\n",
       "      <td>'Werther', Massenet's great opera of passion, ...</td>\n",
       "      <td>5</td>\n",
       "      <td>58</td>\n",
       "      <td>140</td>\n",
       "    </tr>\n",
       "    <tr>\n",
       "      <th>21</th>\n",
       "      <td>2023-06-27T10:00:08.000Z</td>\n",
       "      <td>This year marks the 10th anniversary of the #R...</td>\n",
       "      <td>4</td>\n",
       "      <td>20</td>\n",
       "      <td>140</td>\n",
       "    </tr>\n",
       "    <tr>\n",
       "      <th>22</th>\n",
       "      <td>2023-06-26T12:00:22.000Z</td>\n",
       "      <td>As a \\n@MissionBlue\\n Hope Spot Champion, Sand...</td>\n",
       "      <td>12</td>\n",
       "      <td>20</td>\n",
       "      <td>275</td>\n",
       "    </tr>\n",
       "    <tr>\n",
       "      <th>23</th>\n",
       "      <td>2023-06-25T08:00:03.000Z</td>\n",
       "      <td>At this week’s Lindau Nobel Laureate Meeting, ...</td>\n",
       "      <td>6</td>\n",
       "      <td>20</td>\n",
       "      <td>211</td>\n",
       "    </tr>\n",
       "    <tr>\n",
       "      <th>24</th>\n",
       "      <td>2023-06-22T11:30:27.000Z</td>\n",
       "      <td>The waters around Malpelo Island in the Pacifi...</td>\n",
       "      <td>11</td>\n",
       "      <td>20</td>\n",
       "      <td>337</td>\n",
       "    </tr>\n",
       "    <tr>\n",
       "      <th>25</th>\n",
       "      <td>2023-06-20T14:00:06.000Z</td>\n",
       "      <td>'Werther', Massenet's great opera of passion, ...</td>\n",
       "      <td>5</td>\n",
       "      <td>20</td>\n",
       "      <td>140</td>\n",
       "    </tr>\n",
       "    <tr>\n",
       "      <th>26</th>\n",
       "      <td>2023-06-19T15:00:20.000Z</td>\n",
       "      <td>Whatever the conditions, the #Submariner’s Cer...</td>\n",
       "      <td>19</td>\n",
       "      <td>20</td>\n",
       "      <td>952</td>\n",
       "    </tr>\n",
       "    <tr>\n",
       "      <th>27</th>\n",
       "      <td>2023-06-26T12:00:22.000Z</td>\n",
       "      <td>As a \\n@MissionBlue\\n Hope Spot Champion, Sand...</td>\n",
       "      <td>12</td>\n",
       "      <td>37</td>\n",
       "      <td>275</td>\n",
       "    </tr>\n",
       "    <tr>\n",
       "      <th>28</th>\n",
       "      <td>2023-06-25T08:00:03.000Z</td>\n",
       "      <td>At this week’s Lindau Nobel Laureate Meeting, ...</td>\n",
       "      <td>6</td>\n",
       "      <td>37</td>\n",
       "      <td>211</td>\n",
       "    </tr>\n",
       "    <tr>\n",
       "      <th>29</th>\n",
       "      <td>2023-06-22T11:30:27.000Z</td>\n",
       "      <td>The waters around Malpelo Island in the Pacifi...</td>\n",
       "      <td>11</td>\n",
       "      <td>37</td>\n",
       "      <td>337</td>\n",
       "    </tr>\n",
       "    <tr>\n",
       "      <th>30</th>\n",
       "      <td>2023-06-20T14:00:06.000Z</td>\n",
       "      <td>'Werther', Massenet's great opera of passion, ...</td>\n",
       "      <td>5</td>\n",
       "      <td>37</td>\n",
       "      <td>140</td>\n",
       "    </tr>\n",
       "    <tr>\n",
       "      <th>31</th>\n",
       "      <td>2023-06-19T15:00:20.000Z</td>\n",
       "      <td>Whatever the conditions, the #Submariner’s Cer...</td>\n",
       "      <td>19</td>\n",
       "      <td>37</td>\n",
       "      <td>952</td>\n",
       "    </tr>\n",
       "    <tr>\n",
       "      <th>32</th>\n",
       "      <td>2023-06-19T02:01:11.000Z</td>\n",
       "      <td>We thank the \\n@usopengolf\\n for bringing us a...</td>\n",
       "      <td>7</td>\n",
       "      <td>37</td>\n",
       "      <td>264</td>\n",
       "    </tr>\n",
       "  </tbody>\n",
       "</table>\n",
       "</div>"
      ],
      "text/plain": [
       "                  TimeStamps  \\\n",
       "0   2023-06-27T14:00:22.000Z   \n",
       "1   2023-06-27T10:00:08.000Z   \n",
       "2   2023-06-26T12:00:22.000Z   \n",
       "3   2023-06-27T14:00:22.000Z   \n",
       "4   2023-06-27T10:00:08.000Z   \n",
       "5   2023-06-26T12:00:22.000Z   \n",
       "6   2023-06-27T14:00:22.000Z   \n",
       "7   2023-06-27T10:00:08.000Z   \n",
       "8   2023-06-26T12:00:22.000Z   \n",
       "9   2023-06-25T08:00:03.000Z   \n",
       "10  2023-06-27T14:00:22.000Z   \n",
       "11  2023-06-27T10:00:08.000Z   \n",
       "12  2023-06-26T12:00:22.000Z   \n",
       "13  2023-06-25T08:00:03.000Z   \n",
       "14  2023-06-22T11:30:27.000Z   \n",
       "15  2023-06-27T14:00:22.000Z   \n",
       "16  2023-06-27T10:00:08.000Z   \n",
       "17  2023-06-26T12:00:22.000Z   \n",
       "18  2023-06-25T08:00:03.000Z   \n",
       "19  2023-06-22T11:30:27.000Z   \n",
       "20  2023-06-20T14:00:06.000Z   \n",
       "21  2023-06-27T10:00:08.000Z   \n",
       "22  2023-06-26T12:00:22.000Z   \n",
       "23  2023-06-25T08:00:03.000Z   \n",
       "24  2023-06-22T11:30:27.000Z   \n",
       "25  2023-06-20T14:00:06.000Z   \n",
       "26  2023-06-19T15:00:20.000Z   \n",
       "27  2023-06-26T12:00:22.000Z   \n",
       "28  2023-06-25T08:00:03.000Z   \n",
       "29  2023-06-22T11:30:27.000Z   \n",
       "30  2023-06-20T14:00:06.000Z   \n",
       "31  2023-06-19T15:00:20.000Z   \n",
       "32  2023-06-19T02:01:11.000Z   \n",
       "\n",
       "                                               Tweets Replies reTweets Likes  \n",
       "0   A watch’s autonomy is not just a promise, it i...      10       58   428  \n",
       "1   This year marks the 10th anniversary of the #R...       4       58   140  \n",
       "2   As a \\n@MissionBlue\\n Hope Spot Champion, Sand...      12       58   275  \n",
       "3   A watch’s autonomy is not just a promise, it i...      10       58   428  \n",
       "4   This year marks the 10th anniversary of the #R...       4       58   140  \n",
       "5   As a \\n@MissionBlue\\n Hope Spot Champion, Sand...      12       58   275  \n",
       "6   A watch’s autonomy is not just a promise, it i...      10       58   428  \n",
       "7   This year marks the 10th anniversary of the #R...       4       58   140  \n",
       "8   As a \\n@MissionBlue\\n Hope Spot Champion, Sand...      12       58   275  \n",
       "9   At this week’s Lindau Nobel Laureate Meeting, ...       6       58   211  \n",
       "10  A watch’s autonomy is not just a promise, it i...      10       58   428  \n",
       "11  This year marks the 10th anniversary of the #R...       4       58   140  \n",
       "12  As a \\n@MissionBlue\\n Hope Spot Champion, Sand...      12       58   275  \n",
       "13  At this week’s Lindau Nobel Laureate Meeting, ...       6       58   211  \n",
       "14  The waters around Malpelo Island in the Pacifi...      11       58   337  \n",
       "15  A watch’s autonomy is not just a promise, it i...      10       58   428  \n",
       "16  This year marks the 10th anniversary of the #R...       4       58   140  \n",
       "17  As a \\n@MissionBlue\\n Hope Spot Champion, Sand...      12       58   275  \n",
       "18  At this week’s Lindau Nobel Laureate Meeting, ...       6       58   211  \n",
       "19  The waters around Malpelo Island in the Pacifi...      11       58   337  \n",
       "20  'Werther', Massenet's great opera of passion, ...       5       58   140  \n",
       "21  This year marks the 10th anniversary of the #R...       4       20   140  \n",
       "22  As a \\n@MissionBlue\\n Hope Spot Champion, Sand...      12       20   275  \n",
       "23  At this week’s Lindau Nobel Laureate Meeting, ...       6       20   211  \n",
       "24  The waters around Malpelo Island in the Pacifi...      11       20   337  \n",
       "25  'Werther', Massenet's great opera of passion, ...       5       20   140  \n",
       "26  Whatever the conditions, the #Submariner’s Cer...      19       20   952  \n",
       "27  As a \\n@MissionBlue\\n Hope Spot Champion, Sand...      12       37   275  \n",
       "28  At this week’s Lindau Nobel Laureate Meeting, ...       6       37   211  \n",
       "29  The waters around Malpelo Island in the Pacifi...      11       37   337  \n",
       "30  'Werther', Massenet's great opera of passion, ...       5       37   140  \n",
       "31  Whatever the conditions, the #Submariner’s Cer...      19       37   952  \n",
       "32  We thank the \\n@usopengolf\\n for bringing us a...       7       37   264  "
      ]
     },
     "execution_count": 91,
     "metadata": {},
     "output_type": "execute_result"
    }
   ],
   "source": [
    "df"
   ]
  },
  {
   "cell_type": "code",
   "execution_count": 94,
   "id": "a0ab7b3d",
   "metadata": {},
   "outputs": [],
   "source": [
    "df.to_csv(\"Rolex_Selenium.csv\", index=False) #save into csv files"
   ]
  },
  {
   "cell_type": "code",
   "execution_count": null,
   "id": "3818c9d7",
   "metadata": {},
   "outputs": [],
   "source": []
  }
 ],
 "metadata": {
  "kernelspec": {
   "display_name": "Python 3 (ipykernel)",
   "language": "python",
   "name": "python3"
  },
  "language_info": {
   "codemirror_mode": {
    "name": "ipython",
    "version": 3
   },
   "file_extension": ".py",
   "mimetype": "text/x-python",
   "name": "python",
   "nbconvert_exporter": "python",
   "pygments_lexer": "ipython3",
   "version": "3.10.1"
  }
 },
 "nbformat": 4,
 "nbformat_minor": 5
}
