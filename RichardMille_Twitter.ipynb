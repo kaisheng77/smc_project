{
  "nbformat": 4,
  "nbformat_minor": 0,
  "metadata": {
    "colab": {
      "provenance": []
    },
    "kernelspec": {
      "name": "python3",
      "display_name": "Python 3"
    },
    "language_info": {
      "name": "python"
    }
  },
  "cells": [
    {
      "cell_type": "code",
      "execution_count": 1,
      "metadata": {
        "id": "69YY3jaI9uih"
      },
      "outputs": [],
      "source": [
        "### Imports go here\n",
        "import tweepy\n",
        "from tweepy import OAuthHandler\n",
        "import pandas as pd\n",
        "import json\n",
        "import time\n",
        "import datetime\n",
        "import pytz\n",
        "from google.colab import files\n",
        "import statistics\n",
        "\n",
        "consumer_key = \"Wj2lTBcBUscgL8kYfDp0wtft4\"\n",
        "consumer_secret = \"0TJPWVSnSCd0bvMUmWRxe9FrlEerx3b4VZ0i2PgMjQ0YCDJFhd\"\n",
        "access_token = \"1643093376491999233-i2CjqnMkx1G9fnMVpoGpPDUbAfR0sC\"\n",
        "access_token_secret = \"gRX8fwR2qD4Yo19PHRLfPaLKVpbBGBqlqpvBZlfN8iDXl\"\n",
        "\n",
        "auth = OAuthHandler(consumer_key, consumer_secret)\n",
        "auth.set_access_token(access_token, access_token_secret)\n",
        "api = tweepy.API(auth, wait_on_rate_limit=True)"
      ]
    },
    {
      "cell_type": "code",
      "source": [
        "### Function to retrieve tweet from brand's stream\n",
        "engagementrate = []\n",
        "subs = [76449, 76455, 76461, 76473, 76493]\n",
        "date = [datetime.datetime(2023,6,6,0,0,0,0,pytz.UTC),datetime.datetime(2023,6,7,0,0,0,0,pytz.UTC),datetime.datetime(2023,6,8,0,0,0,0,pytz.UTC)\n",
        "        ,datetime.datetime(2023,6,9,0,0,0,0,pytz.UTC),datetime.datetime(2023,6,10,0,0,0,0,pytz.UTC)]\n",
        "amplification = []\n",
        "likespertweet = []\n",
        "user_id = 'Richard_Mille'\n",
        "\n",
        "def getTweet(x):\n",
        "  tweets = []\n",
        "  id = ''\n",
        "  text = ''\n",
        "  retweet = 0\n",
        "  favorite = 0\n",
        "  #user = api.get_user(screen_name=user_id)\n",
        "  tweet = api.user_timeline(screen_name = user_id, count=100)\n",
        "  tweetsondate = []\n",
        "  i = 0\n",
        "\n",
        "  for t in tweet:\n",
        "                       # datetime.datetime.now()\n",
        "      if t.created_at <= date[x]:\n",
        "        if i < 30:\n",
        "           # calculate engagement for each tweet             #user.followers_count\n",
        "          engagement = (t.retweet_count + t.favorite_count) / subs[x] * 100\n",
        "          # calculate amplification for each tweet\n",
        "          amplification = (t.retweet_count) / subs[x] * 100\n",
        "                                                                                             #user.followers_count\n",
        "          tweetsondate.append([t.id, t.text, t.created_at, t.retweet_count, t.favorite_count, subs[x], engagement, amplification])\n",
        "          i+=1\n",
        "  columns= [\"Tweet ID\", \"Tweet Text\", \"Tweet date\", \"Retweet Count\", \"Favorite Count\", \"Followers\", \"Engagement Rate\", \"Amplification Rate\"]\n",
        "  tweets_df = pd.DataFrame(tweetsondate, columns = columns)\n",
        "  return tweets_df\n",
        "\n",
        "for x in range(len(date)):\n",
        "  engagement =getTweet(x)\n",
        "  total = totalampli = 0\n",
        "  for i in range(len(engagement)):\n",
        "    total += engagement['Engagement Rate'][i]\n",
        "    totalampli += engagement['Amplification Rate'][i]\n",
        "\n",
        "  #calculate average likes per tweet\n",
        "  likespertweet.append(statistics.mean(engagement['Favorite Count']))\n",
        "\n",
        "  #calculation engagement rate\n",
        "  engagementrate.append(total/len(engagement))\n",
        "\n",
        "  #calculate amplication rate\n",
        "  amplification.append(totalampli/len(engagement))"
      ],
      "metadata": {
        "id": "0BRARkOeMzpk"
      },
      "execution_count": 2,
      "outputs": []
    },
    {
      "cell_type": "code",
      "source": [
        "tweets = [3483, 3483, 3483, 3483, 3483]\n",
        "avgtweets = []\n",
        "for x in range(len(date)):\n",
        "  user = api.get_user(screen_name=user_id)\n",
        "              # datetime.datetime.now()\n",
        "  difference = date[x] - user.created_at\n",
        "  #calculate average tweets per day\n",
        "  avgtweets.append(tweets[x]/difference.days)"
      ],
      "metadata": {
        "id": "Ot7xLs8IF2v2"
      },
      "execution_count": 3,
      "outputs": []
    },
    {
      "cell_type": "code",
      "source": [
        "columns= [\"Date\", \"Followers\", \"Audience Growth Rate\", \"Engagement Rate\", \"Amplification Rate\", \"Average Likes per tweet\", \"Average Tweets per day\"]\n",
        "tweets_df = pd.DataFrame(columns = columns)\n",
        "tweets_df['Followers'] = subs\n",
        "tweets_df['Engagement Rate'] = engagementrate\n",
        "tweets_df['Date'] = date\n",
        "tweets_df['Amplification Rate'] = amplification\n",
        "tweets_df['Average Likes per tweet'] = likespertweet\n",
        "tweets_df['Average Tweets per day'] = avgtweets"
      ],
      "metadata": {
        "id": "MwtaO942O-O2"
      },
      "execution_count": 4,
      "outputs": []
    },
    {
      "cell_type": "code",
      "source": [
        "#calculation of audience growth rate\n",
        "tweets_df['Audience Growth Rate'][0] = 0\n",
        "for i in range(len(tweets_df)-1):\n",
        "  tweets_df['Audience Growth Rate'][i+1] = (tweets_df['Followers'][i+1] - tweets_df['Followers'][i]) / tweets_df['Followers'][i]"
      ],
      "metadata": {
        "colab": {
          "base_uri": "https://localhost:8080/"
        },
        "id": "VYFIl-icPyMJ",
        "outputId": "3e4e2f64-c93d-46de-b662-9a30e5790e39"
      },
      "execution_count": 5,
      "outputs": [
        {
          "output_type": "stream",
          "name": "stderr",
          "text": [
            "<ipython-input-5-ec5894ed59b2>:2: SettingWithCopyWarning: \n",
            "A value is trying to be set on a copy of a slice from a DataFrame\n",
            "\n",
            "See the caveats in the documentation: https://pandas.pydata.org/pandas-docs/stable/user_guide/indexing.html#returning-a-view-versus-a-copy\n",
            "  tweets_df['Audience Growth Rate'][0] = 0\n",
            "<ipython-input-5-ec5894ed59b2>:4: SettingWithCopyWarning: \n",
            "A value is trying to be set on a copy of a slice from a DataFrame\n",
            "\n",
            "See the caveats in the documentation: https://pandas.pydata.org/pandas-docs/stable/user_guide/indexing.html#returning-a-view-versus-a-copy\n",
            "  tweets_df['Audience Growth Rate'][i+1] = (tweets_df['Followers'][i+1] - tweets_df['Followers'][i]) / tweets_df['Followers'][i]\n"
          ]
        }
      ]
    },
    {
      "cell_type": "code",
      "source": [
        "tweets_df"
      ],
      "metadata": {
        "colab": {
          "base_uri": "https://localhost:8080/",
          "height": 206
        },
        "id": "dGcgwbzJRffd",
        "outputId": "23c55c40-86e4-408a-9ed5-5935cb5eaa66"
      },
      "execution_count": 6,
      "outputs": [
        {
          "output_type": "execute_result",
          "data": {
            "text/plain": [
              "                       Date  Followers Audience Growth Rate  Engagement Rate  \\\n",
              "0 2023-06-06 00:00:00+00:00      76449                    0         0.171400   \n",
              "1 2023-06-07 00:00:00+00:00      76455             0.000078         0.171386   \n",
              "2 2023-06-08 00:00:00+00:00      76461             0.000078         0.171373   \n",
              "3 2023-06-09 00:00:00+00:00      76473             0.000157         0.171346   \n",
              "4 2023-06-10 00:00:00+00:00      76493             0.000262         0.171301   \n",
              "\n",
              "   Amplification Rate  Average Likes per tweet  Average Tweets per day  \n",
              "0            0.017484               117.666667                0.864483  \n",
              "1            0.017483               117.666667                0.864268  \n",
              "2            0.017482               117.666667                0.864054  \n",
              "3            0.017479               117.666667                0.863839  \n",
              "4            0.017474               117.666667                0.863625  "
            ],
            "text/html": [
              "\n",
              "  <div id=\"df-ec8fe1e3-6091-419e-83ac-7604a9080d72\">\n",
              "    <div class=\"colab-df-container\">\n",
              "      <div>\n",
              "<style scoped>\n",
              "    .dataframe tbody tr th:only-of-type {\n",
              "        vertical-align: middle;\n",
              "    }\n",
              "\n",
              "    .dataframe tbody tr th {\n",
              "        vertical-align: top;\n",
              "    }\n",
              "\n",
              "    .dataframe thead th {\n",
              "        text-align: right;\n",
              "    }\n",
              "</style>\n",
              "<table border=\"1\" class=\"dataframe\">\n",
              "  <thead>\n",
              "    <tr style=\"text-align: right;\">\n",
              "      <th></th>\n",
              "      <th>Date</th>\n",
              "      <th>Followers</th>\n",
              "      <th>Audience Growth Rate</th>\n",
              "      <th>Engagement Rate</th>\n",
              "      <th>Amplification Rate</th>\n",
              "      <th>Average Likes per tweet</th>\n",
              "      <th>Average Tweets per day</th>\n",
              "    </tr>\n",
              "  </thead>\n",
              "  <tbody>\n",
              "    <tr>\n",
              "      <th>0</th>\n",
              "      <td>2023-06-06 00:00:00+00:00</td>\n",
              "      <td>76449</td>\n",
              "      <td>0</td>\n",
              "      <td>0.171400</td>\n",
              "      <td>0.017484</td>\n",
              "      <td>117.666667</td>\n",
              "      <td>0.864483</td>\n",
              "    </tr>\n",
              "    <tr>\n",
              "      <th>1</th>\n",
              "      <td>2023-06-07 00:00:00+00:00</td>\n",
              "      <td>76455</td>\n",
              "      <td>0.000078</td>\n",
              "      <td>0.171386</td>\n",
              "      <td>0.017483</td>\n",
              "      <td>117.666667</td>\n",
              "      <td>0.864268</td>\n",
              "    </tr>\n",
              "    <tr>\n",
              "      <th>2</th>\n",
              "      <td>2023-06-08 00:00:00+00:00</td>\n",
              "      <td>76461</td>\n",
              "      <td>0.000078</td>\n",
              "      <td>0.171373</td>\n",
              "      <td>0.017482</td>\n",
              "      <td>117.666667</td>\n",
              "      <td>0.864054</td>\n",
              "    </tr>\n",
              "    <tr>\n",
              "      <th>3</th>\n",
              "      <td>2023-06-09 00:00:00+00:00</td>\n",
              "      <td>76473</td>\n",
              "      <td>0.000157</td>\n",
              "      <td>0.171346</td>\n",
              "      <td>0.017479</td>\n",
              "      <td>117.666667</td>\n",
              "      <td>0.863839</td>\n",
              "    </tr>\n",
              "    <tr>\n",
              "      <th>4</th>\n",
              "      <td>2023-06-10 00:00:00+00:00</td>\n",
              "      <td>76493</td>\n",
              "      <td>0.000262</td>\n",
              "      <td>0.171301</td>\n",
              "      <td>0.017474</td>\n",
              "      <td>117.666667</td>\n",
              "      <td>0.863625</td>\n",
              "    </tr>\n",
              "  </tbody>\n",
              "</table>\n",
              "</div>\n",
              "      <button class=\"colab-df-convert\" onclick=\"convertToInteractive('df-ec8fe1e3-6091-419e-83ac-7604a9080d72')\"\n",
              "              title=\"Convert this dataframe to an interactive table.\"\n",
              "              style=\"display:none;\">\n",
              "        \n",
              "  <svg xmlns=\"http://www.w3.org/2000/svg\" height=\"24px\"viewBox=\"0 0 24 24\"\n",
              "       width=\"24px\">\n",
              "    <path d=\"M0 0h24v24H0V0z\" fill=\"none\"/>\n",
              "    <path d=\"M18.56 5.44l.94 2.06.94-2.06 2.06-.94-2.06-.94-.94-2.06-.94 2.06-2.06.94zm-11 1L8.5 8.5l.94-2.06 2.06-.94-2.06-.94L8.5 2.5l-.94 2.06-2.06.94zm10 10l.94 2.06.94-2.06 2.06-.94-2.06-.94-.94-2.06-.94 2.06-2.06.94z\"/><path d=\"M17.41 7.96l-1.37-1.37c-.4-.4-.92-.59-1.43-.59-.52 0-1.04.2-1.43.59L10.3 9.45l-7.72 7.72c-.78.78-.78 2.05 0 2.83L4 21.41c.39.39.9.59 1.41.59.51 0 1.02-.2 1.41-.59l7.78-7.78 2.81-2.81c.8-.78.8-2.07 0-2.86zM5.41 20L4 18.59l7.72-7.72 1.47 1.35L5.41 20z\"/>\n",
              "  </svg>\n",
              "      </button>\n",
              "      \n",
              "  <style>\n",
              "    .colab-df-container {\n",
              "      display:flex;\n",
              "      flex-wrap:wrap;\n",
              "      gap: 12px;\n",
              "    }\n",
              "\n",
              "    .colab-df-convert {\n",
              "      background-color: #E8F0FE;\n",
              "      border: none;\n",
              "      border-radius: 50%;\n",
              "      cursor: pointer;\n",
              "      display: none;\n",
              "      fill: #1967D2;\n",
              "      height: 32px;\n",
              "      padding: 0 0 0 0;\n",
              "      width: 32px;\n",
              "    }\n",
              "\n",
              "    .colab-df-convert:hover {\n",
              "      background-color: #E2EBFA;\n",
              "      box-shadow: 0px 1px 2px rgba(60, 64, 67, 0.3), 0px 1px 3px 1px rgba(60, 64, 67, 0.15);\n",
              "      fill: #174EA6;\n",
              "    }\n",
              "\n",
              "    [theme=dark] .colab-df-convert {\n",
              "      background-color: #3B4455;\n",
              "      fill: #D2E3FC;\n",
              "    }\n",
              "\n",
              "    [theme=dark] .colab-df-convert:hover {\n",
              "      background-color: #434B5C;\n",
              "      box-shadow: 0px 1px 3px 1px rgba(0, 0, 0, 0.15);\n",
              "      filter: drop-shadow(0px 1px 2px rgba(0, 0, 0, 0.3));\n",
              "      fill: #FFFFFF;\n",
              "    }\n",
              "  </style>\n",
              "\n",
              "      <script>\n",
              "        const buttonEl =\n",
              "          document.querySelector('#df-ec8fe1e3-6091-419e-83ac-7604a9080d72 button.colab-df-convert');\n",
              "        buttonEl.style.display =\n",
              "          google.colab.kernel.accessAllowed ? 'block' : 'none';\n",
              "\n",
              "        async function convertToInteractive(key) {\n",
              "          const element = document.querySelector('#df-ec8fe1e3-6091-419e-83ac-7604a9080d72');\n",
              "          const dataTable =\n",
              "            await google.colab.kernel.invokeFunction('convertToInteractive',\n",
              "                                                     [key], {});\n",
              "          if (!dataTable) return;\n",
              "\n",
              "          const docLinkHtml = 'Like what you see? Visit the ' +\n",
              "            '<a target=\"_blank\" href=https://colab.research.google.com/notebooks/data_table.ipynb>data table notebook</a>'\n",
              "            + ' to learn more about interactive tables.';\n",
              "          element.innerHTML = '';\n",
              "          dataTable['output_type'] = 'display_data';\n",
              "          await google.colab.output.renderOutput(dataTable, element);\n",
              "          const docLink = document.createElement('div');\n",
              "          docLink.innerHTML = docLinkHtml;\n",
              "          element.appendChild(docLink);\n",
              "        }\n",
              "      </script>\n",
              "    </div>\n",
              "  </div>\n",
              "  "
            ]
          },
          "metadata": {},
          "execution_count": 6
        }
      ]
    },
    {
      "cell_type": "code",
      "source": [
        "tweets_df.to_csv('RichardMille_Twitter.csv', index = False)"
      ],
      "metadata": {
        "id": "9mop_dYeEav5"
      },
      "execution_count": 7,
      "outputs": []
    },
    {
      "cell_type": "code",
      "source": [],
      "metadata": {
        "id": "19XyAfZWItAl"
      },
      "execution_count": 7,
      "outputs": []
    }
  ]
}