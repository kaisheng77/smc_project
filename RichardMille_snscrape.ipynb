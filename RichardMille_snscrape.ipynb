{
  "nbformat": 4,
  "nbformat_minor": 0,
  "metadata": {
    "colab": {
      "provenance": []
    },
    "kernelspec": {
      "name": "python3",
      "display_name": "Python 3"
    },
    "language_info": {
      "name": "python"
    }
  },
  "cells": [
    {
      "cell_type": "code",
      "source": [
        "!pip install snscrape"
      ],
      "metadata": {
        "id": "0BHMFux02JTy"
      },
      "execution_count": null,
      "outputs": []
    },
    {
      "cell_type": "code",
      "execution_count": 4,
      "metadata": {
        "id": "KhURoW8tvNeY"
      },
      "outputs": [],
      "source": [
        "import pandas as pd\n",
        "from tqdm.notebook import tqdm\n",
        "import snscrape.modules.twitter as sntwitter"
      ]
    },
    {
      "cell_type": "code",
      "source": [
        "scraper = sntwitter.TwitterUserScraper('Richard_Mille')\n",
        "\n",
        "tweets = []\n",
        "\n",
        "for i, tweet in enumerate(scraper.get_items()):\n",
        "  data = [tweet.date, tweet.id, tweet.content, tweet.likeCount, tweet.retweetCount]\n",
        "  tweets.append(data)\n",
        "  if i == 29:\n",
        "    break\n",
        "\n",
        "df = pd.DataFrame(tweets, columns=['created_at', 'id', 'content', 'like_count', 'retweet_count'])\n",
        "df.to_csv('RichardMille_snscrape.csv', index = False)"
      ],
      "metadata": {
        "colab": {
          "base_uri": "https://localhost:8080/"
        },
        "id": "TQjCxqfxv8F1",
        "outputId": "880dc91f-12df-4b0b-da48-4d97ce399742"
      },
      "execution_count": 42,
      "outputs": [
        {
          "output_type": "stream",
          "name": "stderr",
          "text": [
            "<ipython-input-42-e9ad37ff6166>:6: DeprecatedFeatureWarning: content is deprecated, use rawContent instead\n",
            "  data = [tweet.date, tweet.id, tweet.content, tweet.likeCount, tweet.retweetCount]\n"
          ]
        }
      ]
    }
  ]
}